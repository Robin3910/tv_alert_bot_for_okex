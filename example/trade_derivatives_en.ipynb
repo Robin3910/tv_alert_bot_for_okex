{
 "cells": [
  {
   "cell_type": "markdown",
   "metadata": {
    "pycharm": {
     "name": "#%% md\n"
    }
   },
   "source": [
    "# Trade derivatives\n",
    "\n",
    "## Derivatives Types\n",
    "There are three derivatives types available for trading at OKX. \n",
    "- Futures\n",
    "- Perpetual swaps\n",
    "- Options\n",
    "You can refer to [Derivatives Explained](https://www.okx.com/academy/en/bitcoin-derivatives-explained-futures-perpetual-swaps-and-options) for explanations and more information. \n",
    "We will use Perpetual swaps as examples in this tutorial.\n"
   ]
  },
  {
   "cell_type": "markdown",
   "metadata": {
    "pycharm": {
     "name": "#%% md\n"
    }
   },
   "source": [
    "## Import API modules\n",
    "The following modules are available\n",
    "- Trade\n",
    "- BlockTrading\n",
    "- Funding\n",
    "- Account\n",
    "- Convert\n",
    "- Earning\n",
    "- SubAccount\n",
    "- MarketData\n",
    "- PublicData\n",
    "- TradingData\n",
    "- Status\n",
    "- NDBroker\n",
    "- FDBroker"
   ]
  },
  {
   "cell_type": "code",
   "execution_count": 1,
   "metadata": {
    "pycharm": {
     "name": "#%%\n"
    }
   },
   "outputs": [],
   "source": [
    "import okx.Trade as Trade"
   ]
  },
  {
   "cell_type": "markdown",
   "metadata": {
    "pycharm": {
     "name": "#%% md\n"
    }
   },
   "source": [
    "## Fill in your API key details"
   ]
  },
  {
   "cell_type": "code",
   "execution_count": 2,
   "metadata": {
    "pycharm": {
     "name": "#%%\n"
    }
   },
   "outputs": [],
   "source": [
    "api_key = \"xxxx\"\n",
    "secret_key = \"xxxx\"\n",
    "passphrase = \"xxx\""
   ]
  },
  {
   "cell_type": "markdown",
   "metadata": {
    "pycharm": {
     "name": "#%% md\n"
    }
   },
   "source": [
    "## Get available funds"
   ]
  },
  {
   "cell_type": "code",
   "execution_count": 3,
   "metadata": {
    "pycharm": {
     "name": "#%%\n"
    }
   },
   "outputs": [
    {
     "name": "stderr",
     "output_type": "stream",
     "text": [
      "\u001b[32m2024-12-12 11:29:00.375\u001b[0m | \u001b[34m\u001b[1mDEBUG   \u001b[0m | \u001b[36mokx.utils\u001b[0m:\u001b[36mpre_hash\u001b[0m:\u001b[36m18\u001b[0m - \u001b[34m\u001b[1mbody: \u001b[0m\n",
      "\u001b[32m2024-12-12 11:29:00.375\u001b[0m | \u001b[34m\u001b[1mDEBUG   \u001b[0m | \u001b[36mokx.utils\u001b[0m:\u001b[36mget_header\u001b[0m:\u001b[36m31\u001b[0m - \u001b[34m\u001b[1mheader: {'Content-Type': 'application/json', 'OK-ACCESS-KEY': '80791c49-301a-401e-9e5a-5ec357eaacc9', 'OK-ACCESS-SIGN': b'bkIJ+hftkVSTtyECGFOQk/T50mr6eLUk1ojNlxgQLzA=', 'OK-ACCESS-TIMESTAMP': '2024-12-12T03:29:00.375Z', 'OK-ACCESS-PASSPHRASE': 'Robin3910!', 'x-simulated-trading': '1'}\u001b[0m\n",
      "\u001b[32m2024-12-12 11:29:00.376\u001b[0m | \u001b[34m\u001b[1mDEBUG   \u001b[0m | \u001b[36mokx.okxclient\u001b[0m:\u001b[36m_request\u001b[0m:\u001b[36m42\u001b[0m - \u001b[34m\u001b[1mdomain: https://www.okx.com\u001b[0m\n",
      "\u001b[32m2024-12-12 11:29:00.376\u001b[0m | \u001b[34m\u001b[1mDEBUG   \u001b[0m | \u001b[36mokx.okxclient\u001b[0m:\u001b[36m_request\u001b[0m:\u001b[36m43\u001b[0m - \u001b[34m\u001b[1murl: /api/v5/asset/currencies\u001b[0m\n",
      "\u001b[32m2024-12-12 11:29:00.376\u001b[0m | \u001b[34m\u001b[1mDEBUG   \u001b[0m | \u001b[36mokx.okxclient\u001b[0m:\u001b[36m_request\u001b[0m:\u001b[36m44\u001b[0m - \u001b[34m\u001b[1mbody:\u001b[0m\n"
     ]
    },
    {
     "name": "stdout",
     "output_type": "stream",
     "text": [
      "{'code': '50038', 'data': [], 'msg': 'This feature is unavailable in demo trading'}\n"
     ]
    }
   ],
   "source": [
    "import okx.Funding as Funding\n",
    "\n",
    "flag = \"1\"  # live trading:0 , demo trading：1\n",
    "\n",
    "fundingAPI = Funding.FundingAPI(api_key, secret_key, passphrase, False, flag)\n",
    "\n",
    "result = fundingAPI.get_currencies()\n",
    "print(result)"
   ]
  },
  {
   "cell_type": "markdown",
   "metadata": {
    "pycharm": {
     "name": "#%% md\n"
    }
   },
   "source": [
    "## Get market data\n",
    "You can also replace instType with \"FUTURES\" or \"OPTION\" for your information."
   ]
  },
  {
   "cell_type": "code",
   "execution_count": 4,
   "metadata": {
    "pycharm": {
     "name": "#%%\n"
    }
   },
   "outputs": [
    {
     "name": "stderr",
     "output_type": "stream",
     "text": [
      "\u001b[32m2024-12-12 11:29:04.636\u001b[0m | \u001b[34m\u001b[1mDEBUG   \u001b[0m | \u001b[36mokx.utils\u001b[0m:\u001b[36mget_header_no_sign\u001b[0m:\u001b[36m39\u001b[0m - \u001b[34m\u001b[1mheader: {'Content-Type': 'application/json', 'x-simulated-trading': '1'}\u001b[0m\n",
      "\u001b[32m2024-12-12 11:29:04.636\u001b[0m | \u001b[34m\u001b[1mDEBUG   \u001b[0m | \u001b[36mokx.okxclient\u001b[0m:\u001b[36m_request\u001b[0m:\u001b[36m42\u001b[0m - \u001b[34m\u001b[1mdomain: https://www.okx.com\u001b[0m\n",
      "\u001b[32m2024-12-12 11:29:04.637\u001b[0m | \u001b[34m\u001b[1mDEBUG   \u001b[0m | \u001b[36mokx.okxclient\u001b[0m:\u001b[36m_request\u001b[0m:\u001b[36m43\u001b[0m - \u001b[34m\u001b[1murl: /api/v5/market/tickers?instType=SWAP\u001b[0m\n",
      "\u001b[32m2024-12-12 11:29:04.637\u001b[0m | \u001b[34m\u001b[1mDEBUG   \u001b[0m | \u001b[36mokx.okxclient\u001b[0m:\u001b[36m_request\u001b[0m:\u001b[36m44\u001b[0m - \u001b[34m\u001b[1mbody:\u001b[0m\n"
     ]
    },
    {
     "name": "stdout",
     "output_type": "stream",
     "text": [
      "{'code': '0', 'msg': '', 'data': [{'instType': 'SWAP', 'instId': 'ETC-USDT-SWAP', 'last': '34.92', 'lastSz': '176.9', 'askPx': '34.91', 'askSz': '196.9', 'bidPx': '34.89', 'bidSz': '200.7', 'open24h': '30.08', 'high24h': '34.93', 'low24h': '29.6', 'volCcy24h': '2848754', 'vol24h': '284875.4', 'ts': '1733974142503', 'sodUtc0': '33.51', 'sodUtc8': '33.27'}, {'instType': 'SWAP', 'instId': 'CETUS-USDT-SWAP', 'last': '0.41957', 'lastSz': '12493', 'askPx': '0.41957', 'askSz': '1599', 'bidPx': '0.41955', 'bidSz': '15736', 'open24h': '0.32789', 'high24h': '0.42225', 'low24h': '0.31812', 'volCcy24h': '990585590', 'vol24h': '99058559', 'ts': '1733974143403', 'sodUtc0': '0.38512', 'sodUtc8': '0.36414'}, {'instType': 'SWAP', 'instId': 'CRV-USDT-SWAP', 'last': '1.1629', 'lastSz': '63527', 'askPx': '1.1629', 'askSz': '2113', 'bidPx': '1.1624', 'bidSz': '56503', 'open24h': '1.0324', 'high24h': '1.165', 'low24h': '1.0128', 'volCcy24h': '268708196', 'vol24h': '268708196', 'ts': '1733974141703', 'sodUtc0': '1.133', 'sodUtc8': '1.1174'}, {'instType': 'SWAP', 'instId': 'SUSHI-USDT-SWAP', 'last': '2.5773', 'lastSz': '25259', 'askPx': '2.5806', 'askSz': '20191', 'bidPx': '2.5798', 'bidSz': '29307', 'open24h': '2.0121', 'high24h': '2.582', 'low24h': '1.9267', 'volCcy24h': '175544202', 'vol24h': '175544202', 'ts': '1733974141504', 'sodUtc0': '2.3084', 'sodUtc8': '2.1885'}, {'instType': 'SWAP', 'instId': 'XLM-USDT-SWAP', 'last': '0.4413', 'lastSz': '3', 'askPx': '0.4412', 'askSz': '1292', 'bidPx': '0.44119', 'bidSz': '1728', 'open24h': '0.4158', 'high24h': '0.45484', 'low24h': '0.40568', 'volCcy24h': '997823400', 'vol24h': '9978234', 'ts': '1733974143403', 'sodUtc0': '0.43537', 'sodUtc8': '0.43713'}, {'instType': 'SWAP', 'instId': 'ID-USDT-SWAP', 'last': '0.566', 'lastSz': '10288', 'askPx': '0.5664', 'askSz': '10811', 'bidPx': '0.5662', 'bidSz': '12216', 'open24h': '0.4995', 'high24h': '0.566', 'low24h': '0.4906', 'volCcy24h': '77654280', 'vol24h': '7765428', 'ts': '1733974143703', 'sodUtc0': '0.5443', 'sodUtc8': '0.5426'}, {'instType': 'SWAP', 'instId': 'THETA-USDT-SWAP', 'last': '2.6969', 'lastSz': '2017', 'askPx': '2.6968', 'askSz': '2912', 'bidPx': '2.6962', 'bidSz': '2143', 'open24h': '2.4284', 'high24h': '2.7003', 'low24h': '2.3651', 'volCcy24h': '70736740', 'vol24h': '7073674', 'ts': '1733974143503', 'sodUtc0': '2.5823', 'sodUtc8': '2.6395'}, {'instType': 'SWAP', 'instId': 'CRO-USDT-SWAP', 'last': '0.19341', 'lastSz': '11', 'askPx': '0.1934', 'askSz': '28361', 'bidPx': '0.19339', 'bidSz': '30796', 'open24h': '0.17113', 'high24h': '0.19623', 'low24h': '0.16766', 'volCcy24h': '981645770', 'vol24h': '98164577', 'ts': '1733974140303', 'sodUtc0': '0.18446', 'sodUtc8': '0.18416'}, {'instType': 'SWAP', 'instId': 'RON-USDT-SWAP', 'last': '2.223', 'lastSz': '9', 'askPx': '2.226', 'askSz': '33232', 'bidPx': '2.225', 'bidSz': '23905', 'open24h': '1.97', 'high24h': '2.223', 'low24h': '1.964', 'volCcy24h': '1261375', 'vol24h': '1261375', 'ts': '1733974143403', 'sodUtc0': '2.168', 'sodUtc8': '2.146'}, {'instType': 'SWAP', 'instId': 'UNI-USDT-SWAP', 'last': '18.061', 'lastSz': '484', 'askPx': '18.061', 'askSz': '2793', 'bidPx': '18.059', 'bidSz': '4192', 'open24h': '15.601', 'high24h': '18.098', 'low24h': '15.224', 'volCcy24h': '21372811', 'vol24h': '21372811', 'ts': '1733974143603', 'sodUtc0': '17.158', 'sodUtc8': '17.001'}, {'instType': 'SWAP', 'instId': 'LTC-USDT-SWAP', 'last': '121.77', 'lastSz': '585.9', 'askPx': '121.78', 'askSz': '569.4', 'bidPx': '121.71', 'bidSz': '576.2', 'open24h': '110.23', 'high24h': '125.47', 'low24h': '107.07', 'volCcy24h': '11672655', 'vol24h': '11682529.6', 'ts': '1733974142403', 'sodUtc0': '117.32', 'sodUtc8': '116.85'}, {'instType': 'SWAP', 'instId': 'SUI-USD-SWAP', 'last': '4.0162', 'lastSz': '1', 'askPx': '', 'askSz': '0', 'bidPx': '4.1685', 'bidSz': '14', 'open24h': '4.0162', 'high24h': '4.0162', 'low24h': '4.0162', 'volCcy24h': '0', 'vol24h': '0', 'ts': '1733974140015', 'sodUtc0': '4.0162', 'sodUtc8': '4.0162'}, {'instType': 'SWAP', 'instId': 'INJ-USDT-SWAP', 'last': '30.088', 'lastSz': '18876', 'askPx': '30.117', 'askSz': '24508', 'bidPx': '30.112', 'bidSz': '21640', 'open24h': '27.273', 'high24h': '30.139', 'low24h': '26.839', 'volCcy24h': '6065738.9', 'vol24h': '60657389', 'ts': '1733974143504', 'sodUtc0': '28.803', 'sodUtc8': '28.632'}, {'instType': 'SWAP', 'instId': 'BTC-USDT-SWAP', 'last': '101413.1', 'lastSz': '102.8', 'askPx': '101413.1', 'askSz': '564.8', 'bidPx': '101404.8', 'bidSz': '707.2', 'open24h': '97299.9', 'high24h': '103369.4', 'low24h': '96333.3', 'volCcy24h': '530940.02', 'vol24h': '53128549.8', 'ts': '1733974143803', 'sodUtc0': '101130.6', 'sodUtc8': '100359.7'}, {'instType': 'SWAP', 'instId': 'BNB-USDT-SWAP', 'last': '723.5', 'lastSz': '10011', 'askPx': '722.7', 'askSz': '8060', 'bidPx': '722.6', 'bidSz': '7245', 'open24h': '679', 'high24h': '723.5', 'low24h': '653.4', 'volCcy24h': '135449.18', 'vol24h': '13544918', 'ts': '1733974140012', 'sodUtc0': '711.3', 'sodUtc8': '695.1'}, {'instType': 'SWAP', 'instId': 'NEO-USDT-SWAP', 'last': '19.069', 'lastSz': '3387', 'askPx': '19.069', 'askSz': '310', 'bidPx': '19.068', 'bidSz': '2704', 'open24h': '17.111', 'high24h': '19.083', 'low24h': '16.652', 'volCcy24h': '7647469', 'vol24h': '7647469', 'ts': '1733974142903', 'sodUtc0': '18.235', 'sodUtc8': '18.431'}, {'instType': 'SWAP', 'instId': 'AVAX-USDT-SWAP', 'last': '50.235', 'lastSz': '1326.4', 'askPx': '50.239', 'askSz': '1289.3', 'bidPx': '50.233', 'bidSz': '1162.3', 'open24h': '44.358', 'high24h': '50.252', 'low24h': '42.28', 'volCcy24h': '10137633', 'vol24h': '10137492.4', 'ts': '1733974142903', 'sodUtc0': '48.439', 'sodUtc8': '47.933'}, {'instType': 'SWAP', 'instId': 'LPT-USDT-SWAP', 'last': '18.231', 'lastSz': '34744', 'askPx': '18.217', 'askSz': '79540', 'bidPx': '18.192', 'bidSz': '40233', 'open24h': '15.776', 'high24h': '18.231', 'low24h': '15.485', 'volCcy24h': '19116017.3', 'vol24h': '191160173', 'ts': '1733974140020', 'sodUtc0': '17.267', 'sodUtc8': '16.988'}, {'instType': 'SWAP', 'instId': 'KNC-USDT-SWAP', 'last': '0.7118', 'lastSz': '87518', 'askPx': '0.7113', 'askSz': '89653', 'bidPx': '0.7112', 'bidSz': '79638', 'open24h': '0.639', 'high24h': '0.7118', 'low24h': '0.6277', 'volCcy24h': '104314096', 'vol24h': '104314096', 'ts': '1733974143303', 'sodUtc0': '0.688', 'sodUtc8': '0.6859'}, {'instType': 'SWAP', 'instId': 'XLM-USD-SWAP', 'last': '0.44174', 'lastSz': '5082', 'askPx': '0.44178', 'askSz': '5523', 'bidPx': '0.44175', 'bidSz': '7448', 'open24h': '0.41568', 'high24h': '0.44522', 'low24h': '0.40576', 'volCcy24h': '530115590.5181', 'vol24h': '22567913', 'ts': '1733974142404', 'sodUtc0': '0.43605', 'sodUtc8': '0.43742'}, {'instType': 'SWAP', 'instId': 'ORBS-USDT-SWAP', 'last': '0.03336', 'lastSz': '19370', 'askPx': '0.03336', 'askSz': '16336', 'bidPx': '0.03334', 'bidSz': '17657', 'open24h': '0.03036', 'high24h': '0.03405', 'low24h': '0.02958', 'volCcy24h': '674365300', 'vol24h': '6743653', 'ts': '1733974140013', 'sodUtc0': '0.03337', 'sodUtc8': '0.03268'}, {'instType': 'SWAP', 'instId': 'FLOKI-USDT-SWAP', 'last': '0.00025191', 'lastSz': '2631', 'askPx': '0.0002519', 'askSz': '2734', 'bidPx': '0.00025189', 'bidSz': '2243', 'open24h': '0.00022483', 'high24h': '0.00025239', 'low24h': '0.00022212', 'volCcy24h': '1273406400000', 'vol24h': '12734064', 'ts': '1733974142804', 'sodUtc0': '0.00024223', 'sodUtc8': '0.00024001'}, {'instType': 'SWAP', 'instId': 'LINK-USDT-SWAP', 'last': '26.847', 'lastSz': '817', 'askPx': '26.847', 'askSz': '1539', 'bidPx': '26.845', 'bidSz': '2910', 'open24h': '22.113', 'high24h': '26.991', 'low24h': '22.049', 'volCcy24h': '17086873', 'vol24h': '17086873', 'ts': '1733974142504', 'sodUtc0': '24.077', 'sodUtc8': '23.916'}, {'instType': 'SWAP', 'instId': 'ACT-USDT-SWAP', 'last': '0.7049', 'lastSz': '835', 'askPx': '0.72', 'askSz': '1', 'bidPx': '0.7028', 'bidSz': '7500', 'open24h': '0.4672', 'high24h': '0.7049', 'low24h': '0.4672', 'volCcy24h': '1626370', 'vol24h': '162637', 'ts': '1733974140011', 'sodUtc0': '0.5835', 'sodUtc8': '0.6521'}, {'instType': 'SWAP', 'instId': 'DOGE-USDT-SWAP', 'last': '0.4191', 'lastSz': '4.5', 'askPx': '0.41915', 'askSz': '425.9', 'bidPx': '0.4191', 'bidSz': '450.7', 'open24h': '0.39075', 'high24h': '0.4379', 'low24h': '0.3792', 'volCcy24h': '4638687500', 'vol24h': '4638687.5', 'ts': '1733974143103', 'sodUtc0': '0.414', 'sodUtc8': '0.41315'}, {'instType': 'SWAP', 'instId': 'COMP-USDT-SWAP', 'last': '111.95', 'lastSz': '1818', 'askPx': '112.19', 'askSz': '4787', 'bidPx': '112', 'bidSz': '6548', 'open24h': '97.83', 'high24h': '112.17', 'low24h': '95.32', 'volCcy24h': '2638054.5', 'vol24h': '26380545', 'ts': '1733974142203', 'sodUtc0': '103.53', 'sodUtc8': '101.43'}, {'instType': 'SWAP', 'instId': 'NOT-USDT-SWAP', 'last': '0.008738', 'lastSz': '1', 'askPx': '0.008744', 'askSz': '89673', 'bidPx': '0.008741', 'bidSz': '90369', 'open24h': '0.007468', 'high24h': '0.008783', 'low24h': '0.007358', 'volCcy24h': '485369100', 'vol24h': '4853691', 'ts': '1733974143604', 'sodUtc0': '0.008353', 'sodUtc8': '0.0083'}, {'instType': 'SWAP', 'instId': 'VRA-USDT-SWAP', 'last': '0.00713', 'lastSz': '27', 'askPx': '0.007128', 'askSz': '8182', 'bidPx': '0.007125', 'bidSz': '7099', 'open24h': '0.006311', 'high24h': '0.007134', 'low24h': '0.006105', 'volCcy24h': '6783659000', 'vol24h': '6783659', 'ts': '1733974140503', 'sodUtc0': '0.006806', 'sodUtc8': '0.006987'}, {'instType': 'SWAP', 'instId': 'DOGS-USDT-SWAP', 'last': '0.0007882', 'lastSz': '3', 'askPx': '0.0007887', 'askSz': '70514', 'bidPx': '0.0007886', 'bidSz': '88634', 'open24h': '0.0006786', 'high24h': '0.00079', 'low24h': '0.000668', 'volCcy24h': '21075009000', 'vol24h': '21075009', 'ts': '1733974143403', 'sodUtc0': '0.0007619', 'sodUtc8': '0.0007548'}, {'instType': 'SWAP', 'instId': 'YFI-USD-SWAP', 'last': '11875', 'lastSz': '6714', 'askPx': '11876', 'askSz': '7944', 'bidPx': '11875', 'bidSz': '209', 'open24h': '10685', 'high24h': '12318', 'low24h': '10395', 'volCcy24h': '12510', 'vol24h': '12866035', 'ts': '1733974142405', 'sodUtc0': '11555', 'sodUtc8': '11478'}, {'instType': 'SWAP', 'instId': 'UNI-USD-SWAP', 'last': '18.08', 'lastSz': '1510', 'askPx': '18.1', 'askSz': '13477', 'bidPx': '18.075', 'bidSz': '5366', 'open24h': '15.614', 'high24h': '18.094', 'low24h': '15.234', 'volCcy24h': '8301078.9919', 'vol24h': '13571226', 'ts': '1733974143203', 'sodUtc0': '17.184', 'sodUtc8': '17.068'}, {'instType': 'SWAP', 'instId': 'MKR-USDT-SWAP', 'last': '1968.1', 'lastSz': '2754.5', 'askPx': '1968.2', 'askSz': '4021.6', 'bidPx': '1968.1', 'bidSz': '3701.8', 'open24h': '1785.5', 'high24h': '1968.1', 'low24h': '1749.7', 'volCcy24h': '114630.953', 'vol24h': '11463095.3', 'ts': '1733974142304', 'sodUtc0': '1879.6', 'sodUtc8': '1884.6'}, {'instType': 'SWAP', 'instId': 'SOL-USD-SWAP', 'last': '231.35', 'lastSz': '5237', 'askPx': '231.32', 'askSz': '6227', 'bidPx': '231.28', 'bidSz': '7099', 'open24h': '218.12', 'high24h': '244.14', 'low24h': '207.94', 'volCcy24h': '1048153.1014', 'vol24h': '23631065', 'ts': '1733974143603', 'sodUtc0': '227.45', 'sodUtc8': '228.55'}, {'instType': 'SWAP', 'instId': 'AVAX-USD-SWAP', 'last': '50.247', 'lastSz': '5180', 'askPx': '50.25', 'askSz': '5037', 'bidPx': '50.239', 'bidSz': '13436', 'open24h': '44.402', 'high24h': '50.247', 'low24h': '43.981', 'volCcy24h': '2481641.4958', 'vol24h': '11617526', 'ts': '1733974140103', 'sodUtc0': '48.467', 'sodUtc8': '48.23'}, {'instType': 'SWAP', 'instId': 'DOT-USD-SWAP', 'last': '9.335', 'lastSz': '6560', 'askPx': '9.365', 'askSz': '7037', 'bidPx': '9.36', 'bidSz': '18980', 'open24h': '8.385', 'high24h': '9.395', 'low24h': '8.28', 'volCcy24h': '5868387.9155', 'vol24h': '5203244', 'ts': '1733974140006', 'sodUtc0': '8.965', 'sodUtc8': '9.2'}, {'instType': 'SWAP', 'instId': 'FIL-USDT-SWAP', 'last': '6.989', 'lastSz': '73851', 'askPx': '6.992', 'askSz': '111039', 'bidPx': '6.989', 'bidSz': '111333', 'open24h': '6.192', 'high24h': '6.996', 'low24h': '6.113', 'volCcy24h': '25905480.6', 'vol24h': '259054806', 'ts': '1733974143203', 'sodUtc0': '6.683', 'sodUtc8': '6.676'}, {'instType': 'SWAP', 'instId': 'AUCTION-USDT-SWAP', 'last': '17.743', 'lastSz': '34514.1', 'askPx': '17.745', 'askSz': '35226.9', 'bidPx': '17.743', 'bidSz': '1414.1', 'open24h': '15.481', 'high24h': '17.743', 'low24h': '15.224', 'volCcy24h': '7420723.8', 'vol24h': '74207095', 'ts': '1733974142503', 'sodUtc0': '16.758', 'sodUtc8': '16.419'}, {'instType': 'SWAP', 'instId': 'FIL-USD-SWAP', 'last': '6.995', 'lastSz': '5226', 'askPx': '6.997', 'askSz': '11371', 'bidPx': '6.996', 'bidSz': '7254', 'open24h': '6.197', 'high24h': '6.995', 'low24h': '6.113', 'volCcy24h': '24794648.4293', 'vol24h': '16051419', 'ts': '1733974142703', 'sodUtc0': '6.692', 'sodUtc8': '6.677'}, {'instType': 'SWAP', 'instId': 'ETH-USDT-SWAP', 'last': '3917.15', 'lastSz': '2012.4', 'askPx': '3917.2', 'askSz': '1433.1', 'bidPx': '3917.15', 'bidSz': '27', 'open24h': '3661.21', 'high24h': '3954.67', 'low24h': '3574.07', 'volCcy24h': '55269194', 'vol24h': '553614750.8', 'ts': '1733974143803', 'sodUtc0': '3832', 'sodUtc8': '3787.07'}, {'instType': 'SWAP', 'instId': 'SHIB-USDT-SWAP', 'last': '0.00002969', 'lastSz': '6.6', 'askPx': '0.00002969', 'askSz': '12735', 'bidPx': '0.00002968', 'bidSz': '8495.6', 'open24h': '0.00002707', 'high24h': '0.00002973', 'low24h': '0.0000266', 'volCcy24h': '7994921700000', 'vol24h': '7994921.7', 'ts': '1733974140304', 'sodUtc0': '0.0000288', 'sodUtc8': '0.00002878'}, {'instType': 'SWAP', 'instId': 'ARB-USDT-SWAP', 'last': '1.0561', 'lastSz': '5364.9', 'askPx': '1.057', 'askSz': '11569.8', 'bidPx': '1.0559', 'bidSz': '15054.8', 'open24h': '0.9318', 'high24h': '1.0567', 'low24h': '0.9187', 'volCcy24h': '224218811', 'vol24h': '22421881.1', 'ts': '1733974141503', 'sodUtc0': '0.9994', 'sodUtc8': '1.01'}, {'instType': 'SWAP', 'instId': 'MINA-USDT-SWAP', 'last': '0.8319', 'lastSz': '81555', 'askPx': '0.8319', 'askSz': '7736', 'bidPx': '0.8318', 'bidSz': '129413', 'open24h': '0.7456', 'high24h': '0.8321', 'low24h': '0.7331', 'volCcy24h': '152532807', 'vol24h': '152532807', 'ts': '1733974144008', 'sodUtc0': '0.7944', 'sodUtc8': '0.8033'}, {'instType': 'SWAP', 'instId': 'IMX-USDT-SWAP', 'last': '1.9587', 'lastSz': '37892', 'askPx': '1.9593', 'askSz': '34415', 'bidPx': '1.9591', 'bidSz': '37470', 'open24h': '1.7324', 'high24h': '1.9611', 'low24h': '1.7093', 'volCcy24h': '100733580', 'vol24h': '100733580', 'ts': '1733974143804', 'sodUtc0': '1.8688', 'sodUtc8': '1.8727'}, {'instType': 'SWAP', 'instId': 'BOME-USDT-SWAP', 'last': '0.008914', 'lastSz': '2', 'askPx': '0.008915', 'askSz': '7322', 'bidPx': '0.008914', 'bidSz': '6170', 'open24h': '0.007995', 'high24h': '0.008914', 'low24h': '0.007912', 'volCcy24h': '699794000', 'vol24h': '699794', 'ts': '1733974143703', 'sodUtc0': '0.008644', 'sodUtc8': '0.008582'}, {'instType': 'SWAP', 'instId': 'XTZ-USDT-SWAP', 'last': '1.5225', 'lastSz': '37545', 'askPx': '1.5227', 'askSz': '47467', 'bidPx': '1.5223', 'bidSz': '47176', 'open24h': '1.4096', 'high24h': '1.5225', 'low24h': '1.3731', 'volCcy24h': '124299885', 'vol24h': '124299885', 'ts': '1733974142007', 'sodUtc0': '1.4788', 'sodUtc8': '1.4956'}, {'instType': 'SWAP', 'instId': 'SUI-USDT-SWAP', 'last': '4.8237', 'lastSz': '2748', 'askPx': '4.8302', 'askSz': '13666', 'bidPx': '4.8301', 'bidSz': '15344', 'open24h': '3.7209', 'high24h': '4.8758', 'low24h': '3.61404', 'volCcy24h': '171091473', 'vol24h': '171091473', 'ts': '1733974140020', 'sodUtc0': '4.372', 'sodUtc8': '4.02505'}, {'instType': 'SWAP', 'instId': 'EOS-USDT-SWAP', 'last': '1.133', 'lastSz': '28', 'askPx': '1.1328', 'askSz': '6996', 'bidPx': '1.1322', 'bidSz': '6701', 'open24h': '1.0355', 'high24h': '1.133', 'low24h': '1.0203', 'volCcy24h': '206963770', 'vol24h': '20696377', 'ts': '1733974140006', 'sodUtc0': '1.0905', 'sodUtc8': '1.096'}, {'instType': 'SWAP', 'instId': 'PEPE-USDT-SWAP', 'last': '0.000025602', 'lastSz': '2757.9', 'askPx': '0.000025611', 'askSz': '2489.4', 'bidPx': '0.0000256', 'bidSz': '2850', 'open24h': '0.000022469', 'high24h': '0.000025669', 'low24h': '0.000021494', 'volCcy24h': '292778605000000', 'vol24h': '29277860.5', 'ts': '1733974143303', 'sodUtc0': '0.000025126', 'sodUtc8': '0.000024766'}, {'instType': 'SWAP', 'instId': 'CRV-USD-SWAP', 'last': '1.1637', 'lastSz': '667', 'askPx': '1.164', 'askSz': '5619', 'bidPx': '1.1631', 'bidSz': '5236', 'open24h': '1.035', 'high24h': '1.1637', 'low24h': '1.0133', 'volCcy24h': '80876220', 'vol24h': '8779443', 'ts': '1733974141504', 'sodUtc0': '1.1229', 'sodUtc8': '1.121'}, {'instType': 'SWAP', 'instId': 'LRC-USDT-SWAP', 'last': '0.2807', 'lastSz': '20346', 'askPx': '0.2809', 'askSz': '24936', 'bidPx': '0.2808', 'bidSz': '22917', 'open24h': '0.247', 'high24h': '0.2829', 'low24h': '0.2407', 'volCcy24h': '217730320', 'vol24h': '21773032', 'ts': '1733974140503', 'sodUtc0': '0.2705', 'sodUtc8': '0.2766'}, {'instType': 'SWAP', 'instId': 'OP-USDT-SWAP', 'last': '2.4573', 'lastSz': '244474', 'askPx': '2.4572', 'askSz': '248407', 'bidPx': '2.457', 'bidSz': '321993', 'open24h': '2.2056', 'high24h': '2.4579', 'low24h': '2.1772', 'volCcy24h': '1526975923', 'vol24h': '1526975923', 'ts': '1733974142204', 'sodUtc0': '2.3353', 'sodUtc8': '2.3245'}, {'instType': 'SWAP', 'instId': 'KISHU-USDT-SWAP', 'last': '0.00000000055', 'lastSz': '13', 'askPx': '0.0000000005507', 'askSz': '98', 'bidPx': '0.00000000055', 'bidSz': '129975', 'open24h': '0.000000000492', 'high24h': '0.000000000558', 'low24h': '0.000000000488', 'volCcy24h': '10195688000000000', 'vol24h': '10195688', 'ts': '1733974141103', 'sodUtc0': '0.000000000552', 'sodUtc8': '0.0000000005513'}, {'instType': 'SWAP', 'instId': 'RENOLD-USDT-SWAP', 'last': '0.06127', 'lastSz': '463', 'askPx': '0.0615', 'askSz': '1040', 'bidPx': '0.06117', 'bidSz': '30018', 'open24h': '0.05128', 'high24h': '0.06127', 'low24h': '0.05128', 'volCcy24h': '4582200', 'vol24h': '45822', 'ts': '1733974140009', 'sodUtc0': '0.06127', 'sodUtc8': '0.06127'}, {'instType': 'SWAP', 'instId': 'SUSHI-USD-SWAP', 'last': '2.5809', 'lastSz': '6182', 'askPx': '2.5834', 'askSz': '6771', 'bidPx': '2.5813', 'bidSz': '6827', 'open24h': '2.0131', 'high24h': '2.5809', 'low24h': '1.9281', 'volCcy24h': '84274308.6121', 'vol24h': '17793066', 'ts': '1733974143203', 'sodUtc0': '2.29', 'sodUtc8': '2.1899'}, {'instType': 'SWAP', 'instId': 'BCH-USDT-SWAP', 'last': '561.7', 'lastSz': '1003.2', 'askPx': '561.9', 'askSz': '1214.6', 'bidPx': '561.7', 'bidSz': '144.1', 'open24h': '519.4', 'high24h': '562.3', 'low24h': '507.5', 'volCcy24h': '294510', 'vol24h': '2945200.7', 'ts': '1733974142603', 'sodUtc0': '546.7', 'sodUtc8': '549.2'}, {'instType': 'SWAP', 'instId': 'LTC-USD-SWAP', 'last': '121.94', 'lastSz': '5424.1', 'askPx': '121.83', 'askSz': '5050.1', 'bidPx': '121.79', 'bidSz': '6889.5', 'open24h': '110.34', 'high24h': '121.94', 'low24h': '108.96', 'volCcy24h': '1509927.209', 'vol24h': '17284906.5', 'ts': '1733974143803', 'sodUtc0': '117.44', 'sodUtc8': '116.82'}, {'instType': 'SWAP', 'instId': 'ATOM-USDT-SWAP', 'last': '9.046', 'lastSz': '6227', 'askPx': '9.048', 'askSz': '6741', 'bidPx': '9.046', 'bidSz': '303', 'open24h': '7.92', 'high24h': '9.068', 'low24h': '7.796', 'volCcy24h': '21577337', 'vol24h': '21577337', 'ts': '1733974142603', 'sodUtc0': '8.82', 'sodUtc8': '8.566'}, {'instType': 'SWAP', 'instId': 'ETHW-USDT-SWAP', 'last': '4.449', 'lastSz': '270', 'askPx': '4.45', 'askSz': '116271', 'bidPx': '4.446', 'bidSz': '320674', 'open24h': '3.849', 'high24h': '4.452', 'low24h': '3.81', 'volCcy24h': '16768443.2', 'vol24h': '167684432', 'ts': '1733974142804', 'sodUtc0': '4.176', 'sodUtc8': '4.155'}, {'instType': 'SWAP', 'instId': 'YGG-USDT-SWAP', 'last': '0.7332', 'lastSz': '74070', 'askPx': '0.7337', 'askSz': '208289', 'bidPx': '0.7335', 'bidSz': '164027', 'open24h': '0.652', 'high24h': '0.7338', 'low24h': '0.642', 'volCcy24h': '211745712', 'vol24h': '211745712', 'ts': '1733974143804', 'sodUtc0': '0.6936', 'sodUtc8': '0.6899'}, {'instType': 'SWAP', 'instId': 'AAVE-USDT-SWAP', 'last': '331.8', 'lastSz': '315', 'askPx': '331.78', 'askSz': '1784', 'bidPx': '331.77', 'bidSz': '2360', 'open24h': '270.07', 'high24h': '333.33', 'low24h': '264.73', 'volCcy24h': '1725389.6', 'vol24h': '17253896', 'ts': '1733974143604', 'sodUtc0': '302.78', 'sodUtc8': '291.04'}, {'instType': 'SWAP', 'instId': 'X-USDT-SWAP', 'last': '0.0002992', 'lastSz': '67', 'askPx': '0.0003501', 'askSz': '3', 'bidPx': '0.0003098', 'bidSz': '63', 'open24h': '0.0002267', 'high24h': '0.0003074', 'low24h': '0.0001424', 'volCcy24h': '20193780000', 'vol24h': '2019378', 'ts': '1733974140007', 'sodUtc0': '0.0003005', 'sodUtc8': '0.00025'}, {'instType': 'SWAP', 'instId': 'HMSTR-USDT-SWAP', 'last': '0.0038', 'lastSz': '5', 'askPx': '0.0038', 'askSz': '203820', 'bidPx': '0.003799', 'bidSz': '141190', 'open24h': '0.003401', 'high24h': '0.0038', 'low24h': '0.003346', 'volCcy24h': '27263246500', 'vol24h': '272632465', 'ts': '1733974143703', 'sodUtc0': '0.003618', 'sodUtc8': '0.003644'}, {'instType': 'SWAP', 'instId': 'MOODENG-USDC-SWAP', 'last': '0.43298', 'lastSz': '1', 'askPx': '0.70002', 'askSz': '39612', 'bidPx': '', 'bidSz': '0', 'open24h': '0.43298', 'high24h': '0.43298', 'low24h': '0.43298', 'volCcy24h': '0', 'vol24h': '0', 'ts': '1733974140007', 'sodUtc0': '0.43298', 'sodUtc8': '0.43298'}, {'instType': 'SWAP', 'instId': 'TRX-USD-SWAP', 'last': '0.28939', 'lastSz': '6799', 'askPx': '0.29087', 'askSz': '5138', 'bidPx': '0.29057', 'bidSz': '5234', 'open24h': '0.27054', 'high24h': '0.28941', 'low24h': '0.26993', 'volCcy24h': '8332288.3186', 'vol24h': '232962', 'ts': '1733974141803', 'sodUtc0': '0.28286', 'sodUtc8': '0.28679'}, {'instType': 'SWAP', 'instId': 'ALGO-USDT-SWAP', 'last': '0.4662', 'lastSz': '1', 'askPx': '0.4665', 'askSz': '5', 'bidPx': '0.4663', 'bidSz': '11407', 'open24h': '0.4131', 'high24h': '0.4662', 'low24h': '0.404', 'volCcy24h': '303136070', 'vol24h': '30313607', 'ts': '1733974143603', 'sodUtc0': '0.4522', 'sodUtc8': '0.4618'}, {'instType': 'SWAP', 'instId': 'ADA-USDT-SWAP', 'last': '1.1356', 'lastSz': '0.3', 'askPx': '1.1346', 'askSz': '471.8', 'bidPx': '1.1344', 'bidSz': '1370.2', 'open24h': '1.0146', 'high24h': '1.1362', 'low24h': '0.9834', 'volCcy24h': '215668080', 'vol24h': '2156680.8', 'ts': '1733974141603', 'sodUtc0': '1.0866', 'sodUtc8': '1.0946'}, {'instType': 'SWAP', 'instId': 'BTC-USDC-SWAP', 'last': '101484', 'lastSz': '6286', 'askPx': '101496.1', 'askSz': '7695', 'bidPx': '101496', 'bidSz': '6550', 'open24h': '97352', 'high24h': '103994.8', 'low24h': '96061.5', 'volCcy24h': '6309.7072', 'vol24h': '63097072', 'ts': '1733974144008', 'sodUtc0': '101263.1', 'sodUtc8': '100444'}, {'instType': 'SWAP', 'instId': 'ETHFI-USDT-SWAP', 'last': '2.789', 'lastSz': '22498', 'askPx': '2.787', 'askSz': '246684', 'bidPx': '2.785', 'bidSz': '239311', 'open24h': '2.417', 'high24h': '2.789', 'low24h': '2.372', 'volCcy24h': '37050997', 'vol24h': '37050997', 'ts': '1733974143008', 'sodUtc0': '2.617', 'sodUtc8': '2.614'}, {'instType': 'SWAP', 'instId': 'ADA-USD-SWAP', 'last': '1.1359', 'lastSz': '5387', 'askPx': '1.1359', 'askSz': '6174', 'bidPx': '1.1357', 'bidSz': '5865', 'open24h': '1.015', 'high24h': '1.1359', 'low24h': '0.9948', 'volCcy24h': '116842894.9042', 'vol24h': '12418260', 'ts': '1733974142005', 'sodUtc0': '1.0877', 'sodUtc8': '1.0975'}, {'instType': 'SWAP', 'instId': 'ETC-USD-SWAP', 'last': '34.91', 'lastSz': '5599', 'askPx': '34.9', 'askSz': '6755', 'bidPx': '34.88', 'bidSz': '5365', 'open24h': '30.11', 'high24h': '34.91', 'low24h': '29.65', 'volCcy24h': '2182834.2082', 'vol24h': '7119090', 'ts': '1733974140007', 'sodUtc0': '33.53', 'sodUtc8': '33.27'}, {'instType': 'SWAP', 'instId': 'CTC-USDC-SWAP', 'last': '2.30033', 'lastSz': '14', 'askPx': '', 'askSz': '0', 'bidPx': '', 'bidSz': '0', 'open24h': '2.30033', 'high24h': '2.30033', 'low24h': '2.30033', 'volCcy24h': '0', 'vol24h': '0', 'ts': '1733974140010', 'sodUtc0': '2.30033', 'sodUtc8': '2.30033'}, {'instType': 'SWAP', 'instId': 'SAND-USDT-SWAP', 'last': '0.8088', 'lastSz': '1', 'askPx': '0.8084', 'askSz': '8200', 'bidPx': '0.8083', 'bidSz': '9270', 'open24h': '0.6928', 'high24h': '0.8173', 'low24h': '0.6742', 'volCcy24h': '287243950', 'vol24h': '28724395', 'ts': '1733974141005', 'sodUtc0': '0.7928', 'sodUtc8': '0.7668'}, {'instType': 'SWAP', 'instId': 'FET-USD-SWAP', 'last': '1.7919', 'lastSz': '500', 'askPx': '', 'askSz': '0', 'bidPx': '', 'bidSz': '0', 'open24h': '1.7919', 'high24h': '1.7919', 'low24h': '1.7919', 'volCcy24h': '0', 'vol24h': '0', 'ts': '1733974140011', 'sodUtc0': '1.7919', 'sodUtc8': '1.7919'}, {'instType': 'SWAP', 'instId': 'CELO-USDT-SWAP', 'last': '0.9142', 'lastSz': '55503', 'askPx': '0.914', 'askSz': '71407', 'bidPx': '0.9137', 'bidSz': '84233', 'open24h': '0.8247', 'high24h': '0.9142', 'low24h': '0.8102', 'volCcy24h': '164228647', 'vol24h': '164228647', 'ts': '1733974143208', 'sodUtc0': '0.8764', 'sodUtc8': '0.8762'}, {'instType': 'SWAP', 'instId': 'TRX-USDT-SWAP', 'last': '0.29043', 'lastSz': '197.3', 'askPx': '0.29043', 'askSz': '182.9', 'bidPx': '0.2904', 'bidSz': '228.7', 'open24h': '0.2702', 'high24h': '0.29043', 'low24h': '0.26805', 'volCcy24h': '1010320300', 'vol24h': '1010320.3', 'ts': '1733974141603', 'sodUtc0': '0.28223', 'sodUtc8': '0.28534'}, {'instType': 'SWAP', 'instId': 'BTC-USD-SWAP', 'last': '101499.5', 'lastSz': '519', 'askPx': '101503', 'askSz': '769', 'bidPx': '101502.9', 'bidSz': '560', 'open24h': '97365.4', 'high24h': '103927.5', 'low24h': '95448.7', 'volCcy24h': '11196.8679', 'vol24h': '11147196', 'ts': '1733974143403', 'sodUtc0': '101272', 'sodUtc8': '100424.2'}, {'instType': 'SWAP', 'instId': 'EOS-USD-SWAP', 'last': '1.134', 'lastSz': '5538', 'askPx': '1.1336', 'askSz': '6587', 'bidPx': '1.1334', 'bidSz': '6320', 'open24h': '1.0365', 'high24h': '1.134', 'low24h': '1.0201', 'volCcy24h': '130059050', 'vol24h': '13889519', 'ts': '1733974140603', 'sodUtc0': '1.0898', 'sodUtc8': '1.1005'}, {'instType': 'SWAP', 'instId': '1INCH-USD-SWAP', 'last': '0.4586', 'lastSz': '5', 'askPx': '0.514', 'askSz': '59', 'bidPx': '0.5136', 'bidSz': '72', 'open24h': '0.4148', 'high24h': '0.4586', 'low24h': '0.4148', 'volCcy24h': '6273.8518', 'vol24h': '287', 'ts': '1733974144006', 'sodUtc0': '0.4586', 'sodUtc8': '0.4586'}, {'instType': 'SWAP', 'instId': 'GRT-USD-SWAP', 'last': '0.2965', 'lastSz': '6365', 'askPx': '0.2963', 'askSz': '5643', 'bidPx': '0.2961', 'bidSz': '5812', 'open24h': '0.2609', 'high24h': '0.2965', 'low24h': '0.255', 'volCcy24h': '36024308.8185', 'vol24h': '986905', 'ts': '1733974140303', 'sodUtc0': '0.2896', 'sodUtc8': '0.2858'}, {'instType': 'SWAP', 'instId': 'FLOW-USDT-SWAP', 'last': '1.0166', 'lastSz': '5466', 'askPx': '1.0166', 'askSz': '1126', 'bidPx': '1.0164', 'bidSz': '7321', 'open24h': '0.9017', 'high24h': '1.0178', 'low24h': '0.8808', 'volCcy24h': '146881370', 'vol24h': '14688137', 'ts': '1733974141204', 'sodUtc0': '0.9755', 'sodUtc8': '0.9715'}, {'instType': 'SWAP', 'instId': 'ICP-USDT-SWAP', 'last': '13.472', 'lastSz': '4343019', 'askPx': '13.469', 'askSz': '3937611', 'bidPx': '13.468', 'bidSz': '9129667', 'open24h': '11.873', 'high24h': '13.504', 'low24h': '11.682', 'volCcy24h': '155357908.01', 'vol24h': '15535790801', 'ts': '1733974143804', 'sodUtc0': '13.155', 'sodUtc8': '12.854'}, {'instType': 'SWAP', 'instId': 'BAND-USDT-SWAP', 'last': '1.923', 'lastSz': '58', 'askPx': '1.923', 'askSz': '36790', 'bidPx': '1.921', 'bidSz': '37705', 'open24h': '1.685', 'high24h': '1.923', 'low24h': '1.66', 'volCcy24h': '8547501', 'vol24h': '8547501', 'ts': '1733974143504', 'sodUtc0': '1.821', 'sodUtc8': '1.789'}, {'instType': 'SWAP', 'instId': 'LDO-USDT-SWAP', 'last': '2.0168', 'lastSz': '31662', 'askPx': '2.0168', 'askSz': '5705', 'bidPx': '2.0167', 'bidSz': '27816', 'open24h': '1.8273', 'high24h': '2.0398', 'low24h': '1.8007', 'volCcy24h': '133860114', 'vol24h': '133860114', 'ts': '1733974141903', 'sodUtc0': '1.9061', 'sodUtc8': '1.9172'}, {'instType': 'SWAP', 'instId': 'SATS-USDT-SWAP', 'last': '0.00000024894', 'lastSz': '23758', 'askPx': '0.00000024899', 'askSz': '30560', 'bidPx': '0.00000024893', 'bidSz': '58316', 'open24h': '0.00000022816', 'high24h': '0.00000024921', 'low24h': '0.00000022233', 'volCcy24h': '1679980650000000', 'vol24h': '167998065', 'ts': '1733974144005', 'sodUtc0': '0.0000002408', 'sodUtc8': '0.00000023999'}, {'instType': 'SWAP', 'instId': 'QTUM-USDT-SWAP', 'last': '4.278', 'lastSz': '13130', 'askPx': '4.276', 'askSz': '11990', 'bidPx': '4.275', 'bidSz': '18539', 'open24h': '3.858', 'high24h': '4.278', 'low24h': '3.778', 'volCcy24h': '14023704', 'vol24h': '14023704', 'ts': '1733974142403', 'sodUtc0': '4.149', 'sodUtc8': '4.166'}, {'instType': 'SWAP', 'instId': 'YFI-USDT-SWAP', 'last': '11856', 'lastSz': '9564', 'askPx': '11857', 'askSz': '61585', 'bidPx': '11856', 'bidSz': '39991', 'open24h': '10680', 'high24h': '12302', 'low24h': '10393', 'volCcy24h': '21598.9438', 'vol24h': '215989438', 'ts': '1733974143203', 'sodUtc0': '11541', 'sodUtc8': '11477'}, {'instType': 'SWAP', 'instId': '1INCH-USDT-SWAP', 'last': '0.5132', 'lastSz': '136173', 'askPx': '0.5132', 'askSz': '112471', 'bidPx': '0.5131', 'bidSz': '124971', 'open24h': '0.4337', 'high24h': '0.5138', 'low24h': '0.4282', 'volCcy24h': '246066169', 'vol24h': '246066169', 'ts': '1733974143403', 'sodUtc0': '0.4928', 'sodUtc8': '0.4831'}, {'instType': 'SWAP', 'instId': 'SOL-USDT-SWAP', 'last': '231.12', 'lastSz': '1', 'askPx': '231.12', 'askSz': '432.67', 'bidPx': '231.11', 'bidSz': '301.12', 'open24h': '217.92', 'high24h': '235.5', 'low24h': '193.09', 'volCcy24h': '6972930', 'vol24h': '6988115.77', 'ts': '1733974141403', 'sodUtc0': '227.31', 'sodUtc8': '228.4'}, {'instType': 'SWAP', 'instId': 'ETH-USDC-SWAP', 'last': '3918.72', 'lastSz': '13848', 'askPx': '3920.93', 'askSz': '17093', 'bidPx': '3919.63', 'bidSz': '14278', 'open24h': '3665.62', 'high24h': '4001.34', 'low24h': '3550.04', 'volCcy24h': '26298.238', 'vol24h': '26298238', 'ts': '1733974143404', 'sodUtc0': '3835.38', 'sodUtc8': '3789.98'}, {'instType': 'SWAP', 'instId': 'ETH-USD-SWAP', 'last': '3918.2', 'lastSz': '6316', 'askPx': '3920.26', 'askSz': '6040', 'bidPx': '3920', 'bidSz': '6832', 'open24h': '3664.01', 'high24h': '3941.76', 'low24h': '3515.22', 'volCcy24h': '253666.843', 'vol24h': '95348095', 'ts': '1733974143603', 'sodUtc0': '3835.65', 'sodUtc8': '3789.01'}, {'instType': 'SWAP', 'instId': 'ATOM-USD-SWAP', 'last': '9.056', 'lastSz': '5849', 'askPx': '9.057', 'askSz': '6932', 'bidPx': '9.054', 'bidSz': '5681', 'open24h': '7.927', 'high24h': '9.075', 'low24h': '7.799', 'volCcy24h': '10812140', 'vol24h': '9093734', 'ts': '1733974143503', 'sodUtc0': '8.817', 'sodUtc8': '8.564'}, {'instType': 'SWAP', 'instId': 'DOT-USDT-SWAP', 'last': '9.361', 'lastSz': '5947.7', 'askPx': '9.363', 'askSz': '6496.7', 'bidPx': '9.361', 'bidSz': '1359.5', 'open24h': '8.375', 'high24h': '9.366', 'low24h': '8.261', 'volCcy24h': '21097239', 'vol24h': '21097160.2', 'ts': '1733974142903', 'sodUtc0': '8.995', 'sodUtc8': '9.195'}, {'instType': 'SWAP', 'instId': 'NEO-USD-SWAP', 'last': '19.044', 'lastSz': '6149', 'askPx': '19.086', 'askSz': '7786', 'bidPx': '19.067', 'bidSz': '6987', 'open24h': '17.032', 'high24h': '19.044', 'low24h': '16.708', 'volCcy24h': '440200', 'vol24h': '780598', 'ts': '1733974142903', 'sodUtc0': '18.159', 'sodUtc8': '18.454'}, {'instType': 'SWAP', 'instId': 'CAT-USDT-SWAP', 'last': '0.000047995', 'lastSz': '12174', 'askPx': '0.000048026', 'askSz': '14307', 'bidPx': '0.00004802', 'bidSz': '11078', 'open24h': '0.0000439', 'high24h': '0.000048501', 'low24h': '0.000043271', 'volCcy24h': '8115520000000', 'vol24h': '81155200', 'ts': '1733974143703', 'sodUtc0': '0.0000468', 'sodUtc8': '0.000047842'}, {'instType': 'SWAP', 'instId': 'AIDOGE-USDT-SWAP', 'last': '0.0000000003926', 'lastSz': '16946', 'askPx': '0.0000000003926', 'askSz': '28307', 'bidPx': '0.0000000003924', 'bidSz': '13529', 'open24h': '0.0000000003523', 'high24h': '0.000000000393', 'low24h': '0.0000000003487', 'volCcy24h': '169231710000000000', 'vol24h': '16923171', 'ts': '1733974143403', 'sodUtc0': '0.0000000003792', 'sodUtc8': '0.0000000003758'}, {'instType': 'SWAP', 'instId': 'DOGE-USD-SWAP', 'last': '0.4197', 'lastSz': '4616', 'askPx': '0.41962', 'askSz': '5954', 'bidPx': '0.41938', 'bidSz': '5083', 'open24h': '0.39098', 'high24h': '0.42356', 'low24h': '0.38336', 'volCcy24h': '822024136.2886', 'vol24h': '33367135', 'ts': '1733974142703', 'sodUtc0': '0.41432', 'sodUtc8': '0.41343'}, {'instType': 'SWAP', 'instId': 'CATI-USDT-SWAP', 'last': '0.5292', 'lastSz': '208', 'askPx': '0.5287', 'askSz': '148923', 'bidPx': '0.5286', 'bidSz': '96093', 'open24h': '0.4693', 'high24h': '0.5292', 'low24h': '0.4634', 'volCcy24h': '743135', 'vol24h': '743135', 'ts': '1733974143304', 'sodUtc0': '0.5053', 'sodUtc8': '0.5031'}, {'instType': 'SWAP', 'instId': 'USDC-USDT-SWAP', 'last': '0.9993', 'lastSz': '73', 'askPx': '0.9994', 'askSz': '5318', 'bidPx': '0.9993', 'bidSz': '7246', 'open24h': '0.9993', 'high24h': '0.9998', 'low24h': '0.9989', 'volCcy24h': '434970', 'vol24h': '43497', 'ts': '1733974140012', 'sodUtc0': '0.9993', 'sodUtc8': '0.9993'}, {'instType': 'SWAP', 'instId': 'LINK-USD-SWAP', 'last': '26.891', 'lastSz': '1090', 'askPx': '26.872', 'askSz': '6376', 'bidPx': '26.862', 'bidSz': '5347', 'open24h': '22.123', 'high24h': '27.012', 'low24h': '22.058', 'volCcy24h': '7657620', 'vol24h': '17970385', 'ts': '1733974142404', 'sodUtc0': '24.076', 'sodUtc8': '23.927'}, {'instType': 'SWAP', 'instId': 'LQTY-USDT-SWAP', 'last': '2.6449', 'lastSz': '72.1', 'askPx': '2.6424', 'askSz': '27538.8', 'bidPx': '2.6413', 'bidSz': '29904.3', 'open24h': '2.2123', 'high24h': '2.6599', 'low24h': '2.1875', 'volCcy24h': '41519854', 'vol24h': '41519699.9', 'ts': '1733974143203', 'sodUtc0': '2.4135', 'sodUtc8': '2.4954'}, {'instType': 'SWAP', 'instId': 'IOTA-USDT-SWAP', 'last': '0.4235', 'lastSz': '12908', 'askPx': '0.4234', 'askSz': '14195', 'bidPx': '0.4233', 'bidSz': '12391', 'open24h': '0.3718', 'high24h': '0.4253', 'low24h': '0.3659', 'volCcy24h': '228338810', 'vol24h': '22833881', 'ts': '1733974143603', 'sodUtc0': '0.3985', 'sodUtc8': '0.4043'}, {'instType': 'SWAP', 'instId': 'GMT-USDT-SWAP', 'last': '0.207', 'lastSz': '245506', 'askPx': '0.2071', 'askSz': '321774', 'bidPx': '0.207', 'bidSz': '346420', 'open24h': '0.1872', 'high24h': '0.207', 'low24h': '0.1849', 'volCcy24h': '79492949', 'vol24h': '79492949', 'ts': '1733974143804', 'sodUtc0': '0.2003', 'sodUtc8': '0.2031'}, {'instType': 'SWAP', 'instId': 'ALGO-USD-SWAP', 'last': '0.4667', 'lastSz': '1087', 'askPx': '0.4673', 'askSz': '7791', 'bidPx': '0.4667', 'bidSz': '6238', 'open24h': '0.4126', 'high24h': '0.4667', 'low24h': '0.4045', 'volCcy24h': '203307084.8179', 'vol24h': '8838893', 'ts': '1733974142007', 'sodUtc0': '0.4517', 'sodUtc8': '0.4614'}, {'instType': 'SWAP', 'instId': 'ZIL-USDT-SWAP', 'last': '0.02914', 'lastSz': '20102', 'askPx': '0.02917', 'askSz': '21170', 'bidPx': '0.02915', 'bidSz': '20468', 'open24h': '0.02636', 'high24h': '0.02914', 'low24h': '0.02578', 'volCcy24h': '1023984700', 'vol24h': '10239847', 'ts': '1733974143303', 'sodUtc0': '0.02832', 'sodUtc8': '0.02851'}, {'instType': 'SWAP', 'instId': 'KSM-USDT-SWAP', 'last': '40.93', 'lastSz': '7', 'askPx': '40.9', 'askSz': '12294', 'bidPx': '40.88', 'bidSz': '16284', 'open24h': '35.72', 'high24h': '40.93', 'low24h': '34.94', 'volCcy24h': '1723289.7', 'vol24h': '17232897', 'ts': '1733974143504', 'sodUtc0': '38.11', 'sodUtc8': '38.53'}, {'instType': 'SWAP', 'instId': 'CFX-USDT-SWAP', 'last': '0.2248', 'lastSz': '82.9', 'askPx': '0.2245', 'askSz': '28173.2', 'bidPx': '0.2244', 'bidSz': '34008.3', 'open24h': '0.1991', 'high24h': '0.2248', 'low24h': '0.1954', 'volCcy24h': '143523110', 'vol24h': '14352311', 'ts': '1733974140203', 'sodUtc0': '0.2148', 'sodUtc8': '0.2136'}, {'instType': 'SWAP', 'instId': 'MASK-USDT-SWAP', 'last': '4.1', 'lastSz': '2', 'askPx': '4.1', 'askSz': '32651', 'bidPx': '4.099', 'bidSz': '15799', 'open24h': '3.459', 'high24h': '4.149', 'low24h': '3.352', 'volCcy24h': '25900946', 'vol24h': '25900946', 'ts': '1733974141904', 'sodUtc0': '3.877', 'sodUtc8': '3.612'}, {'instType': 'SWAP', 'instId': 'BCH-USD-SWAP', 'last': '555', 'lastSz': '4000', 'askPx': '562.9', 'askSz': '5611', 'bidPx': '562.7', 'bidSz': '5052', 'open24h': '506.2', 'high24h': '555.2', 'low24h': '506.2', 'volCcy24h': '320.8723', 'vol24h': '17688', 'ts': '1733974143304', 'sodUtc0': '555.2', 'sodUtc8': '543.2'}, {'instType': 'SWAP', 'instId': 'NEAR-USDT-SWAP', 'last': '7.146', 'lastSz': '21.4', 'askPx': '7.144', 'askSz': '2002.8', 'bidPx': '7.14', 'bidSz': '939.7', 'open24h': '6.447', 'high24h': '7.146', 'low24h': '6.367', 'volCcy24h': '21231411', 'vol24h': '2123141.1', 'ts': '1733974143403', 'sodUtc0': '6.848', 'sodUtc8': '6.886'}, {'instType': 'SWAP', 'instId': 'FTM-USDT-SWAP', 'last': '1.3134', 'lastSz': '3838', 'askPx': '1.3136', 'askSz': '9306', 'bidPx': '1.3133', 'bidSz': '5341', 'open24h': '1.1476', 'high24h': '1.3182', 'low24h': '1.1191', 'volCcy24h': '187533340', 'vol24h': '18753334', 'ts': '1733974142804', 'sodUtc0': '1.2516', 'sodUtc8': '1.2301'}, {'instType': 'SWAP', 'instId': 'ZETA-USDT-SWAP', 'last': '0.7708', 'lastSz': '9619', 'askPx': '0.7703', 'askSz': '8566', 'bidPx': '0.77', 'bidSz': '9264', 'open24h': '0.675', 'high24h': '0.7711', 'low24h': '0.6621', 'volCcy24h': '172343750', 'vol24h': '17234375', 'ts': '1733974140503', 'sodUtc0': '0.7423', 'sodUtc8': '0.7289'}, {'instType': 'SWAP', 'instId': 'HBAR-USDT-SWAP', 'last': '0.30236', 'lastSz': '1929', 'askPx': '0.30237', 'askSz': '1670', 'bidPx': '0.30236', 'bidSz': '85', 'open24h': '0.28029', 'high24h': '0.3102', 'low24h': '0.27555', 'volCcy24h': '1369582300', 'vol24h': '13695823', 'ts': '1733974143906', 'sodUtc0': '0.299', 'sodUtc8': '0.30219'}, {'instType': 'SWAP', 'instId': 'XRP-USDT-SWAP', 'last': '2.4247', 'lastSz': '211.9', 'askPx': '2.4247', 'askSz': '54.8', 'bidPx': '2.4245', 'bidSz': '271.5', 'open24h': '2.3058', 'high24h': '2.533', 'low24h': '2.2636', 'volCcy24h': '644954160', 'vol24h': '6449541.6', 'ts': '1733974141703', 'sodUtc0': '2.3945', 'sodUtc8': '2.4485'}, {'instType': 'SWAP', 'instId': 'BNT-USDT-SWAP', 'last': '0.8643', 'lastSz': '880', 'askPx': '0.864', 'askSz': '6983', 'bidPx': '0.8637', 'bidSz': '6921', 'open24h': '0.8029', 'high24h': '0.8656', 'low24h': '0.7911', 'volCcy24h': '10361230', 'vol24h': '1036123', 'ts': '1733974140903', 'sodUtc0': '0.8306', 'sodUtc8': '0.8323'}, {'instType': 'SWAP', 'instId': 'BAL-USDT-SWAP', 'last': '3.756', 'lastSz': '150969', 'askPx': '3.765', 'askSz': '197650', 'bidPx': '3.764', 'bidSz': '155150', 'open24h': '3.168', 'high24h': '3.897', 'low24h': '3.131', 'volCcy24h': '27712361.9', 'vol24h': '277123619', 'ts': '1733974141403', 'sodUtc0': '3.731', 'sodUtc8': '3.726'}, {'instType': 'SWAP', 'instId': 'BSV-USD-SWAP', 'last': '68.56', 'lastSz': '7703', 'askPx': '68.7', 'askSz': '5403', 'bidPx': '68.67', 'bidSz': '5076', 'open24h': '63.48', 'high24h': '68.64', 'low24h': '62.61', 'volCcy24h': '128126.417', 'vol24h': '845462', 'ts': '1733974143103', 'sodUtc0': '67.62', 'sodUtc8': '67.68'}, {'instType': 'SWAP', 'instId': 'MAGIC-USDT-SWAP', 'last': '0.7221', 'lastSz': '1', 'askPx': '0.7224', 'askSz': '89175', 'bidPx': '0.7221', 'bidSz': '183760', 'open24h': '0.5696', 'high24h': '0.7233', 'low24h': '0.556', 'volCcy24h': '171237819', 'vol24h': '171237819', 'ts': '1733974142804', 'sodUtc0': '0.6693', 'sodUtc8': '0.6133'}, {'instType': 'SWAP', 'instId': 'AXS-USDT-SWAP', 'last': '8.239', 'lastSz': '80107', 'askPx': '8.237', 'askSz': '68026', 'bidPx': '8.235', 'bidSz': '62691', 'open24h': '7.391', 'high24h': '8.245', 'low24h': '7.257', 'volCcy24h': '19365141.9', 'vol24h': '193651419', 'ts': '1733974140009', 'sodUtc0': '7.982', 'sodUtc8': '7.937'}]}\n"
     ]
    }
   ],
   "source": [
    "import okx.MarketData as MarketData\n",
    "\n",
    "flag = \"1\"  # live trading: 0, demo trading: 1\n",
    "\n",
    "marketDataAPI = MarketData.MarketAPI(flag = flag)\n",
    "\n",
    "result = marketDataAPI.get_tickers(instType = \"SWAP\")\n",
    "print(result)"
   ]
  },
  {
   "cell_type": "markdown",
   "metadata": {
    "pycharm": {
     "name": "#%% md\n"
    }
   },
   "source": [
    "# Prepare for trading\n",
    "- Make sure you understand the basic trading rules. Please refer to [Basic Trading Rules](https://www.okx.com/support/hc/en-us/sections/360011507312)\n",
    "- Make sure you have enough funds in your trading account. Please refer to  [Get balance](https://www.okx.com/docs-v5/en/#rest-api-account-get-balance)."
   ]
  },
  {
   "cell_type": "markdown",
   "metadata": {
    "pycharm": {
     "name": "#%% md\n"
    }
   },
   "source": [
    "## Get account balance. Please refer to  [Get balance](https://www.okx.com/docs-v5/en/#rest-api-account-get-balance)."
   ]
  },
  {
   "cell_type": "code",
   "execution_count": 5,
   "metadata": {
    "pycharm": {
     "name": "#%%\n"
    },
    "scrolled": true
   },
   "outputs": [
    {
     "name": "stderr",
     "output_type": "stream",
     "text": [
      "\u001b[32m2024-12-12 11:29:09.096\u001b[0m | \u001b[34m\u001b[1mDEBUG   \u001b[0m | \u001b[36mokx.utils\u001b[0m:\u001b[36mpre_hash\u001b[0m:\u001b[36m18\u001b[0m - \u001b[34m\u001b[1mbody: \u001b[0m\n",
      "\u001b[32m2024-12-12 11:29:09.096\u001b[0m | \u001b[34m\u001b[1mDEBUG   \u001b[0m | \u001b[36mokx.utils\u001b[0m:\u001b[36mget_header\u001b[0m:\u001b[36m31\u001b[0m - \u001b[34m\u001b[1mheader: {'Content-Type': 'application/json', 'OK-ACCESS-KEY': '80791c49-301a-401e-9e5a-5ec357eaacc9', 'OK-ACCESS-SIGN': b'we9p+0y1+UFf0XczxA9BQGEkY5Ps5M+LzCSH3fp5zUM=', 'OK-ACCESS-TIMESTAMP': '2024-12-12T03:29:09.096Z', 'OK-ACCESS-PASSPHRASE': 'Robin3910!', 'x-simulated-trading': '1'}\u001b[0m\n",
      "\u001b[32m2024-12-12 11:29:09.097\u001b[0m | \u001b[34m\u001b[1mDEBUG   \u001b[0m | \u001b[36mokx.okxclient\u001b[0m:\u001b[36m_request\u001b[0m:\u001b[36m42\u001b[0m - \u001b[34m\u001b[1mdomain: https://www.okx.com\u001b[0m\n",
      "\u001b[32m2024-12-12 11:29:09.097\u001b[0m | \u001b[34m\u001b[1mDEBUG   \u001b[0m | \u001b[36mokx.okxclient\u001b[0m:\u001b[36m_request\u001b[0m:\u001b[36m43\u001b[0m - \u001b[34m\u001b[1murl: /api/v5/account/balance\u001b[0m\n",
      "\u001b[32m2024-12-12 11:29:09.097\u001b[0m | \u001b[34m\u001b[1mDEBUG   \u001b[0m | \u001b[36mokx.okxclient\u001b[0m:\u001b[36m_request\u001b[0m:\u001b[36m44\u001b[0m - \u001b[34m\u001b[1mbody:\u001b[0m\n"
     ]
    },
    {
     "name": "stdout",
     "output_type": "stream",
     "text": [
      "{'code': '0', 'data': [{'adjEq': '', 'borrowFroz': '', 'details': [{'accAvgPx': '101478.60537537535', 'availBal': '3.00098596305', 'availEq': '', 'borrowFroz': '', 'cashBal': '3.00098596305', 'ccy': 'BTC', 'clSpotInUseAmt': '', 'crossLiab': '', 'disEq': '298358.67265939905', 'eq': '3.00098596305', 'eqUsd': '304447.62516265205', 'fixedBal': '0', 'frozenBal': '0', 'imr': '', 'interest': '', 'isoEq': '0', 'isoLiab': '', 'isoUpl': '', 'liab': '', 'maxLoan': '', 'maxSpotInUse': '', 'mgnRatio': '', 'mmr': '', 'notionalLever': '', 'openAvgPx': '101377.12677', 'ordFrozen': '0', 'rewardBal': '', 'smtSyncEq': '0', 'spotBal': '0.0009859630500002', 'spotCopyTradingEq': '0', 'spotInUseAmt': '', 'spotIsoBal': '0', 'spotUpl': '0.0710615416741608', 'spotUplRatio': '0.0007109417311018', 'stgyEq': '0', 'totalPnl': '-0.0289926135914982', 'totalPnlRatio': '-0.0002897692106291', 'twap': '0', 'uTime': '1733974040268', 'upl': '', 'uplLiab': ''}, {'accAvgPx': '', 'availBal': '9000', 'availEq': '', 'borrowFroz': '', 'cashBal': '9000', 'ccy': 'TUSD', 'clSpotInUseAmt': '', 'crossLiab': '', 'disEq': '0', 'eq': '9000', 'eqUsd': '90651.5374986', 'fixedBal': '0', 'frozenBal': '0', 'imr': '', 'interest': '', 'isoEq': '0', 'isoLiab': '', 'isoUpl': '', 'liab': '', 'maxLoan': '', 'maxSpotInUse': '', 'mgnRatio': '', 'mmr': '', 'notionalLever': '', 'openAvgPx': '', 'ordFrozen': '0', 'rewardBal': '', 'smtSyncEq': '0', 'spotBal': '', 'spotCopyTradingEq': '0', 'spotInUseAmt': '', 'spotIsoBal': '0', 'spotUpl': '', 'spotUplRatio': '', 'stgyEq': '0', 'totalPnl': '', 'totalPnlRatio': '', 'twap': '0', 'uTime': '1651306734794', 'upl': '', 'uplLiab': ''}, {'accAvgPx': '', 'availBal': '15', 'availEq': '', 'borrowFroz': '', 'cashBal': '15', 'ccy': 'ETH', 'clSpotInUseAmt': '', 'crossLiab': '', 'disEq': '57605.625', 'eq': '15', 'eqUsd': '58781.25', 'fixedBal': '0', 'frozenBal': '0', 'imr': '', 'interest': '', 'isoEq': '0', 'isoLiab': '', 'isoUpl': '', 'liab': '', 'maxLoan': '', 'maxSpotInUse': '', 'mgnRatio': '', 'mmr': '', 'notionalLever': '', 'openAvgPx': '', 'ordFrozen': '0', 'rewardBal': '', 'smtSyncEq': '0', 'spotBal': '', 'spotCopyTradingEq': '0', 'spotInUseAmt': '', 'spotIsoBal': '0', 'spotUpl': '', 'spotUplRatio': '', 'stgyEq': '0', 'totalPnl': '', 'totalPnlRatio': '', 'twap': '0', 'uTime': '1651306734794', 'upl': '', 'uplLiab': ''}, {'accAvgPx': '', 'availBal': '1500', 'availEq': '', 'borrowFroz': '', 'cashBal': '1500', 'ccy': 'UNI', 'clSpotInUseAmt': '', 'crossLiab': '', 'disEq': '23184.600000000002', 'eq': '1500', 'eqUsd': '27276', 'fixedBal': '0', 'frozenBal': '0', 'imr': '', 'interest': '', 'isoEq': '0', 'isoLiab': '', 'isoUpl': '', 'liab': '', 'maxLoan': '', 'maxSpotInUse': '', 'mgnRatio': '', 'mmr': '', 'notionalLever': '', 'openAvgPx': '', 'ordFrozen': '0', 'rewardBal': '', 'smtSyncEq': '0', 'spotBal': '', 'spotCopyTradingEq': '0', 'spotInUseAmt': '', 'spotIsoBal': '0', 'spotUpl': '', 'spotUplRatio': '', 'stgyEq': '0', 'totalPnl': '', 'totalPnlRatio': '', 'twap': '0', 'uTime': '1651306734794', 'upl': '', 'uplLiab': ''}, {'accAvgPx': '', 'availBal': '300', 'availEq': '', 'borrowFroz': '', 'cashBal': '300', 'ccy': 'OKB', 'clSpotInUseAmt': '', 'crossLiab': '', 'disEq': '15106.77', 'eq': '300', 'eqUsd': '16785.3', 'fixedBal': '0', 'frozenBal': '0', 'imr': '', 'interest': '', 'isoEq': '0', 'isoLiab': '', 'isoUpl': '', 'liab': '', 'maxLoan': '', 'maxSpotInUse': '', 'mgnRatio': '', 'mmr': '', 'notionalLever': '', 'openAvgPx': '', 'ordFrozen': '0', 'rewardBal': '', 'smtSyncEq': '0', 'spotBal': '', 'spotCopyTradingEq': '0', 'spotInUseAmt': '', 'spotIsoBal': '0', 'spotUpl': '', 'spotUplRatio': '', 'stgyEq': '0', 'totalPnl': '', 'totalPnlRatio': '', 'twap': '0', 'uTime': '1651306734742', 'upl': '', 'uplLiab': ''}, {'accAvgPx': '', 'availBal': '9000', 'availEq': '', 'borrowFroz': '', 'cashBal': '9000', 'ccy': 'USDK', 'clSpotInUseAmt': '', 'crossLiab': '', 'disEq': '0', 'eq': '9000', 'eqUsd': '9000', 'fixedBal': '0', 'frozenBal': '0', 'imr': '', 'interest': '', 'isoEq': '0', 'isoLiab': '', 'isoUpl': '', 'liab': '', 'maxLoan': '', 'maxSpotInUse': '', 'mgnRatio': '', 'mmr': '', 'notionalLever': '', 'openAvgPx': '', 'ordFrozen': '0', 'rewardBal': '', 'smtSyncEq': '0', 'spotBal': '', 'spotCopyTradingEq': '0', 'spotInUseAmt': '', 'spotIsoBal': '0', 'spotUpl': '', 'spotUplRatio': '', 'stgyEq': '0', 'totalPnl': '', 'totalPnlRatio': '', 'twap': '0', 'uTime': '1651306734742', 'upl': '', 'uplLiab': ''}, {'accAvgPx': '', 'availBal': '9000', 'availEq': '', 'borrowFroz': '', 'cashBal': '9000', 'ccy': 'USDC', 'clSpotInUseAmt': '', 'crossLiab': '', 'disEq': '8818.236', 'eq': '9000', 'eqUsd': '8998.2', 'fixedBal': '0', 'frozenBal': '0', 'imr': '', 'interest': '', 'isoEq': '0', 'isoLiab': '', 'isoUpl': '', 'liab': '', 'maxLoan': '', 'maxSpotInUse': '', 'mgnRatio': '', 'mmr': '', 'notionalLever': '', 'openAvgPx': '', 'ordFrozen': '0', 'rewardBal': '', 'smtSyncEq': '0', 'spotBal': '', 'spotCopyTradingEq': '0', 'spotInUseAmt': '', 'spotIsoBal': '0', 'spotUpl': '', 'spotUplRatio': '', 'stgyEq': '0', 'totalPnl': '', 'totalPnlRatio': '', 'twap': '0', 'uTime': '1651306734794', 'upl': '', 'uplLiab': ''}, {'accAvgPx': '', 'availBal': '9000', 'availEq': '', 'borrowFroz': '', 'cashBal': '9000', 'ccy': 'PAX', 'clSpotInUseAmt': '', 'crossLiab': '', 'disEq': '0', 'eq': '9000', 'eqUsd': '8990.1', 'fixedBal': '0', 'frozenBal': '0', 'imr': '', 'interest': '', 'isoEq': '0', 'isoLiab': '', 'isoUpl': '', 'liab': '', 'maxLoan': '', 'maxSpotInUse': '', 'mgnRatio': '', 'mmr': '', 'notionalLever': '', 'openAvgPx': '', 'ordFrozen': '0', 'rewardBal': '', 'smtSyncEq': '0', 'spotBal': '', 'spotCopyTradingEq': '0', 'spotInUseAmt': '', 'spotIsoBal': '0', 'spotUpl': '', 'spotUplRatio': '', 'stgyEq': '0', 'totalPnl': '', 'totalPnlRatio': '', 'twap': '0', 'uTime': '1651306734742', 'upl': '', 'uplLiab': ''}, {'accAvgPx': '', 'availBal': '8000.00084427', 'availEq': '', 'borrowFroz': '', 'cashBal': '8900.00084427', 'ccy': 'USDT', 'clSpotInUseAmt': '', 'crossLiab': '', 'disEq': '8904.183844666806', 'eq': '8900.00084427', 'eqUsd': '8904.183844666806', 'fixedBal': '0', 'frozenBal': '900', 'imr': '', 'interest': '', 'isoEq': '0', 'isoLiab': '', 'isoUpl': '', 'liab': '', 'maxLoan': '', 'maxSpotInUse': '', 'mgnRatio': '', 'mmr': '', 'notionalLever': '', 'openAvgPx': '', 'ordFrozen': '900', 'rewardBal': '', 'smtSyncEq': '0', 'spotBal': '', 'spotCopyTradingEq': '0', 'spotInUseAmt': '', 'spotIsoBal': '0', 'spotUpl': '', 'spotUplRatio': '', 'stgyEq': '0', 'totalPnl': '', 'totalPnlRatio': '', 'twap': '0', 'uTime': '1733974040268', 'upl': '', 'uplLiab': ''}, {'accAvgPx': '', 'availBal': '30000', 'availEq': '', 'borrowFroz': '', 'cashBal': '30000', 'ccy': 'TRX', 'clSpotInUseAmt': '', 'crossLiab': '', 'disEq': '7394.999999999999', 'eq': '30000', 'eqUsd': '8700', 'fixedBal': '0', 'frozenBal': '0', 'imr': '', 'interest': '', 'isoEq': '0', 'isoLiab': '', 'isoUpl': '', 'liab': '', 'maxLoan': '', 'maxSpotInUse': '', 'mgnRatio': '', 'mmr': '', 'notionalLever': '', 'openAvgPx': '', 'ordFrozen': '0', 'rewardBal': '', 'smtSyncEq': '0', 'spotBal': '', 'spotCopyTradingEq': '0', 'spotInUseAmt': '', 'spotIsoBal': '0', 'spotUpl': '', 'spotUplRatio': '', 'stgyEq': '0', 'totalPnl': '', 'totalPnlRatio': '', 'twap': '0', 'uTime': '1651306734794', 'upl': '', 'uplLiab': ''}, {'accAvgPx': '', 'availBal': '30', 'availEq': '', 'borrowFroz': '', 'cashBal': '30', 'ccy': 'LTC', 'clSpotInUseAmt': '', 'crossLiab': '', 'disEq': '3471.585', 'eq': '30', 'eqUsd': '3654.3', 'fixedBal': '0', 'frozenBal': '0', 'imr': '', 'interest': '', 'isoEq': '0', 'isoLiab': '', 'isoUpl': '', 'liab': '', 'maxLoan': '', 'maxSpotInUse': '', 'mgnRatio': '', 'mmr': '', 'notionalLever': '', 'openAvgPx': '', 'ordFrozen': '0', 'rewardBal': '', 'smtSyncEq': '0', 'spotBal': '', 'spotCopyTradingEq': '0', 'spotInUseAmt': '', 'spotIsoBal': '0', 'spotUpl': '', 'spotUplRatio': '', 'stgyEq': '0', 'totalPnl': '', 'totalPnlRatio': '', 'twap': '0', 'uTime': '1651306734794', 'upl': '', 'uplLiab': ''}, {'accAvgPx': '', 'availBal': '3000', 'availEq': '', 'borrowFroz': '', 'cashBal': '3000', 'ccy': 'ADA', 'clSpotInUseAmt': '', 'crossLiab': '', 'disEq': '3065.9309999999996', 'eq': '3000', 'eqUsd': '3406.5899999999997', 'fixedBal': '0', 'frozenBal': '0', 'imr': '', 'interest': '', 'isoEq': '0', 'isoLiab': '', 'isoUpl': '', 'liab': '', 'maxLoan': '', 'maxSpotInUse': '', 'mgnRatio': '', 'mmr': '', 'notionalLever': '', 'openAvgPx': '', 'ordFrozen': '0', 'rewardBal': '', 'smtSyncEq': '0', 'spotBal': '', 'spotCopyTradingEq': '0', 'spotInUseAmt': '', 'spotIsoBal': '0', 'spotUpl': '', 'spotUplRatio': '', 'stgyEq': '0', 'totalPnl': '', 'totalPnlRatio': '', 'twap': '0', 'uTime': '1651306734794', 'upl': '', 'uplLiab': ''}, {'accAvgPx': '', 'availBal': '300', 'availEq': '', 'borrowFroz': '', 'cashBal': '300', 'ccy': 'JFI', 'clSpotInUseAmt': '', 'crossLiab': '', 'disEq': '0', 'eq': '300', 'eqUsd': '29.994', 'fixedBal': '0', 'frozenBal': '0', 'imr': '', 'interest': '', 'isoEq': '0', 'isoLiab': '', 'isoUpl': '', 'liab': '', 'maxLoan': '', 'maxSpotInUse': '', 'mgnRatio': '', 'mmr': '', 'notionalLever': '', 'openAvgPx': '', 'ordFrozen': '0', 'rewardBal': '', 'smtSyncEq': '0', 'spotBal': '', 'spotCopyTradingEq': '0', 'spotInUseAmt': '', 'spotIsoBal': '0', 'spotUpl': '', 'spotUplRatio': '', 'stgyEq': '0', 'totalPnl': '', 'totalPnlRatio': '', 'twap': '0', 'uTime': '1651306734742', 'upl': '', 'uplLiab': ''}], 'imr': '', 'isoEq': '', 'mgnRatio': '', 'mmr': '', 'notionalUsd': '', 'ordFroz': '', 'totalEq': '549625.0805059188', 'uTime': '1733974149511', 'upl': ''}], 'msg': ''}\n"
     ]
    }
   ],
   "source": [
    "import okx.Account as Account\n",
    "flag = \"1\"  # live trading: 0, demo trading: 1\n",
    "\n",
    "accountAPI = Account.AccountAPI(api_key, secret_key, passphrase, False, flag)\n",
    "\n",
    "result = accountAPI.get_account_balance()\n",
    "print(result)"
   ]
  },
  {
   "cell_type": "markdown",
   "metadata": {
    "pycharm": {
     "name": "#%% md\n"
    }
   },
   "source": [
    "## Get available trading pairs from [Get instruments](https://www.okx.com/docs-v5/en/#rest-api-public-data-get-instruments).\n",
    "As in the same manner, choose the instType that you would like to get information for."
   ]
  },
  {
   "cell_type": "code",
   "execution_count": 6,
   "metadata": {
    "pycharm": {
     "name": "#%%\n"
    },
    "scrolled": true
   },
   "outputs": [
    {
     "name": "stderr",
     "output_type": "stream",
     "text": [
      "\u001b[32m2024-12-12 11:29:35.854\u001b[0m | \u001b[34m\u001b[1mDEBUG   \u001b[0m | \u001b[36mokx.utils\u001b[0m:\u001b[36mget_header_no_sign\u001b[0m:\u001b[36m39\u001b[0m - \u001b[34m\u001b[1mheader: {'Content-Type': 'application/json', 'x-simulated-trading': '1'}\u001b[0m\n",
      "\u001b[32m2024-12-12 11:29:35.854\u001b[0m | \u001b[34m\u001b[1mDEBUG   \u001b[0m | \u001b[36mokx.okxclient\u001b[0m:\u001b[36m_request\u001b[0m:\u001b[36m42\u001b[0m - \u001b[34m\u001b[1mdomain: https://www.okx.com\u001b[0m\n",
      "\u001b[32m2024-12-12 11:29:35.855\u001b[0m | \u001b[34m\u001b[1mDEBUG   \u001b[0m | \u001b[36mokx.okxclient\u001b[0m:\u001b[36m_request\u001b[0m:\u001b[36m43\u001b[0m - \u001b[34m\u001b[1murl: /api/v5/public/instruments?instType=SWAP\u001b[0m\n",
      "\u001b[32m2024-12-12 11:29:35.855\u001b[0m | \u001b[34m\u001b[1mDEBUG   \u001b[0m | \u001b[36mokx.okxclient\u001b[0m:\u001b[36m_request\u001b[0m:\u001b[36m44\u001b[0m - \u001b[34m\u001b[1mbody:\u001b[0m\n"
     ]
    },
    {
     "name": "stdout",
     "output_type": "stream",
     "text": [
      "{'code': '0', 'data': [{'alias': '', 'auctionEndTime': '', 'baseCcy': '', 'category': '1', 'ctMult': '1', 'ctType': 'inverse', 'ctVal': '100', 'ctValCcy': 'USD', 'expTime': '', 'instFamily': 'TESTPM-USD', 'instId': 'TESTPM-USD-SWAP', 'instType': 'SWAP', 'lever': '125', 'listTime': '', 'lotSz': '1', 'maxIcebergSz': '', 'maxLmtAmt': '1000000', 'maxLmtSz': '100000000', 'maxMktAmt': '', 'maxMktSz': '4000', 'maxStopSz': '4000', 'maxTriggerSz': '', 'maxTwapSz': '', 'minSz': '1', 'optType': '', 'quoteCcy': '', 'ruleType': 'normal', 'settleCcy': 'TESTPM', 'state': 'test', 'stk': '', 'tickSz': '0.1', 'uly': 'TESTPM-USD'}, {'alias': '', 'auctionEndTime': '', 'baseCcy': '', 'category': '1', 'ctMult': '1', 'ctType': 'inverse', 'ctVal': '100', 'ctValCcy': 'USD', 'expTime': '', 'instFamily': 'BTC-USD', 'instId': 'BTC-USD-SWAP', 'instType': 'SWAP', 'lever': '125', 'listTime': '1605100995892', 'lotSz': '1', 'maxIcebergSz': '100000000.0000000000000000', 'maxLmtAmt': '1000000', 'maxLmtSz': '100000000', 'maxMktAmt': '', 'maxMktSz': '30000', 'maxStopSz': '30000', 'maxTriggerSz': '100000000.0000000000000000', 'maxTwapSz': '100000000.0000000000000000', 'minSz': '1', 'optType': '', 'quoteCcy': '', 'ruleType': 'normal', 'settleCcy': 'BTC', 'state': 'live', 'stk': '', 'tickSz': '0.1', 'uly': 'BTC-USD'}, {'alias': '', 'auctionEndTime': '', 'baseCcy': '', 'category': '1', 'ctMult': '1', 'ctType': 'inverse', 'ctVal': '10', 'ctValCcy': 'USD', 'expTime': '', 'instFamily': 'ETH-USD', 'instId': 'ETH-USD-SWAP', 'instType': 'SWAP', 'lever': '100', 'listTime': '1605101061492', 'lotSz': '1', 'maxIcebergSz': '100000000.0000000000000000', 'maxLmtAmt': '1000000', 'maxLmtSz': '100000000', 'maxMktAmt': '', 'maxMktSz': '300000', 'maxStopSz': '300000', 'maxTriggerSz': '100000000.0000000000000000', 'maxTwapSz': '100000000.0000000000000000', 'minSz': '1', 'optType': '', 'quoteCcy': '', 'ruleType': 'normal', 'settleCcy': 'ETH', 'state': 'live', 'stk': '', 'tickSz': '0.01', 'uly': 'ETH-USD'}, {'alias': '', 'auctionEndTime': '', 'baseCcy': '', 'category': '1', 'ctMult': '1', 'ctType': 'inverse', 'ctVal': '10', 'ctValCcy': 'USD', 'expTime': '', 'instFamily': 'LTC-USD', 'instId': 'LTC-USD-SWAP', 'instType': 'SWAP', 'lever': '50', 'listTime': '1605101156571', 'lotSz': '0.1', 'maxIcebergSz': '100000000.0000000000000000', 'maxLmtAmt': '1000000', 'maxLmtSz': '100000000', 'maxMktAmt': '', 'maxMktSz': '550000', 'maxStopSz': '550000', 'maxTriggerSz': '100000000.0000000000000000', 'maxTwapSz': '100000000.0000000000000000', 'minSz': '0.1', 'optType': '', 'quoteCcy': '', 'ruleType': 'normal', 'settleCcy': 'LTC', 'state': 'live', 'stk': '', 'tickSz': '0.0002', 'uly': 'LTC-USD'}, {'alias': '', 'auctionEndTime': '', 'baseCcy': '', 'category': '1', 'ctMult': '1', 'ctType': 'inverse', 'ctVal': '10', 'ctValCcy': 'USD', 'expTime': '', 'instFamily': 'SOL-USD', 'instId': 'SOL-USD-SWAP', 'instType': 'SWAP', 'lever': '50', 'listTime': '1648896494457', 'lotSz': '1', 'maxIcebergSz': '100000000.0000000000000000', 'maxLmtAmt': '1000000', 'maxLmtSz': '100000000', 'maxMktAmt': '', 'maxMktSz': '12000', 'maxStopSz': '12000', 'maxTriggerSz': '100000000.0000000000000000', 'maxTwapSz': '100000000.0000000000000000', 'minSz': '1', 'optType': '', 'quoteCcy': '', 'ruleType': 'normal', 'settleCcy': 'SOL', 'state': 'live', 'stk': '', 'tickSz': '0.01', 'uly': 'SOL-USD'}, {'alias': '', 'auctionEndTime': '', 'baseCcy': '', 'category': '1', 'ctMult': '1', 'ctType': 'inverse', 'ctVal': '10', 'ctValCcy': 'USD', 'expTime': '', 'instFamily': 'DOGE-USD', 'instId': 'DOGE-USD-SWAP', 'instType': 'SWAP', 'lever': '50', 'listTime': '1666857862708', 'lotSz': '1', 'maxIcebergSz': '100000000.0000000000000000', 'maxLmtAmt': '1000000', 'maxLmtSz': '100000000', 'maxMktAmt': '', 'maxMktSz': '30000', 'maxStopSz': '30000', 'maxTriggerSz': '100000000.0000000000000000', 'maxTwapSz': '100000000.0000000000000000', 'minSz': '1', 'optType': '', 'quoteCcy': '', 'ruleType': 'normal', 'settleCcy': 'DOGE', 'state': 'live', 'stk': '', 'tickSz': '0.00001', 'uly': 'DOGE-USD'}, {'alias': '', 'auctionEndTime': '', 'baseCcy': '', 'category': '1', 'ctMult': '1', 'ctType': 'inverse', 'ctVal': '10', 'ctValCcy': 'USD', 'expTime': '', 'instFamily': '1INCH-USD', 'instId': '1INCH-USD-SWAP', 'instType': 'SWAP', 'lever': '20', 'listTime': '1684834840290', 'lotSz': '1', 'maxIcebergSz': '100000000.0000000000000000', 'maxLmtAmt': '1000000', 'maxLmtSz': '100000000', 'maxMktAmt': '', 'maxMktSz': '4000', 'maxStopSz': '4000', 'maxTriggerSz': '100000000.0000000000000000', 'maxTwapSz': '100000000.0000000000000000', 'minSz': '1', 'optType': '', 'quoteCcy': '', 'ruleType': 'normal', 'settleCcy': '1INCH', 'state': 'live', 'stk': '', 'tickSz': '0.0001', 'uly': '1INCH-USD'}, {'alias': '', 'auctionEndTime': '', 'baseCcy': '', 'category': '1', 'ctMult': '1', 'ctType': 'inverse', 'ctVal': '10', 'ctValCcy': 'USD', 'expTime': '', 'instFamily': 'ADA-USD', 'instId': 'ADA-USD-SWAP', 'instType': 'SWAP', 'lever': '50', 'listTime': '1605101201794', 'lotSz': '1', 'maxIcebergSz': '100000000.0000000000000000', 'maxLmtAmt': '1000000', 'maxLmtSz': '100000000', 'maxMktAmt': '', 'maxMktSz': '10000', 'maxStopSz': '10000', 'maxTriggerSz': '100000000.0000000000000000', 'maxTwapSz': '100000000.0000000000000000', 'minSz': '1', 'optType': '', 'quoteCcy': '', 'ruleType': 'normal', 'settleCcy': 'ADA', 'state': 'live', 'stk': '', 'tickSz': '0.0001', 'uly': 'ADA-USD'}, {'alias': '', 'auctionEndTime': '', 'baseCcy': '', 'category': '1', 'ctMult': '1', 'ctType': 'inverse', 'ctVal': '10', 'ctValCcy': 'USD', 'expTime': '', 'instFamily': 'ALGO-USD', 'instId': 'ALGO-USD-SWAP', 'instType': 'SWAP', 'lever': '20', 'listTime': '1628564923643', 'lotSz': '1', 'maxIcebergSz': '100000000.0000000000000000', 'maxLmtAmt': '1000000', 'maxLmtSz': '100000000', 'maxMktAmt': '', 'maxMktSz': '4000', 'maxStopSz': '4000', 'maxTriggerSz': '100000000.0000000000000000', 'maxTwapSz': '100000000.0000000000000000', 'minSz': '1', 'optType': '', 'quoteCcy': '', 'ruleType': 'normal', 'settleCcy': 'ALGO', 'state': 'live', 'stk': '', 'tickSz': '0.0001', 'uly': 'ALGO-USD'}, {'alias': '', 'auctionEndTime': '', 'baseCcy': '', 'category': '1', 'ctMult': '1', 'ctType': 'inverse', 'ctVal': '10', 'ctValCcy': 'USD', 'expTime': '', 'instFamily': 'ATOM-USD', 'instId': 'ATOM-USD-SWAP', 'instType': 'SWAP', 'lever': '50', 'listTime': '1628509074712', 'lotSz': '1', 'maxIcebergSz': '100000000.0000000000000000', 'maxLmtAmt': '1000000', 'maxLmtSz': '100000000', 'maxMktAmt': '', 'maxMktSz': '6000', 'maxStopSz': '6000', 'maxTriggerSz': '100000000.0000000000000000', 'maxTwapSz': '100000000.0000000000000000', 'minSz': '1', 'optType': '', 'quoteCcy': '', 'ruleType': 'normal', 'settleCcy': 'ATOM', 'state': 'live', 'stk': '', 'tickSz': '0.001', 'uly': 'ATOM-USD'}, {'alias': '', 'auctionEndTime': '', 'baseCcy': '', 'category': '1', 'ctMult': '1', 'ctType': 'inverse', 'ctVal': '10', 'ctValCcy': 'USD', 'expTime': '', 'instFamily': 'AVAX-USD', 'instId': 'AVAX-USD-SWAP', 'instType': 'SWAP', 'lever': '50', 'listTime': '1653621925131', 'lotSz': '1', 'maxIcebergSz': '100000000.0000000000000000', 'maxLmtAmt': '1000000', 'maxLmtSz': '100000000', 'maxMktAmt': '', 'maxMktSz': '10000', 'maxStopSz': '10000', 'maxTriggerSz': '100000000.0000000000000000', 'maxTwapSz': '100000000.0000000000000000', 'minSz': '1', 'optType': '', 'quoteCcy': '', 'ruleType': 'normal', 'settleCcy': 'AVAX', 'state': 'live', 'stk': '', 'tickSz': '0.001', 'uly': 'AVAX-USD'}, {'alias': '', 'auctionEndTime': '', 'baseCcy': '', 'category': '1', 'ctMult': '1', 'ctType': 'inverse', 'ctVal': '10', 'ctValCcy': 'USD', 'expTime': '', 'instFamily': 'BCH-USD', 'instId': 'BCH-USD-SWAP', 'instType': 'SWAP', 'lever': '20', 'listTime': '1698996155593', 'lotSz': '1', 'maxIcebergSz': '100000000.0000000000000000', 'maxLmtAmt': '1000000', 'maxLmtSz': '100000000', 'maxMktAmt': '', 'maxMktSz': '30000', 'maxStopSz': '30000', 'maxTriggerSz': '100000000.0000000000000000', 'maxTwapSz': '100000000.0000000000000000', 'minSz': '1', 'optType': '', 'quoteCcy': '', 'ruleType': 'normal', 'settleCcy': 'BCH', 'state': 'live', 'stk': '', 'tickSz': '0.1', 'uly': 'BCH-USD'}, {'alias': '', 'auctionEndTime': '', 'baseCcy': '', 'category': '1', 'ctMult': '1', 'ctType': 'inverse', 'ctVal': '10', 'ctValCcy': 'USD', 'expTime': '', 'instFamily': 'BSV-USD', 'instId': 'BSV-USD-SWAP', 'instType': 'SWAP', 'lever': '20', 'listTime': '1666926059058', 'lotSz': '1', 'maxIcebergSz': '100000000.0000000000000000', 'maxLmtAmt': '1000000', 'maxLmtSz': '100000000', 'maxMktAmt': '', 'maxMktSz': '10000', 'maxStopSz': '10000', 'maxTriggerSz': '100000000.0000000000000000', 'maxTwapSz': '100000000.0000000000000000', 'minSz': '1', 'optType': '', 'quoteCcy': '', 'ruleType': 'normal', 'settleCcy': 'BSV', 'state': 'live', 'stk': '', 'tickSz': '0.01', 'uly': 'BSV-USD'}, {'alias': '', 'auctionEndTime': '', 'baseCcy': '', 'category': '1', 'ctMult': '1', 'ctType': 'inverse', 'ctVal': '10', 'ctValCcy': 'USD', 'expTime': '', 'instFamily': 'CRV-USD', 'instId': 'CRV-USD-SWAP', 'instType': 'SWAP', 'lever': '50', 'listTime': '1628664955587', 'lotSz': '1', 'maxIcebergSz': '100000000.0000000000000000', 'maxLmtAmt': '1000000', 'maxLmtSz': '100000000', 'maxMktAmt': '', 'maxMktSz': '4000', 'maxStopSz': '4000', 'maxTriggerSz': '100000000.0000000000000000', 'maxTwapSz': '100000000.0000000000000000', 'minSz': '1', 'optType': '', 'quoteCcy': '', 'ruleType': 'normal', 'settleCcy': 'CRV', 'state': 'live', 'stk': '', 'tickSz': '0.0001', 'uly': 'CRV-USD'}, {'alias': '', 'auctionEndTime': '', 'baseCcy': '', 'category': '1', 'ctMult': '1', 'ctType': 'inverse', 'ctVal': '10', 'ctValCcy': 'USD', 'expTime': '', 'instFamily': 'DOT-USD', 'instId': 'DOT-USD-SWAP', 'instType': 'SWAP', 'lever': '50', 'listTime': '1628664851034', 'lotSz': '1', 'maxIcebergSz': '100000000.0000000000000000', 'maxLmtAmt': '1000000', 'maxLmtSz': '100000000', 'maxMktAmt': '', 'maxMktSz': '12000', 'maxStopSz': '12000', 'maxTriggerSz': '100000000.0000000000000000', 'maxTwapSz': '100000000.0000000000000000', 'minSz': '1', 'optType': '', 'quoteCcy': '', 'ruleType': 'normal', 'settleCcy': 'DOT', 'state': 'live', 'stk': '', 'tickSz': '0.005', 'uly': 'DOT-USD'}, {'alias': '', 'auctionEndTime': '', 'baseCcy': '', 'category': '1', 'ctMult': '1', 'ctType': 'inverse', 'ctVal': '10', 'ctValCcy': 'USD', 'expTime': '', 'instFamily': 'EOS-USD', 'instId': 'EOS-USD-SWAP', 'instType': 'SWAP', 'lever': '50', 'listTime': '1628686066739', 'lotSz': '1', 'maxIcebergSz': '100000000.0000000000000000', 'maxLmtAmt': '1000000', 'maxLmtSz': '100000000', 'maxMktAmt': '', 'maxMktSz': '30000', 'maxStopSz': '30000', 'maxTriggerSz': '100000000.0000000000000000', 'maxTwapSz': '100000000.0000000000000000', 'minSz': '1', 'optType': '', 'quoteCcy': '', 'ruleType': 'normal', 'settleCcy': 'EOS', 'state': 'live', 'stk': '', 'tickSz': '0.0001', 'uly': 'EOS-USD'}, {'alias': '', 'auctionEndTime': '', 'baseCcy': '', 'category': '1', 'ctMult': '1', 'ctType': 'inverse', 'ctVal': '10', 'ctValCcy': 'USD', 'expTime': '', 'instFamily': 'ETC-USD', 'instId': 'ETC-USD-SWAP', 'instType': 'SWAP', 'lever': '50', 'listTime': '1628664805829', 'lotSz': '1', 'maxIcebergSz': '100000000.0000000000000000', 'maxLmtAmt': '1000000', 'maxLmtSz': '100000000', 'maxMktAmt': '', 'maxMktSz': '20000', 'maxStopSz': '20000', 'maxTriggerSz': '100000000.0000000000000000', 'maxTwapSz': '100000000.0000000000000000', 'minSz': '1', 'optType': '', 'quoteCcy': '', 'ruleType': 'normal', 'settleCcy': 'ETC', 'state': 'live', 'stk': '', 'tickSz': '0.01', 'uly': 'ETC-USD'}, {'alias': '', 'auctionEndTime': '', 'baseCcy': '', 'category': '1', 'ctMult': '1', 'ctType': 'inverse', 'ctVal': '10', 'ctValCcy': 'USD', 'expTime': '', 'instFamily': 'FET-USD', 'instId': 'FET-USD-SWAP', 'instType': 'SWAP', 'lever': '20', 'listTime': '1715247122351', 'lotSz': '1', 'maxIcebergSz': '100000000.0000000000000000', 'maxLmtAmt': '1000000', 'maxLmtSz': '100000000', 'maxMktAmt': '', 'maxMktSz': '10000', 'maxStopSz': '10000', 'maxTriggerSz': '100000000.0000000000000000', 'maxTwapSz': '100000000.0000000000000000', 'minSz': '1', 'optType': '', 'quoteCcy': '', 'ruleType': 'normal', 'settleCcy': 'FET', 'state': 'live', 'stk': '', 'tickSz': '0.0001', 'uly': 'FET-USD'}, {'alias': '', 'auctionEndTime': '', 'baseCcy': '', 'category': '1', 'ctMult': '1', 'ctType': 'inverse', 'ctVal': '10', 'ctValCcy': 'USD', 'expTime': '', 'instFamily': 'FIL-USD', 'instId': 'FIL-USD-SWAP', 'instType': 'SWAP', 'lever': '50', 'listTime': '1672131378417', 'lotSz': '1', 'maxIcebergSz': '100000000.0000000000000000', 'maxLmtAmt': '1000000', 'maxLmtSz': '100000000', 'maxMktAmt': '', 'maxMktSz': '150000', 'maxStopSz': '150000', 'maxTriggerSz': '100000000.0000000000000000', 'maxTwapSz': '100000000.0000000000000000', 'minSz': '1', 'optType': '', 'quoteCcy': '', 'ruleType': 'normal', 'settleCcy': 'FIL', 'state': 'live', 'stk': '', 'tickSz': '0.001', 'uly': 'FIL-USD'}, {'alias': '', 'auctionEndTime': '', 'baseCcy': '', 'category': '1', 'ctMult': '1', 'ctType': 'inverse', 'ctVal': '10', 'ctValCcy': 'USD', 'expTime': '', 'instFamily': 'GRT-USD', 'instId': 'GRT-USD-SWAP', 'instType': 'SWAP', 'lever': '20', 'listTime': '1628664784167', 'lotSz': '1', 'maxIcebergSz': '100000000.0000000000000000', 'maxLmtAmt': '1000000', 'maxLmtSz': '100000000', 'maxMktAmt': '', 'maxMktSz': '1000', 'maxStopSz': '1000', 'maxTriggerSz': '100000000.0000000000000000', 'maxTwapSz': '100000000.0000000000000000', 'minSz': '1', 'optType': '', 'quoteCcy': '', 'ruleType': 'normal', 'settleCcy': 'GRT', 'state': 'live', 'stk': '', 'tickSz': '0.0001', 'uly': 'GRT-USD'}, {'alias': '', 'auctionEndTime': '', 'baseCcy': '', 'category': '1', 'ctMult': '1', 'ctType': 'inverse', 'ctVal': '10', 'ctValCcy': 'USD', 'expTime': '', 'instFamily': 'LINK-USD', 'instId': 'LINK-USD-SWAP', 'instType': 'SWAP', 'lever': '50', 'listTime': '1628671457286', 'lotSz': '1', 'maxIcebergSz': '100000000.0000000000000000', 'maxLmtAmt': '1000000', 'maxLmtSz': '100000000', 'maxMktAmt': '', 'maxMktSz': '20000', 'maxStopSz': '20000', 'maxTriggerSz': '100000000.0000000000000000', 'maxTwapSz': '100000000.0000000000000000', 'minSz': '1', 'optType': '', 'quoteCcy': '', 'ruleType': 'normal', 'settleCcy': 'LINK', 'state': 'live', 'stk': '', 'tickSz': '0.001', 'uly': 'LINK-USD'}, {'alias': '', 'auctionEndTime': '', 'baseCcy': '', 'category': '1', 'ctMult': '1', 'ctType': 'inverse', 'ctVal': '10', 'ctValCcy': 'USD', 'expTime': '', 'instFamily': 'NEO-USD', 'instId': 'NEO-USD-SWAP', 'instType': 'SWAP', 'lever': '50', 'listTime': '1628658147691', 'lotSz': '1', 'maxIcebergSz': '100000000.0000000000000000', 'maxLmtAmt': '1000000', 'maxLmtSz': '100000000', 'maxMktAmt': '', 'maxMktSz': '10000', 'maxStopSz': '10000', 'maxTriggerSz': '100000000.0000000000000000', 'maxTwapSz': '100000000.0000000000000000', 'minSz': '1', 'optType': '', 'quoteCcy': '', 'ruleType': 'normal', 'settleCcy': 'NEO', 'state': 'live', 'stk': '', 'tickSz': '0.001', 'uly': 'NEO-USD'}, {'alias': '', 'auctionEndTime': '', 'baseCcy': '', 'category': '1', 'ctMult': '1', 'ctType': 'inverse', 'ctVal': '10', 'ctValCcy': 'USD', 'expTime': '', 'instFamily': 'SUI-USD', 'instId': 'SUI-USD-SWAP', 'instType': 'SWAP', 'lever': '20', 'listTime': '1729130701551', 'lotSz': '1', 'maxIcebergSz': '100000000.0000000000000000', 'maxLmtAmt': '1000000', 'maxLmtSz': '100000000', 'maxMktAmt': '', 'maxMktSz': '10000', 'maxStopSz': '10000', 'maxTriggerSz': '100000000.0000000000000000', 'maxTwapSz': '100000000.0000000000000000', 'minSz': '1', 'optType': '', 'quoteCcy': '', 'ruleType': 'normal', 'settleCcy': 'SUI', 'state': 'live', 'stk': '', 'tickSz': '0.0001', 'uly': 'SUI-USD'}, {'alias': '', 'auctionEndTime': '', 'baseCcy': '', 'category': '1', 'ctMult': '1', 'ctType': 'inverse', 'ctVal': '10', 'ctValCcy': 'USD', 'expTime': '', 'instFamily': 'SUSHI-USD', 'instId': 'SUSHI-USD-SWAP', 'instType': 'SWAP', 'lever': '75', 'listTime': '1628658135440', 'lotSz': '1', 'maxIcebergSz': '100000000.0000000000000000', 'maxLmtAmt': '1000000', 'maxLmtSz': '100000000', 'maxMktAmt': '', 'maxMktSz': '10000', 'maxStopSz': '10000', 'maxTriggerSz': '100000000.0000000000000000', 'maxTwapSz': '100000000.0000000000000000', 'minSz': '1', 'optType': '', 'quoteCcy': '', 'ruleType': 'normal', 'settleCcy': 'SUSHI', 'state': 'live', 'stk': '', 'tickSz': '0.0001', 'uly': 'SUSHI-USD'}, {'alias': '', 'auctionEndTime': '', 'baseCcy': '', 'category': '1', 'ctMult': '1', 'ctType': 'inverse', 'ctVal': '10', 'ctValCcy': 'USD', 'expTime': '', 'instFamily': 'TRX-USD', 'instId': 'TRX-USD-SWAP', 'instType': 'SWAP', 'lever': '50', 'listTime': '1605101183395', 'lotSz': '1', 'maxIcebergSz': '100000000.0000000000000000', 'maxLmtAmt': '1000000', 'maxLmtSz': '100000000', 'maxMktAmt': '', 'maxMktSz': '15000', 'maxStopSz': '15000', 'maxTriggerSz': '100000000.0000000000000000', 'maxTwapSz': '100000000.0000000000000000', 'minSz': '1', 'optType': '', 'quoteCcy': '', 'ruleType': 'normal', 'settleCcy': 'TRX', 'state': 'live', 'stk': '', 'tickSz': '0.00001', 'uly': 'TRX-USD'}, {'alias': '', 'auctionEndTime': '', 'baseCcy': '', 'category': '1', 'ctMult': '1', 'ctType': 'inverse', 'ctVal': '10', 'ctValCcy': 'USD', 'expTime': '1624262400000', 'instFamily': 'UNI-USD', 'instId': 'UNI-USD-SWAP', 'instType': 'SWAP', 'lever': '50', 'listTime': '1605101220372', 'lotSz': '1', 'maxIcebergSz': '100000000.0000000000000000', 'maxLmtAmt': '1000000', 'maxLmtSz': '100000000', 'maxMktAmt': '', 'maxMktSz': '10000', 'maxStopSz': '10000', 'maxTriggerSz': '100000000.0000000000000000', 'maxTwapSz': '100000000.0000000000000000', 'minSz': '1', 'optType': '', 'quoteCcy': '', 'ruleType': 'normal', 'settleCcy': 'UNI', 'state': 'live', 'stk': '', 'tickSz': '0.001', 'uly': 'UNI-USD'}, {'alias': '', 'auctionEndTime': '', 'baseCcy': '', 'category': '1', 'ctMult': '1', 'ctType': 'inverse', 'ctVal': '10', 'ctValCcy': 'USD', 'expTime': '', 'instFamily': 'XLM-USD', 'instId': 'XLM-USD-SWAP', 'instType': 'SWAP', 'lever': '50', 'listTime': '1628658113496', 'lotSz': '1', 'maxIcebergSz': '100000000.0000000000000000', 'maxLmtAmt': '1000000', 'maxLmtSz': '100000000', 'maxMktAmt': '', 'maxMktSz': '4000', 'maxStopSz': '4000', 'maxTriggerSz': '100000000.0000000000000000', 'maxTwapSz': '100000000.0000000000000000', 'minSz': '1', 'optType': '', 'quoteCcy': '', 'ruleType': 'normal', 'settleCcy': 'XLM', 'state': 'live', 'stk': '', 'tickSz': '0.00001', 'uly': 'XLM-USD'}, {'alias': '', 'auctionEndTime': '', 'baseCcy': '', 'category': '1', 'ctMult': '1', 'ctType': 'inverse', 'ctVal': '10', 'ctValCcy': 'USD', 'expTime': '', 'instFamily': 'YFI-USD', 'instId': 'YFI-USD-SWAP', 'instType': 'SWAP', 'lever': '75', 'listTime': '1628658087585', 'lotSz': '1', 'maxIcebergSz': '100000000.0000000000000000', 'maxLmtAmt': '1000000', 'maxLmtSz': '100000000', 'maxMktAmt': '', 'maxMktSz': '6000', 'maxStopSz': '6000', 'maxTriggerSz': '100000000.0000000000000000', 'maxTwapSz': '100000000.0000000000000000', 'minSz': '1', 'optType': '', 'quoteCcy': '', 'ruleType': 'normal', 'settleCcy': 'YFI', 'state': 'live', 'stk': '', 'tickSz': '1', 'uly': 'YFI-USD'}, {'alias': '', 'auctionEndTime': '', 'baseCcy': '', 'category': '1', 'ctMult': '1', 'ctType': 'linear', 'ctVal': '0.01', 'ctValCcy': 'BTC', 'expTime': '', 'instFamily': 'BTC-USDT', 'instId': 'BTC-USDT-SWAP', 'instType': 'SWAP', 'lever': '100', 'listTime': '1605101026077', 'lotSz': '0.1', 'maxIcebergSz': '100000000.0000000000000000', 'maxLmtAmt': '1000000', 'maxLmtSz': '100000000', 'maxMktAmt': '', 'maxMktSz': '120000', 'maxStopSz': '120000', 'maxTriggerSz': '100000000.0000000000000000', 'maxTwapSz': '100000000.0000000000000000', 'minSz': '0.1', 'optType': '', 'quoteCcy': '', 'ruleType': 'normal', 'settleCcy': 'USDT', 'state': 'live', 'stk': '', 'tickSz': '0.1', 'uly': 'BTC-USDT'}, {'alias': '', 'auctionEndTime': '', 'baseCcy': '', 'category': '1', 'ctMult': '1', 'ctType': 'linear', 'ctVal': '0.1', 'ctValCcy': 'ETH', 'expTime': '', 'instFamily': 'ETH-USDT', 'instId': 'ETH-USDT-SWAP', 'instType': 'SWAP', 'lever': '100', 'listTime': '1605101055676', 'lotSz': '0.1', 'maxIcebergSz': '100000000.0000000000000000', 'maxLmtAmt': '1000000', 'maxLmtSz': '100000000', 'maxMktAmt': '', 'maxMktSz': '200000', 'maxStopSz': '200000', 'maxTriggerSz': '100000000.0000000000000000', 'maxTwapSz': '100000000.0000000000000000', 'minSz': '0.1', 'optType': '', 'quoteCcy': '', 'ruleType': 'normal', 'settleCcy': 'USDT', 'state': 'live', 'stk': '', 'tickSz': '0.01', 'uly': 'ETH-USDT'}, {'alias': '', 'auctionEndTime': '', 'baseCcy': '', 'category': '1', 'ctMult': '1', 'ctType': 'linear', 'ctVal': '1', 'ctValCcy': 'LTC', 'expTime': '', 'instFamily': 'LTC-USDT', 'instId': 'LTC-USDT-SWAP', 'instType': 'SWAP', 'lever': '50', 'listTime': '1605101151095', 'lotSz': '0.1', 'maxIcebergSz': '100000000.0000000000000000', 'maxLmtAmt': '1000000', 'maxLmtSz': '100000000', 'maxMktAmt': '', 'maxMktSz': '10000', 'maxStopSz': '10000', 'maxTriggerSz': '100000000.0000000000000000', 'maxTwapSz': '100000000.0000000000000000', 'minSz': '0.1', 'optType': '', 'quoteCcy': '', 'ruleType': 'normal', 'settleCcy': 'USDT', 'state': 'live', 'stk': '', 'tickSz': '0.01', 'uly': 'LTC-USDT'}, {'alias': '', 'auctionEndTime': '', 'baseCcy': '', 'category': '1', 'ctMult': '1', 'ctType': 'linear', 'ctVal': '100', 'ctValCcy': 'XRP', 'expTime': '', 'instFamily': 'XRP-USDT', 'instId': 'XRP-USDT-SWAP', 'instType': 'SWAP', 'lever': '50', 'listTime': '1628652662528', 'lotSz': '0.1', 'maxIcebergSz': '100000000.0000000000000000', 'maxLmtAmt': '1000000', 'maxLmtSz': '100000000', 'maxMktAmt': '', 'maxMktSz': '15000', 'maxStopSz': '15000', 'maxTriggerSz': '100000000.0000000000000000', 'maxTwapSz': '100000000.0000000000000000', 'minSz': '0.1', 'optType': '', 'quoteCcy': '', 'ruleType': 'normal', 'settleCcy': 'USDT', 'state': 'live', 'stk': '', 'tickSz': '0.0001', 'uly': 'XRP-USDT'}, {'alias': '', 'auctionEndTime': '', 'baseCcy': '', 'category': '1', 'ctMult': '1', 'ctType': 'linear', 'ctVal': '1', 'ctValCcy': 'SOL', 'expTime': '', 'instFamily': 'SOL-USDT', 'instId': 'SOL-USDT-SWAP', 'instType': 'SWAP', 'lever': '50', 'listTime': '1648896491877', 'lotSz': '0.01', 'maxIcebergSz': '100000000.0000000000000000', 'maxLmtAmt': '1000000', 'maxLmtSz': '100000000', 'maxMktAmt': '', 'maxMktSz': '150000', 'maxStopSz': '150000', 'maxTriggerSz': '100000000.0000000000000000', 'maxTwapSz': '100000000.0000000000000000', 'minSz': '0.01', 'optType': '', 'quoteCcy': '', 'ruleType': 'normal', 'settleCcy': 'USDT', 'state': 'live', 'stk': '', 'tickSz': '0.01', 'uly': 'SOL-USDT'}, {'alias': '', 'auctionEndTime': '', 'baseCcy': '', 'category': '1', 'ctMult': '1', 'ctType': 'linear', 'ctVal': '1000', 'ctValCcy': 'DOGE', 'expTime': '', 'instFamily': 'DOGE-USDT', 'instId': 'DOGE-USDT-SWAP', 'instType': 'SWAP', 'lever': '50', 'listTime': '1628664891195', 'lotSz': '0.1', 'maxIcebergSz': '100000000.0000000000000000', 'maxLmtAmt': '1000000', 'maxLmtSz': '100000000', 'maxMktAmt': '', 'maxMktSz': '12000', 'maxStopSz': '12000', 'maxTriggerSz': '100000000.0000000000000000', 'maxTwapSz': '100000000.0000000000000000', 'minSz': '0.1', 'optType': '', 'quoteCcy': '', 'ruleType': 'normal', 'settleCcy': 'USDT', 'state': 'live', 'stk': '', 'tickSz': '0.00005', 'uly': 'DOGE-USDT'}, {'alias': '', 'auctionEndTime': '', 'baseCcy': '', 'category': '1', 'ctMult': '1', 'ctType': 'linear', 'ctVal': '10000000', 'ctValCcy': 'PEPE', 'expTime': '', 'instFamily': 'PEPE-USDT', 'instId': 'PEPE-USDT-SWAP', 'instType': 'SWAP', 'lever': '50', 'listTime': '1683023724113', 'lotSz': '0.1', 'maxIcebergSz': '100000000.0000000000000000', 'maxLmtAmt': '1000000', 'maxLmtSz': '100000000', 'maxMktAmt': '', 'maxMktSz': '25000', 'maxStopSz': '25000', 'maxTriggerSz': '100000000.0000000000000000', 'maxTwapSz': '100000000.0000000000000000', 'minSz': '0.1', 'optType': '', 'quoteCcy': '', 'ruleType': 'normal', 'settleCcy': 'USDT', 'state': 'live', 'stk': '', 'tickSz': '0.000000001', 'uly': 'PEPE-USDT'}, {'alias': '', 'auctionEndTime': '', 'baseCcy': '', 'category': '1', 'ctMult': '1', 'ctType': 'linear', 'ctVal': '1', 'ctValCcy': '1INCH', 'expTime': '', 'instFamily': '1INCH-USDT', 'instId': '1INCH-USDT-SWAP', 'instType': 'SWAP', 'lever': '50', 'listTime': '1681290643183', 'lotSz': '1', 'maxIcebergSz': '100000000.0000000000000000', 'maxLmtAmt': '1000000', 'maxLmtSz': '100000000', 'maxMktAmt': '', 'maxMktSz': '188000', 'maxStopSz': '188000', 'maxTriggerSz': '100000000.0000000000000000', 'maxTwapSz': '100000000.0000000000000000', 'minSz': '1', 'optType': '', 'quoteCcy': '', 'ruleType': 'normal', 'settleCcy': 'USDT', 'state': 'live', 'stk': '', 'tickSz': '0.0001', 'uly': '1INCH-USDT'}, {'alias': '', 'auctionEndTime': '', 'baseCcy': '', 'category': '1', 'ctMult': '1', 'ctType': 'linear', 'ctVal': '0.1', 'ctValCcy': 'AAVE', 'expTime': '', 'instFamily': 'AAVE-USDT', 'instId': 'AAVE-USDT-SWAP', 'instType': 'SWAP', 'lever': '50', 'listTime': '1683703500880', 'lotSz': '1', 'maxIcebergSz': '100000000.0000000000000000', 'maxLmtAmt': '1000000', 'maxLmtSz': '100000000', 'maxMktAmt': '', 'maxMktSz': '15000', 'maxStopSz': '15000', 'maxTriggerSz': '100000000.0000000000000000', 'maxTwapSz': '100000000.0000000000000000', 'minSz': '1', 'optType': '', 'quoteCcy': '', 'ruleType': 'normal', 'settleCcy': 'USDT', 'state': 'live', 'stk': '', 'tickSz': '0.01', 'uly': 'AAVE-USDT'}, {'alias': '', 'auctionEndTime': '', 'baseCcy': '', 'category': '1', 'ctMult': '1', 'ctType': 'linear', 'ctVal': '10', 'ctValCcy': 'ACT', 'expTime': '', 'instFamily': 'ACT-USDT', 'instId': 'ACT-USDT-SWAP', 'instType': 'SWAP', 'lever': '50', 'listTime': '1733730658703', 'lotSz': '1', 'maxIcebergSz': '100000000.0000000000000000', 'maxLmtAmt': '1000000', 'maxLmtSz': '100000000', 'maxMktAmt': '', 'maxMktSz': '10000', 'maxStopSz': '10000', 'maxTriggerSz': '100000000.0000000000000000', 'maxTwapSz': '100000000.0000000000000000', 'minSz': '1', 'optType': '', 'quoteCcy': '', 'ruleType': 'normal', 'settleCcy': 'USDT', 'state': 'live', 'stk': '', 'tickSz': '0.0001', 'uly': 'ACT-USDT'}, {'alias': '', 'auctionEndTime': '', 'baseCcy': '', 'category': '1', 'ctMult': '1', 'ctType': 'linear', 'ctVal': '100', 'ctValCcy': 'ADA', 'expTime': '', 'instFamily': 'ADA-USDT', 'instId': 'ADA-USDT-SWAP', 'instType': 'SWAP', 'lever': '50', 'listTime': '1605101194984', 'lotSz': '0.1', 'maxIcebergSz': '100000000.0000000000000000', 'maxLmtAmt': '1000000', 'maxLmtSz': '100000000', 'maxMktAmt': '', 'maxMktSz': '1000000', 'maxStopSz': '1000000', 'maxTriggerSz': '100000000.0000000000000000', 'maxTwapSz': '100000000.0000000000000000', 'minSz': '0.1', 'optType': '', 'quoteCcy': '', 'ruleType': 'normal', 'settleCcy': 'USDT', 'state': 'live', 'stk': '', 'tickSz': '0.0002', 'uly': 'ADA-USDT'}, {'alias': '', 'auctionEndTime': '', 'baseCcy': '', 'category': '1', 'ctMult': '1', 'ctType': 'linear', 'ctVal': '10000000000', 'ctValCcy': 'AIDOGE', 'expTime': '', 'instFamily': 'AIDOGE-USDT', 'instId': 'AIDOGE-USDT-SWAP', 'instType': 'SWAP', 'lever': '10', 'listTime': '1683023728947', 'lotSz': '1', 'maxIcebergSz': '100000000.0000000000000000', 'maxLmtAmt': '1000000', 'maxLmtSz': '100000000', 'maxMktAmt': '', 'maxMktSz': '15000', 'maxStopSz': '15000', 'maxTriggerSz': '100000000.0000000000000000', 'maxTwapSz': '100000000.0000000000000000', 'minSz': '1', 'optType': '', 'quoteCcy': '', 'ruleType': 'normal', 'settleCcy': 'USDT', 'state': 'live', 'stk': '', 'tickSz': '0.0000000000001', 'uly': 'AIDOGE-USDT'}, {'alias': '', 'auctionEndTime': '', 'baseCcy': '', 'category': '1', 'ctMult': '1', 'ctType': 'linear', 'ctVal': '10', 'ctValCcy': 'ALGO', 'expTime': '', 'instFamily': 'ALGO-USDT', 'instId': 'ALGO-USDT-SWAP', 'instType': 'SWAP', 'lever': '50', 'listTime': '1651807593555', 'lotSz': '1', 'maxIcebergSz': '100000000.0000000000000000', 'maxLmtAmt': '1000000', 'maxLmtSz': '100000000', 'maxMktAmt': '', 'maxMktSz': '550000', 'maxStopSz': '550000', 'maxTriggerSz': '100000000.0000000000000000', 'maxTwapSz': '100000000.0000000000000000', 'minSz': '1', 'optType': '', 'quoteCcy': '', 'ruleType': 'normal', 'settleCcy': 'USDT', 'state': 'live', 'stk': '', 'tickSz': '0.0001', 'uly': 'ALGO-USDT'}, {'alias': '', 'auctionEndTime': '', 'baseCcy': '', 'category': '1', 'ctMult': '1', 'ctType': 'linear', 'ctVal': '10', 'ctValCcy': 'ARB', 'expTime': '', 'instFamily': 'ARB-USDT', 'instId': 'ARB-USDT-SWAP', 'instType': 'SWAP', 'lever': '50', 'listTime': '1699343161896', 'lotSz': '0.1', 'maxIcebergSz': '100000000.0000000000000000', 'maxLmtAmt': '1000000', 'maxLmtSz': '100000000', 'maxMktAmt': '', 'maxMktSz': '30000', 'maxStopSz': '30000', 'maxTriggerSz': '100000000.0000000000000000', 'maxTwapSz': '100000000.0000000000000000', 'minSz': '0.1', 'optType': '', 'quoteCcy': '', 'ruleType': 'normal', 'settleCcy': 'USDT', 'state': 'live', 'stk': '', 'tickSz': '0.0001', 'uly': 'ARB-USDT'}, {'alias': '', 'auctionEndTime': '', 'baseCcy': '', 'category': '1', 'ctMult': '1', 'ctType': 'linear', 'ctVal': '1', 'ctValCcy': 'ATOM', 'expTime': '', 'instFamily': 'ATOM-USDT', 'instId': 'ATOM-USDT-SWAP', 'instType': 'SWAP', 'lever': '50', 'listTime': '1628509310101', 'lotSz': '1', 'maxIcebergSz': '100000000.0000000000000000', 'maxLmtAmt': '1000000', 'maxLmtSz': '100000000', 'maxMktAmt': '', 'maxMktSz': '200000', 'maxStopSz': '200000', 'maxTriggerSz': '100000000.0000000000000000', 'maxTwapSz': '100000000.0000000000000000', 'minSz': '1', 'optType': '', 'quoteCcy': '', 'ruleType': 'normal', 'settleCcy': 'USDT', 'state': 'live', 'stk': '', 'tickSz': '0.001', 'uly': 'ATOM-USDT'}, {'alias': '', 'auctionEndTime': '', 'baseCcy': '', 'category': '1', 'ctMult': '1', 'ctType': 'linear', 'ctVal': '0.1', 'ctValCcy': 'AUCTION', 'expTime': '', 'instFamily': 'AUCTION-USDT', 'instId': 'AUCTION-USDT-SWAP', 'instType': 'SWAP', 'lever': '10', 'listTime': '1703818998625', 'lotSz': '0.1', 'maxIcebergSz': '100000000.5000000000000000', 'maxLmtAmt': '1000000', 'maxLmtSz': '100000000.5', 'maxMktAmt': '', 'maxMktSz': '35000.5', 'maxStopSz': '35000.5', 'maxTriggerSz': '100000000.5000000000000000', 'maxTwapSz': '100000000.5000000000000000', 'minSz': '0.1', 'optType': '', 'quoteCcy': '', 'ruleType': 'normal', 'settleCcy': 'USDT', 'state': 'live', 'stk': '', 'tickSz': '0.001', 'uly': 'AUCTION-USDT'}, {'alias': '', 'auctionEndTime': '', 'baseCcy': '', 'category': '1', 'ctMult': '1', 'ctType': 'linear', 'ctVal': '1', 'ctValCcy': 'AVAX', 'expTime': '', 'instFamily': 'AVAX-USDT', 'instId': 'AVAX-USDT-SWAP', 'instType': 'SWAP', 'lever': '50', 'listTime': '1653621961542', 'lotSz': '0.1', 'maxIcebergSz': '100000000.0000000000000000', 'maxLmtAmt': '1000000', 'maxLmtSz': '100000000', 'maxMktAmt': '', 'maxMktSz': '150000', 'maxStopSz': '150000', 'maxTriggerSz': '100000000.0000000000000000', 'maxTwapSz': '100000000.0000000000000000', 'minSz': '0.1', 'optType': '', 'quoteCcy': '', 'ruleType': 'normal', 'settleCcy': 'USDT', 'state': 'live', 'stk': '', 'tickSz': '0.001', 'uly': 'AVAX-USDT'}, {'alias': '', 'auctionEndTime': '', 'baseCcy': '', 'category': '1', 'ctMult': '1', 'ctType': 'linear', 'ctVal': '0.1', 'ctValCcy': 'AXS', 'expTime': '', 'instFamily': 'AXS-USDT', 'instId': 'AXS-USDT-SWAP', 'instType': 'SWAP', 'lever': '50', 'listTime': '1637229381873', 'lotSz': '1', 'maxIcebergSz': '100000000.0000000000000000', 'maxLmtAmt': '1000000', 'maxLmtSz': '100000000', 'maxMktAmt': '', 'maxMktSz': '150000', 'maxStopSz': '150000', 'maxTriggerSz': '100000000.0000000000000000', 'maxTwapSz': '100000000.0000000000000000', 'minSz': '1', 'optType': '', 'quoteCcy': '', 'ruleType': 'normal', 'settleCcy': 'USDT', 'state': 'live', 'stk': '', 'tickSz': '0.001', 'uly': 'AXS-USDT'}, {'alias': '', 'auctionEndTime': '', 'baseCcy': '', 'category': '1', 'ctMult': '1', 'ctType': 'linear', 'ctVal': '0.1', 'ctValCcy': 'BAL', 'expTime': '', 'instFamily': 'BAL-USDT', 'instId': 'BAL-USDT-SWAP', 'instType': 'SWAP', 'lever': '50', 'listTime': '1628509320157', 'lotSz': '1', 'maxIcebergSz': '100000000.0000000000000000', 'maxLmtAmt': '1000000', 'maxLmtSz': '100000000', 'maxMktAmt': '', 'maxMktSz': '54000', 'maxStopSz': '54000', 'maxTriggerSz': '100000000.0000000000000000', 'maxTwapSz': '100000000.0000000000000000', 'minSz': '1', 'optType': '', 'quoteCcy': '', 'ruleType': 'normal', 'settleCcy': 'USDT', 'state': 'live', 'stk': '', 'tickSz': '0.001', 'uly': 'BAL-USDT'}, {'alias': '', 'auctionEndTime': '', 'baseCcy': '', 'category': '1', 'ctMult': '1', 'ctType': 'linear', 'ctVal': '1', 'ctValCcy': 'BAND', 'expTime': '', 'instFamily': 'BAND-USDT', 'instId': 'BAND-USDT-SWAP', 'instType': 'SWAP', 'lever': '50', 'listTime': '1628509055451', 'lotSz': '1', 'maxIcebergSz': '100000000.0000000000000000', 'maxLmtAmt': '1000000', 'maxLmtSz': '100000000', 'maxMktAmt': '', 'maxMktSz': '30000', 'maxStopSz': '30000', 'maxTriggerSz': '100000000.0000000000000000', 'maxTwapSz': '100000000.0000000000000000', 'minSz': '1', 'optType': '', 'quoteCcy': '', 'ruleType': 'normal', 'settleCcy': 'USDT', 'state': 'live', 'stk': '', 'tickSz': '0.001', 'uly': 'BAND-USDT'}, {'alias': '', 'auctionEndTime': '', 'baseCcy': '', 'category': '1', 'ctMult': '1', 'ctType': 'linear', 'ctVal': '0.1', 'ctValCcy': 'BCH', 'expTime': '', 'instFamily': 'BCH-USDT', 'instId': 'BCH-USDT-SWAP', 'instType': 'SWAP', 'lever': '50', 'listTime': '1628508769322', 'lotSz': '0.1', 'maxIcebergSz': '100000000.0000000000000000', 'maxLmtAmt': '1000000', 'maxLmtSz': '100000000', 'maxMktAmt': '', 'maxMktSz': '200000', 'maxStopSz': '200000', 'maxTriggerSz': '100000000.0000000000000000', 'maxTwapSz': '100000000.0000000000000000', 'minSz': '0.1', 'optType': '', 'quoteCcy': '', 'ruleType': 'normal', 'settleCcy': 'USDT', 'state': 'live', 'stk': '', 'tickSz': '0.1', 'uly': 'BCH-USDT'}, {'alias': '', 'auctionEndTime': '', 'baseCcy': '', 'category': '1', 'ctMult': '1', 'ctType': 'linear', 'ctVal': '0.01', 'ctValCcy': 'BNB', 'expTime': '', 'instFamily': 'BNB-USDT', 'instId': 'BNB-USDT-SWAP', 'instType': 'SWAP', 'lever': '50', 'listTime': '1679310713593', 'lotSz': '1', 'maxIcebergSz': '100000000.0000000000000000', 'maxLmtAmt': '1000000', 'maxLmtSz': '100000000', 'maxMktAmt': '', 'maxMktSz': '100000', 'maxStopSz': '100000', 'maxTriggerSz': '100000000.0000000000000000', 'maxTwapSz': '100000000.0000000000000000', 'minSz': '1', 'optType': '', 'quoteCcy': '', 'ruleType': 'normal', 'settleCcy': 'USDT', 'state': 'live', 'stk': '', 'tickSz': '0.1', 'uly': 'BNB-USDT'}, {'alias': '', 'auctionEndTime': '', 'baseCcy': '', 'category': '1', 'ctMult': '1', 'ctType': 'linear', 'ctVal': '10', 'ctValCcy': 'BNT', 'expTime': '', 'instFamily': 'BNT-USDT', 'instId': 'BNT-USDT-SWAP', 'instType': 'SWAP', 'lever': '20', 'listTime': '1628508751256', 'lotSz': '1', 'maxIcebergSz': '100000000.0000000000000000', 'maxLmtAmt': '1000000', 'maxLmtSz': '100000000', 'maxMktAmt': '', 'maxMktSz': '4400', 'maxStopSz': '4400', 'maxTriggerSz': '100000000.0000000000000000', 'maxTwapSz': '100000000.0000000000000000', 'minSz': '1', 'optType': '', 'quoteCcy': '', 'ruleType': 'normal', 'settleCcy': 'USDT', 'state': 'live', 'stk': '', 'tickSz': '0.0001', 'uly': 'BNT-USDT'}, {'alias': '', 'auctionEndTime': '', 'baseCcy': '', 'category': '1', 'ctMult': '1', 'ctType': 'linear', 'ctVal': '1000', 'ctValCcy': 'BOME', 'expTime': '', 'instFamily': 'BOME-USDT', 'instId': 'BOME-USDT-SWAP', 'instType': 'SWAP', 'lever': '20', 'listTime': '1726199836316', 'lotSz': '1', 'maxIcebergSz': '100000000.0000000000000000', 'maxLmtAmt': '1000000', 'maxLmtSz': '100000000', 'maxMktAmt': '', 'maxMktSz': '20000', 'maxStopSz': '20000', 'maxTriggerSz': '100000000.0000000000000000', 'maxTwapSz': '100000000.0000000000000000', 'minSz': '1', 'optType': '', 'quoteCcy': '', 'ruleType': 'normal', 'settleCcy': 'USDT', 'state': 'live', 'stk': '', 'tickSz': '0.000001', 'uly': 'BOME-USDT'}, {'alias': '', 'auctionEndTime': '', 'baseCcy': '', 'category': '1', 'ctMult': '1', 'ctType': 'linear', 'ctVal': '1', 'ctValCcy': 'CATI', 'expTime': '', 'instFamily': 'CATI-USDT', 'instId': 'CATI-USDT-SWAP', 'instType': 'SWAP', 'lever': '50', 'listTime': '1727146609399', 'lotSz': '1', 'maxIcebergSz': '100000000.0000000000000000', 'maxLmtAmt': '1000000', 'maxLmtSz': '100000000', 'maxMktAmt': '', 'maxMktSz': '10000', 'maxStopSz': '10000', 'maxTriggerSz': '100000000.0000000000000000', 'maxTwapSz': '100000000.0000000000000000', 'minSz': '1', 'optType': '', 'quoteCcy': '', 'ruleType': 'normal', 'settleCcy': 'USDT', 'state': 'live', 'stk': '', 'tickSz': '0.0001', 'uly': 'CATI-USDT'}, {'alias': '', 'auctionEndTime': '', 'baseCcy': '', 'category': '1', 'ctMult': '1', 'ctType': 'linear', 'ctVal': '100000', 'ctValCcy': 'CAT', 'expTime': '', 'instFamily': 'CAT-USDT', 'instId': 'CAT-USDT-SWAP', 'instType': 'SWAP', 'lever': '20', 'listTime': '1728389935458', 'lotSz': '1', 'maxIcebergSz': '100000000.0000000000000000', 'maxLmtAmt': '1000000', 'maxLmtSz': '100000000', 'maxMktAmt': '', 'maxMktSz': '50000', 'maxStopSz': '50000', 'maxTriggerSz': '100000000.0000000000000000', 'maxTwapSz': '100000000.0000000000000000', 'minSz': '1', 'optType': '', 'quoteCcy': '', 'ruleType': 'normal', 'settleCcy': 'USDT', 'state': 'live', 'stk': '', 'tickSz': '0.000000001', 'uly': 'CAT-USDT'}, {'alias': '', 'auctionEndTime': '', 'baseCcy': '', 'category': '1', 'ctMult': '1', 'ctType': 'linear', 'ctVal': '1', 'ctValCcy': 'CELO', 'expTime': '', 'instFamily': 'CELO-USDT', 'instId': 'CELO-USDT-SWAP', 'instType': 'SWAP', 'lever': '50', 'listTime': '1645772481407', 'lotSz': '1', 'maxIcebergSz': '100000000.0000000000000000', 'maxLmtAmt': '1000000', 'maxLmtSz': '100000000', 'maxMktAmt': '', 'maxMktSz': '50000', 'maxStopSz': '50000', 'maxTriggerSz': '100000000.0000000000000000', 'maxTwapSz': '100000000.0000000000000000', 'minSz': '1', 'optType': '', 'quoteCcy': '', 'ruleType': 'normal', 'settleCcy': 'USDT', 'state': 'live', 'stk': '', 'tickSz': '0.0001', 'uly': 'CELO-USDT'}, {'alias': '', 'auctionEndTime': '', 'baseCcy': '', 'category': '1', 'ctMult': '1', 'ctType': 'linear', 'ctVal': '10', 'ctValCcy': 'CETUS', 'expTime': '', 'instFamily': 'CETUS-USDT', 'instId': 'CETUS-USDT-SWAP', 'instType': 'SWAP', 'lever': '20', 'listTime': '1690199526719', 'lotSz': '1', 'maxIcebergSz': '100000000.0000000000000000', 'maxLmtAmt': '1000000', 'maxLmtSz': '100000000', 'maxMktAmt': '', 'maxMktSz': '100000', 'maxStopSz': '100000', 'maxTriggerSz': '100000000.0000000000000000', 'maxTwapSz': '100000000.0000000000000000', 'minSz': '1', 'optType': '', 'quoteCcy': '', 'ruleType': 'normal', 'settleCcy': 'USDT', 'state': 'live', 'stk': '', 'tickSz': '0.00001', 'uly': 'CETUS-USDT'}, {'alias': '', 'auctionEndTime': '', 'baseCcy': '', 'category': '1', 'ctMult': '1', 'ctType': 'linear', 'ctVal': '10', 'ctValCcy': 'CFX', 'expTime': '', 'instFamily': 'CFX-USDT', 'instId': 'CFX-USDT-SWAP', 'instType': 'SWAP', 'lever': '50', 'listTime': '1628665088778', 'lotSz': '0.1', 'maxIcebergSz': '100000000.0000000000000000', 'maxLmtAmt': '1000000', 'maxLmtSz': '100000000', 'maxMktAmt': '', 'maxMktSz': '120000', 'maxStopSz': '120000', 'maxTriggerSz': '100000000.0000000000000000', 'maxTwapSz': '100000000.0000000000000000', 'minSz': '0.1', 'optType': '', 'quoteCcy': '', 'ruleType': 'normal', 'settleCcy': 'USDT', 'state': 'live', 'stk': '', 'tickSz': '0.00001', 'uly': 'CFX-USDT'}, {'alias': '', 'auctionEndTime': '', 'baseCcy': '', 'category': '1', 'ctMult': '1', 'ctType': 'linear', 'ctVal': '0.1', 'ctValCcy': 'COMP', 'expTime': '', 'instFamily': 'COMP-USDT', 'instId': 'COMP-USDT-SWAP', 'instType': 'SWAP', 'lever': '50', 'listTime': '1628664979213', 'lotSz': '1', 'maxIcebergSz': '100000000.0000000000000000', 'maxLmtAmt': '1000000', 'maxLmtSz': '100000000', 'maxMktAmt': '', 'maxMktSz': '14000', 'maxStopSz': '14000', 'maxTriggerSz': '100000000.0000000000000000', 'maxTwapSz': '100000000.0000000000000000', 'minSz': '1', 'optType': '', 'quoteCcy': '', 'ruleType': 'normal', 'settleCcy': 'USDT', 'state': 'live', 'stk': '', 'tickSz': '0.01', 'uly': 'COMP-USDT'}, {'alias': '', 'auctionEndTime': '', 'baseCcy': '', 'category': '1', 'ctMult': '1', 'ctType': 'linear', 'ctVal': '10', 'ctValCcy': 'CRO', 'expTime': '', 'instFamily': 'CRO-USDT', 'instId': 'CRO-USDT-SWAP', 'instType': 'SWAP', 'lever': '20', 'listTime': '1628664959946', 'lotSz': '1', 'maxIcebergSz': '100000000.0000000000000000', 'maxLmtAmt': '1000000', 'maxLmtSz': '100000000', 'maxMktAmt': '', 'maxMktSz': '30000', 'maxStopSz': '30000', 'maxTriggerSz': '100000000.0000000000000000', 'maxTwapSz': '100000000.0000000000000000', 'minSz': '1', 'optType': '', 'quoteCcy': '', 'ruleType': 'normal', 'settleCcy': 'USDT', 'state': 'live', 'stk': '', 'tickSz': '0.00001', 'uly': 'CRO-USDT'}, {'alias': '', 'auctionEndTime': '', 'baseCcy': '', 'category': '1', 'ctMult': '1', 'ctType': 'linear', 'ctVal': '1', 'ctValCcy': 'CRV', 'expTime': '', 'instFamily': 'CRV-USDT', 'instId': 'CRV-USDT-SWAP', 'instType': 'SWAP', 'lever': '50', 'listTime': '1665213470158', 'lotSz': '1', 'maxIcebergSz': '100000000.0000000000000000', 'maxLmtAmt': '1000000', 'maxLmtSz': '100000000', 'maxMktAmt': '', 'maxMktSz': '150000', 'maxStopSz': '150000', 'maxTriggerSz': '100000000.0000000000000000', 'maxTwapSz': '100000000.0000000000000000', 'minSz': '1', 'optType': '', 'quoteCcy': '', 'ruleType': 'normal', 'settleCcy': 'USDT', 'state': 'live', 'stk': '', 'tickSz': '0.0001', 'uly': 'CRV-USDT'}, {'alias': '', 'auctionEndTime': '', 'baseCcy': '', 'category': '1', 'ctMult': '1', 'ctType': 'linear', 'ctVal': '1000', 'ctValCcy': 'DOGS', 'expTime': '', 'instFamily': 'DOGS-USDT', 'instId': 'DOGS-USDT-SWAP', 'instType': 'SWAP', 'lever': '20', 'listTime': '1726209601985', 'lotSz': '1', 'maxIcebergSz': '100000000.0000000000000000', 'maxLmtAmt': '1000000', 'maxLmtSz': '100000000', 'maxMktAmt': '', 'maxMktSz': '50000', 'maxStopSz': '50000', 'maxTriggerSz': '100000000.0000000000000000', 'maxTwapSz': '100000000.0000000000000000', 'minSz': '1', 'optType': '', 'quoteCcy': '', 'ruleType': 'normal', 'settleCcy': 'USDT', 'state': 'live', 'stk': '', 'tickSz': '0.0000001', 'uly': 'DOGS-USDT'}, {'alias': '', 'auctionEndTime': '', 'baseCcy': '', 'category': '1', 'ctMult': '1', 'ctType': 'linear', 'ctVal': '1', 'ctValCcy': 'DOT', 'expTime': '', 'instFamily': 'DOT-USDT', 'instId': 'DOT-USDT-SWAP', 'instType': 'SWAP', 'lever': '50', 'listTime': '1628686084854', 'lotSz': '0.1', 'maxIcebergSz': '100000000.0000000000000000', 'maxLmtAmt': '1000000', 'maxLmtSz': '100000000', 'maxMktAmt': '', 'maxMktSz': '700000', 'maxStopSz': '700000', 'maxTriggerSz': '100000000.0000000000000000', 'maxTwapSz': '100000000.0000000000000000', 'minSz': '0.1', 'optType': '', 'quoteCcy': '', 'ruleType': 'normal', 'settleCcy': 'USDT', 'state': 'live', 'stk': '', 'tickSz': '0.001', 'uly': 'DOT-USDT'}, {'alias': '', 'auctionEndTime': '', 'baseCcy': '', 'category': '1', 'ctMult': '1', 'ctType': 'linear', 'ctVal': '10', 'ctValCcy': 'EOS', 'expTime': '', 'instFamily': 'EOS-USDT', 'instId': 'EOS-USDT-SWAP', 'instType': 'SWAP', 'lever': '50', 'listTime': '1628686061174', 'lotSz': '1', 'maxIcebergSz': '100000000.0000000000000000', 'maxLmtAmt': '1000000', 'maxLmtSz': '100000000', 'maxMktAmt': '', 'maxMktSz': '30000', 'maxStopSz': '30000', 'maxTriggerSz': '100000000.0000000000000000', 'maxTwapSz': '100000000.0000000000000000', 'minSz': '1', 'optType': '', 'quoteCcy': '', 'ruleType': 'normal', 'settleCcy': 'USDT', 'state': 'live', 'stk': '', 'tickSz': '0.0001', 'uly': 'EOS-USDT'}, {'alias': '', 'auctionEndTime': '', 'baseCcy': '', 'category': '1', 'ctMult': '1', 'ctType': 'linear', 'ctVal': '10', 'ctValCcy': 'ETC', 'expTime': '', 'instFamily': 'ETC-USDT', 'instId': 'ETC-USDT-SWAP', 'instType': 'SWAP', 'lever': '50', 'listTime': '1628664802725', 'lotSz': '0.1', 'maxIcebergSz': '100000000.0000000000000000', 'maxLmtAmt': '1000000', 'maxLmtSz': '100000000', 'maxMktAmt': '', 'maxMktSz': '2000', 'maxStopSz': '2000', 'maxTriggerSz': '100000000.0000000000000000', 'maxTwapSz': '100000000.0000000000000000', 'minSz': '0.1', 'optType': '', 'quoteCcy': '', 'ruleType': 'normal', 'settleCcy': 'USDT', 'state': 'live', 'stk': '', 'tickSz': '0.01', 'uly': 'ETC-USDT'}, {'alias': '', 'auctionEndTime': '', 'baseCcy': '', 'category': '1', 'ctMult': '1', 'ctType': 'linear', 'ctVal': '0.1', 'ctValCcy': 'ETHW', 'expTime': '', 'instFamily': 'ETHW-USDT', 'instId': 'ETHW-USDT-SWAP', 'instType': 'SWAP', 'lever': '50', 'listTime': '1679910072609', 'lotSz': '1', 'maxIcebergSz': '100000000.0000000000000000', 'maxLmtAmt': '1000000', 'maxLmtSz': '100000000', 'maxMktAmt': '', 'maxMktSz': '150000', 'maxStopSz': '150000', 'maxTriggerSz': '100000000.0000000000000000', 'maxTwapSz': '100000000.0000000000000000', 'minSz': '1', 'optType': '', 'quoteCcy': '', 'ruleType': 'normal', 'settleCcy': 'USDT', 'state': 'live', 'stk': '', 'tickSz': '0.001', 'uly': 'ETHW-USDT'}, {'alias': '', 'auctionEndTime': '', 'baseCcy': '', 'category': '1', 'ctMult': '1', 'ctType': 'linear', 'ctVal': '1', 'ctValCcy': 'ETHFI', 'expTime': '', 'instFamily': 'ETHFI-USDT', 'instId': 'ETHFI-USDT-SWAP', 'instType': 'SWAP', 'lever': '50', 'listTime': '1713178001476', 'lotSz': '1', 'maxIcebergSz': '100000000.0000000000000000', 'maxLmtAmt': '1000000', 'maxLmtSz': '100000000', 'maxMktAmt': '', 'maxMktSz': '20000', 'maxStopSz': '20000', 'maxTriggerSz': '100000000.0000000000000000', 'maxTwapSz': '100000000.0000000000000000', 'minSz': '1', 'optType': '', 'quoteCcy': '', 'ruleType': 'normal', 'settleCcy': 'USDT', 'state': 'live', 'stk': '', 'tickSz': '0.001', 'uly': 'ETHFI-USDT'}, {'alias': '', 'auctionEndTime': '', 'baseCcy': '', 'category': '1', 'ctMult': '1', 'ctType': 'linear', 'ctVal': '0.1', 'ctValCcy': 'FIL', 'expTime': '', 'instFamily': 'FIL-USDT', 'instId': 'FIL-USDT-SWAP', 'instType': 'SWAP', 'lever': '50', 'listTime': '1671765229996', 'lotSz': '1', 'maxIcebergSz': '100000000.0000000000000000', 'maxLmtAmt': '1000000', 'maxLmtSz': '100000000', 'maxMktAmt': '', 'maxMktSz': '600000', 'maxStopSz': '600000', 'maxTriggerSz': '100000000.0000000000000000', 'maxTwapSz': '100000000.0000000000000000', 'minSz': '1', 'optType': '', 'quoteCcy': '', 'ruleType': 'normal', 'settleCcy': 'USDT', 'state': 'live', 'stk': '', 'tickSz': '0.001', 'uly': 'FIL-USDT'}, {'alias': '', 'auctionEndTime': '', 'baseCcy': '', 'category': '1', 'ctMult': '1', 'ctType': 'linear', 'ctVal': '100000', 'ctValCcy': 'FLOKI', 'expTime': '', 'instFamily': 'FLOKI-USDT', 'instId': 'FLOKI-USDT-SWAP', 'instType': 'SWAP', 'lever': '50', 'listTime': '1700488354892', 'lotSz': '1', 'maxIcebergSz': '100000000.0000000000000000', 'maxLmtAmt': '1000000', 'maxLmtSz': '100000000', 'maxMktAmt': '', 'maxMktSz': '25000', 'maxStopSz': '25000', 'maxTriggerSz': '100000000.0000000000000000', 'maxTwapSz': '100000000.0000000000000000', 'minSz': '1', 'optType': '', 'quoteCcy': '', 'ruleType': 'normal', 'settleCcy': 'USDT', 'state': 'live', 'stk': '', 'tickSz': '0.00000001', 'uly': 'FLOKI-USDT'}, {'alias': '', 'auctionEndTime': '', 'baseCcy': '', 'category': '1', 'ctMult': '1', 'ctType': 'linear', 'ctVal': '10', 'ctValCcy': 'FLOW', 'expTime': '', 'instFamily': 'FLOW-USDT', 'instId': 'FLOW-USDT-SWAP', 'instType': 'SWAP', 'lever': '50', 'listTime': '1701329257014', 'lotSz': '1', 'maxIcebergSz': '100000000.0000000000000000', 'maxLmtAmt': '1000000', 'maxLmtSz': '100000000', 'maxMktAmt': '', 'maxMktSz': '15000', 'maxStopSz': '15000', 'maxTriggerSz': '100000000.0000000000000000', 'maxTwapSz': '100000000.0000000000000000', 'minSz': '1', 'optType': '', 'quoteCcy': '', 'ruleType': 'normal', 'settleCcy': 'USDT', 'state': 'live', 'stk': '', 'tickSz': '0.0001', 'uly': 'FLOW-USDT'}, {'alias': '', 'auctionEndTime': '', 'baseCcy': '', 'category': '1', 'ctMult': '1', 'ctType': 'linear', 'ctVal': '10', 'ctValCcy': 'FTM', 'expTime': '', 'instFamily': 'FTM-USDT', 'instId': 'FTM-USDT-SWAP', 'instType': 'SWAP', 'lever': '50', 'listTime': '1627971945030', 'lotSz': '1', 'maxIcebergSz': '100000000.0000000000000000', 'maxLmtAmt': '1000000', 'maxLmtSz': '100000000', 'maxMktAmt': '', 'maxMktSz': '55000', 'maxStopSz': '55000', 'maxTriggerSz': '100000000.0000000000000000', 'maxTwapSz': '100000000.0000000000000000', 'minSz': '1', 'optType': '', 'quoteCcy': '', 'ruleType': 'normal', 'settleCcy': 'USDT', 'state': 'live', 'stk': '', 'tickSz': '0.0001', 'uly': 'FTM-USDT'}, {'alias': '', 'auctionEndTime': '', 'baseCcy': '', 'category': '1', 'ctMult': '1', 'ctType': 'linear', 'ctVal': '1', 'ctValCcy': 'GMT', 'expTime': '', 'instFamily': 'GMT-USDT', 'instId': 'GMT-USDT-SWAP', 'instType': 'SWAP', 'lever': '50', 'listTime': '1648782428161', 'lotSz': '1', 'maxIcebergSz': '100000000.0000000000000000', 'maxLmtAmt': '1000000', 'maxLmtSz': '100000000', 'maxMktAmt': '', 'maxMktSz': '2500000', 'maxStopSz': '2500000', 'maxTriggerSz': '100000000.0000000000000000', 'maxTwapSz': '100000000.0000000000000000', 'minSz': '1', 'optType': '', 'quoteCcy': '', 'ruleType': 'normal', 'settleCcy': 'USDT', 'state': 'live', 'stk': '', 'tickSz': '0.0001', 'uly': 'GMT-USDT'}, {'alias': '', 'auctionEndTime': '', 'baseCcy': '', 'category': '1', 'ctMult': '1', 'ctType': 'linear', 'ctVal': '100', 'ctValCcy': 'HBAR', 'expTime': '', 'instFamily': 'HBAR-USDT', 'instId': 'HBAR-USDT-SWAP', 'instType': 'SWAP', 'lever': '50', 'listTime': '1696832742920', 'lotSz': '1', 'maxIcebergSz': '100000000.0000000000000000', 'maxLmtAmt': '1000000', 'maxLmtSz': '100000000', 'maxMktAmt': '', 'maxMktSz': '14000', 'maxStopSz': '14000', 'maxTriggerSz': '100000000.0000000000000000', 'maxTwapSz': '100000000.0000000000000000', 'minSz': '1', 'optType': '', 'quoteCcy': '', 'ruleType': 'normal', 'settleCcy': 'USDT', 'state': 'live', 'stk': '', 'tickSz': '0.00001', 'uly': 'HBAR-USDT'}, {'alias': '', 'auctionEndTime': '', 'baseCcy': '', 'category': '1', 'ctMult': '1', 'ctType': 'linear', 'ctVal': '100', 'ctValCcy': 'HMSTR', 'expTime': '', 'instFamily': 'HMSTR-USDT', 'instId': 'HMSTR-USDT-SWAP', 'instType': 'SWAP', 'lever': '50', 'listTime': '1727694600140', 'lotSz': '1', 'maxIcebergSz': '100000000.0000000000000000', 'maxLmtAmt': '1000000', 'maxLmtSz': '100000000', 'maxMktAmt': '', 'maxMktSz': '10000', 'maxStopSz': '10000', 'maxTriggerSz': '100000000.0000000000000000', 'maxTwapSz': '100000000.0000000000000000', 'minSz': '1', 'optType': '', 'quoteCcy': '', 'ruleType': 'normal', 'settleCcy': 'USDT', 'state': 'live', 'stk': '', 'tickSz': '0.000001', 'uly': 'HMSTR-USDT'}, {'alias': '', 'auctionEndTime': '', 'baseCcy': '', 'category': '1', 'ctMult': '1', 'ctType': 'linear', 'ctVal': '0.01', 'ctValCcy': 'ICP', 'expTime': '', 'instFamily': 'ICP-USDT', 'instId': 'ICP-USDT-SWAP', 'instType': 'SWAP', 'lever': '20', 'listTime': '1628664767426', 'lotSz': '1', 'maxIcebergSz': '100000000.0000000000000000', 'maxLmtAmt': '1000000', 'maxLmtSz': '100000000', 'maxMktAmt': '', 'maxMktSz': '3200000', 'maxStopSz': '3200000', 'maxTriggerSz': '100000000.0000000000000000', 'maxTwapSz': '100000000.0000000000000000', 'minSz': '1', 'optType': '', 'quoteCcy': '', 'ruleType': 'normal', 'settleCcy': 'USDT', 'state': 'live', 'stk': '', 'tickSz': '0.001', 'uly': 'ICP-USDT'}, {'alias': '', 'auctionEndTime': '', 'baseCcy': '', 'category': '1', 'ctMult': '1', 'ctType': 'linear', 'ctVal': '10', 'ctValCcy': 'ID', 'expTime': '', 'instFamily': 'ID-USDT', 'instId': 'ID-USDT-SWAP', 'instType': 'SWAP', 'lever': '20', 'listTime': '1703752714552', 'lotSz': '1', 'maxIcebergSz': '100000000.0000000000000000', 'maxLmtAmt': '1000000', 'maxLmtSz': '100000000', 'maxMktAmt': '', 'maxMktSz': '35000', 'maxStopSz': '35000', 'maxTriggerSz': '100000000.0000000000000000', 'maxTwapSz': '100000000.0000000000000000', 'minSz': '1', 'optType': '', 'quoteCcy': '', 'ruleType': 'normal', 'settleCcy': 'USDT', 'state': 'live', 'stk': '', 'tickSz': '0.0001', 'uly': 'ID-USDT'}, {'alias': '', 'auctionEndTime': '', 'baseCcy': '', 'category': '1', 'ctMult': '1', 'ctType': 'linear', 'ctVal': '1', 'ctValCcy': 'IMX', 'expTime': '', 'instFamily': 'IMX-USDT', 'instId': 'IMX-USDT-SWAP', 'instType': 'SWAP', 'lever': '75', 'listTime': '1650361075810', 'lotSz': '1', 'maxIcebergSz': '100000000.0000000000000000', 'maxLmtAmt': '1000000', 'maxLmtSz': '100000000', 'maxMktAmt': '', 'maxMktSz': '100000', 'maxStopSz': '100000', 'maxTriggerSz': '100000000.0000000000000000', 'maxTwapSz': '100000000.0000000000000000', 'minSz': '1', 'optType': '', 'quoteCcy': '', 'ruleType': 'normal', 'settleCcy': 'USDT', 'state': 'live', 'stk': '', 'tickSz': '0.0001', 'uly': 'IMX-USDT'}, {'alias': '', 'auctionEndTime': '', 'baseCcy': '', 'category': '1', 'ctMult': '1', 'ctType': 'linear', 'ctVal': '0.1', 'ctValCcy': 'INJ', 'expTime': '', 'instFamily': 'INJ-USDT', 'instId': 'INJ-USDT-SWAP', 'instType': 'SWAP', 'lever': '50', 'listTime': '1704340181575', 'lotSz': '1', 'maxIcebergSz': '100000000.0000000000000000', 'maxLmtAmt': '1000000', 'maxLmtSz': '100000000', 'maxMktAmt': '', 'maxMktSz': '35000', 'maxStopSz': '35000', 'maxTriggerSz': '100000000.0000000000000000', 'maxTwapSz': '100000000.0000000000000000', 'minSz': '1', 'optType': '', 'quoteCcy': '', 'ruleType': 'normal', 'settleCcy': 'USDT', 'state': 'live', 'stk': '', 'tickSz': '0.001', 'uly': 'INJ-USDT'}, {'alias': '', 'auctionEndTime': '', 'baseCcy': '', 'category': '1', 'ctMult': '1', 'ctType': 'linear', 'ctVal': '10', 'ctValCcy': 'IOTA', 'expTime': '', 'instFamily': 'IOTA-USDT', 'instId': 'IOTA-USDT-SWAP', 'instType': 'SWAP', 'lever': '50', 'listTime': '1698769170418', 'lotSz': '1', 'maxIcebergSz': '100000000.0000000000000000', 'maxLmtAmt': '1000000', 'maxLmtSz': '100000000', 'maxMktAmt': '', 'maxMktSz': '20000', 'maxStopSz': '20000', 'maxTriggerSz': '100000000.0000000000000000', 'maxTwapSz': '100000000.0000000000000000', 'minSz': '1', 'optType': '', 'quoteCcy': '', 'ruleType': 'normal', 'settleCcy': 'USDT', 'state': 'live', 'stk': '', 'tickSz': '0.0001', 'uly': 'IOTA-USDT'}, {'alias': '', 'auctionEndTime': '', 'baseCcy': '', 'category': '1', 'ctMult': '1', 'ctType': 'linear', 'ctVal': '1000000000', 'ctValCcy': 'KISHU', 'expTime': '', 'instFamily': 'KISHU-USDT', 'instId': 'KISHU-USDT-SWAP', 'instType': 'SWAP', 'lever': '20', 'listTime': '1682591203609', 'lotSz': '1', 'maxIcebergSz': '100000000.0000000000000000', 'maxLmtAmt': '1000000', 'maxLmtSz': '100000000', 'maxMktAmt': '', 'maxMktSz': '20000', 'maxStopSz': '20000', 'maxTriggerSz': '100000000.0000000000000000', 'maxTwapSz': '100000000.0000000000000000', 'minSz': '1', 'optType': '', 'quoteCcy': '', 'ruleType': 'normal', 'settleCcy': 'USDT', 'state': 'live', 'stk': '', 'tickSz': '0.0000000000001', 'uly': 'KISHU-USDT'}, {'alias': '', 'auctionEndTime': '', 'baseCcy': '', 'category': '1', 'ctMult': '1', 'ctType': 'linear', 'ctVal': '1', 'ctValCcy': 'KNC', 'expTime': '', 'instFamily': 'KNC-USDT', 'instId': 'KNC-USDT-SWAP', 'instType': 'SWAP', 'lever': '50', 'listTime': '1628664698315', 'lotSz': '1', 'maxIcebergSz': '100000000.0000000000000000', 'maxLmtAmt': '1000000', 'maxLmtSz': '100000000', 'maxMktAmt': '', 'maxMktSz': '100000', 'maxStopSz': '100000', 'maxTriggerSz': '100000000.0000000000000000', 'maxTwapSz': '100000000.0000000000000000', 'minSz': '1', 'optType': '', 'quoteCcy': '', 'ruleType': 'normal', 'settleCcy': 'USDT', 'state': 'live', 'stk': '', 'tickSz': '0.0001', 'uly': 'KNC-USDT'}, {'alias': '', 'auctionEndTime': '', 'baseCcy': '', 'category': '1', 'ctMult': '1', 'ctType': 'linear', 'ctVal': '0.1', 'ctValCcy': 'KSM', 'expTime': '', 'instFamily': 'KSM-USDT', 'instId': 'KSM-USDT-SWAP', 'instType': 'SWAP', 'lever': '50', 'listTime': '1669368252641', 'lotSz': '1', 'maxIcebergSz': '100000000.0000000000000000', 'maxLmtAmt': '1000000', 'maxLmtSz': '100000000', 'maxMktAmt': '', 'maxMktSz': '22000', 'maxStopSz': '22000', 'maxTriggerSz': '100000000.0000000000000000', 'maxTwapSz': '100000000.0000000000000000', 'minSz': '1', 'optType': '', 'quoteCcy': '', 'ruleType': 'normal', 'settleCcy': 'USDT', 'state': 'live', 'stk': '', 'tickSz': '0.01', 'uly': 'KSM-USDT'}, {'alias': '', 'auctionEndTime': '', 'baseCcy': '', 'category': '1', 'ctMult': '1', 'ctType': 'linear', 'ctVal': '1', 'ctValCcy': 'LDO', 'expTime': '', 'instFamily': 'LDO-USDT', 'instId': 'LDO-USDT-SWAP', 'instType': 'SWAP', 'lever': '50', 'listTime': '1675320646283', 'lotSz': '1', 'maxIcebergSz': '100000000.0000000000000000', 'maxLmtAmt': '1000000', 'maxLmtSz': '100000000', 'maxMktAmt': '', 'maxMktSz': '100000', 'maxStopSz': '100000', 'maxTriggerSz': '100000000.0000000000000000', 'maxTwapSz': '100000000.0000000000000000', 'minSz': '1', 'optType': '', 'quoteCcy': '', 'ruleType': 'normal', 'settleCcy': 'USDT', 'state': 'live', 'stk': '', 'tickSz': '0.0001', 'uly': 'LDO-USDT'}, {'alias': '', 'auctionEndTime': '', 'baseCcy': '', 'category': '1', 'ctMult': '1', 'ctType': 'linear', 'ctVal': '1', 'ctValCcy': 'LINK', 'expTime': '', 'instFamily': 'LINK-USDT', 'instId': 'LINK-USDT-SWAP', 'instType': 'SWAP', 'lever': '50', 'listTime': '1628506816709', 'lotSz': '1', 'maxIcebergSz': '100000000.0000000000000000', 'maxLmtAmt': '1000000', 'maxLmtSz': '100000000', 'maxMktAmt': '', 'maxMktSz': '55000', 'maxStopSz': '55000', 'maxTriggerSz': '100000000.0000000000000000', 'maxTwapSz': '100000000.0000000000000000', 'minSz': '1', 'optType': '', 'quoteCcy': '', 'ruleType': 'normal', 'settleCcy': 'USDT', 'state': 'live', 'stk': '', 'tickSz': '0.001', 'uly': 'LINK-USDT'}, {'alias': '', 'auctionEndTime': '', 'baseCcy': '', 'category': '1', 'ctMult': '1', 'ctType': 'linear', 'ctVal': '0.1', 'ctValCcy': 'LPT', 'expTime': '', 'instFamily': 'LPT-USDT', 'instId': 'LPT-USDT-SWAP', 'instType': 'SWAP', 'lever': '50', 'listTime': '1628240677226', 'lotSz': '1', 'maxIcebergSz': '100000000.0000000000000000', 'maxLmtAmt': '1000000', 'maxLmtSz': '100000000', 'maxMktAmt': '', 'maxMktSz': '30000', 'maxStopSz': '30000', 'maxTriggerSz': '100000000.0000000000000000', 'maxTwapSz': '100000000.0000000000000000', 'minSz': '1', 'optType': '', 'quoteCcy': '', 'ruleType': 'normal', 'settleCcy': 'USDT', 'state': 'live', 'stk': '', 'tickSz': '0.001', 'uly': 'LPT-USDT'}, {'alias': '', 'auctionEndTime': '', 'baseCcy': '', 'category': '1', 'ctMult': '1', 'ctType': 'linear', 'ctVal': '1', 'ctValCcy': 'LQTY', 'expTime': '', 'instFamily': 'LQTY-USDT', 'instId': 'LQTY-USDT-SWAP', 'instType': 'SWAP', 'lever': '20', 'listTime': '1711623427239', 'lotSz': '0.1', 'maxIcebergSz': '100000000.0000000000000000', 'maxLmtAmt': '1000000', 'maxLmtSz': '100000000', 'maxMktAmt': '', 'maxMktSz': '100000', 'maxStopSz': '100000', 'maxTriggerSz': '100000000.0000000000000000', 'maxTwapSz': '100000000.0000000000000000', 'minSz': '0.1', 'optType': '', 'quoteCcy': '', 'ruleType': 'normal', 'settleCcy': 'USDT', 'state': 'live', 'stk': '', 'tickSz': '0.0001', 'uly': 'LQTY-USDT'}, {'alias': '', 'auctionEndTime': '', 'baseCcy': '', 'category': '1', 'ctMult': '1', 'ctType': 'linear', 'ctVal': '10', 'ctValCcy': 'LRC', 'expTime': '', 'instFamily': 'LRC-USDT', 'instId': 'LRC-USDT-SWAP', 'instType': 'SWAP', 'lever': '50', 'listTime': '1628506050436', 'lotSz': '1', 'maxIcebergSz': '100000000.0000000000000000', 'maxLmtAmt': '1000000', 'maxLmtSz': '100000000', 'maxMktAmt': '', 'maxMktSz': '4000', 'maxStopSz': '4000', 'maxTriggerSz': '100000000.0000000000000000', 'maxTwapSz': '100000000.0000000000000000', 'minSz': '1', 'optType': '', 'quoteCcy': '', 'ruleType': 'normal', 'settleCcy': 'USDT', 'state': 'live', 'stk': '', 'tickSz': '0.0001', 'uly': 'LRC-USDT'}, {'alias': '', 'auctionEndTime': '', 'baseCcy': '', 'category': '1', 'ctMult': '1', 'ctType': 'linear', 'ctVal': '1', 'ctValCcy': 'MAGIC', 'expTime': '', 'instFamily': 'MAGIC-USDT', 'instId': 'MAGIC-USDT-SWAP', 'instType': 'SWAP', 'lever': '50', 'listTime': '1675652401485', 'lotSz': '1', 'maxIcebergSz': '100000000.0000000000000000', 'maxLmtAmt': '1000000', 'maxLmtSz': '100000000', 'maxMktAmt': '', 'maxMktSz': '70000', 'maxStopSz': '70000', 'maxTriggerSz': '100000000.0000000000000000', 'maxTwapSz': '100000000.0000000000000000', 'minSz': '1', 'optType': '', 'quoteCcy': '', 'ruleType': 'normal', 'settleCcy': 'USDT', 'state': 'live', 'stk': '', 'tickSz': '0.0001', 'uly': 'MAGIC-USDT'}, {'alias': '', 'auctionEndTime': '', 'baseCcy': '', 'category': '1', 'ctMult': '1', 'ctType': 'linear', 'ctVal': '1', 'ctValCcy': 'MASK', 'expTime': '', 'instFamily': 'MASK-USDT', 'instId': 'MASK-USDT-SWAP', 'instType': 'SWAP', 'lever': '50', 'listTime': '1628670049650', 'lotSz': '1', 'maxIcebergSz': '100000000.0000000000000000', 'maxLmtAmt': '1000000', 'maxLmtSz': '100000000', 'maxMktAmt': '', 'maxMktSz': '45000', 'maxStopSz': '45000', 'maxTriggerSz': '100000000.0000000000000000', 'maxTwapSz': '100000000.0000000000000000', 'minSz': '1', 'optType': '', 'quoteCcy': '', 'ruleType': 'normal', 'settleCcy': 'USDT', 'state': 'live', 'stk': '', 'tickSz': '0.001', 'uly': 'MASK-USDT'}, {'alias': '', 'auctionEndTime': '', 'baseCcy': '', 'category': '1', 'ctMult': '1', 'ctType': 'linear', 'ctVal': '1', 'ctValCcy': 'MINA', 'expTime': '', 'instFamily': 'MINA-USDT', 'instId': 'MINA-USDT-SWAP', 'instType': 'SWAP', 'lever': '50', 'listTime': '1670832299245', 'lotSz': '1', 'maxIcebergSz': '100000000.0000000000000000', 'maxLmtAmt': '1000000', 'maxLmtSz': '100000000', 'maxMktAmt': '', 'maxMktSz': '85000', 'maxStopSz': '85000', 'maxTriggerSz': '100000000.0000000000000000', 'maxTwapSz': '100000000.0000000000000000', 'minSz': '1', 'optType': '', 'quoteCcy': '', 'ruleType': 'normal', 'settleCcy': 'USDT', 'state': 'live', 'stk': '', 'tickSz': '0.0001', 'uly': 'MINA-USDT'}, {'alias': '', 'auctionEndTime': '', 'baseCcy': '', 'category': '1', 'ctMult': '1', 'ctType': 'linear', 'ctVal': '0.01', 'ctValCcy': 'MKR', 'expTime': '', 'instFamily': 'MKR-USDT', 'instId': 'MKR-USDT-SWAP', 'instType': 'SWAP', 'lever': '50', 'listTime': '1628509065437', 'lotSz': '0.1', 'maxIcebergSz': '100000000.0000000000000000', 'maxLmtAmt': '1000000', 'maxLmtSz': '100000000', 'maxMktAmt': '', 'maxMktSz': '7000', 'maxStopSz': '7000', 'maxTriggerSz': '100000000.0000000000000000', 'maxTwapSz': '100000000.0000000000000000', 'minSz': '0.1', 'optType': '', 'quoteCcy': '', 'ruleType': 'normal', 'settleCcy': 'USDT', 'state': 'live', 'stk': '', 'tickSz': '0.1', 'uly': 'MKR-USDT'}, {'alias': '', 'auctionEndTime': '', 'baseCcy': '', 'category': '1', 'ctMult': '1', 'ctType': 'linear', 'ctVal': '10', 'ctValCcy': 'NEAR', 'expTime': '', 'instFamily': 'NEAR-USDT', 'instId': 'NEAR-USDT-SWAP', 'instType': 'SWAP', 'lever': '50', 'listTime': '1628509052902', 'lotSz': '0.1', 'maxIcebergSz': '100000000.0000000000000000', 'maxLmtAmt': '1000000', 'maxLmtSz': '100000000', 'maxMktAmt': '', 'maxMktSz': '10000', 'maxStopSz': '10000', 'maxTriggerSz': '100000000.0000000000000000', 'maxTwapSz': '100000000.0000000000000000', 'minSz': '0.1', 'optType': '', 'quoteCcy': '', 'ruleType': 'normal', 'settleCcy': 'USDT', 'state': 'live', 'stk': '', 'tickSz': '0.001', 'uly': 'NEAR-USDT'}, {'alias': '', 'auctionEndTime': '', 'baseCcy': '', 'category': '1', 'ctMult': '1', 'ctType': 'linear', 'ctVal': '1', 'ctValCcy': 'NEO', 'expTime': '', 'instFamily': 'NEO-USDT', 'instId': 'NEO-USDT-SWAP', 'instType': 'SWAP', 'lever': '50', 'listTime': '1628509044083', 'lotSz': '1', 'maxIcebergSz': '100000000.0000000000000000', 'maxLmtAmt': '1000000', 'maxLmtSz': '100000000', 'maxMktAmt': '', 'maxMktSz': '11000', 'maxStopSz': '11000', 'maxTriggerSz': '100000000.0000000000000000', 'maxTwapSz': '100000000.0000000000000000', 'minSz': '1', 'optType': '', 'quoteCcy': '', 'ruleType': 'normal', 'settleCcy': 'USDT', 'state': 'live', 'stk': '', 'tickSz': '0.001', 'uly': 'NEO-USDT'}, {'alias': '', 'auctionEndTime': '', 'baseCcy': '', 'category': '1', 'ctMult': '1', 'ctType': 'linear', 'ctVal': '100', 'ctValCcy': 'NOT', 'expTime': '', 'instFamily': 'NOT-USDT', 'instId': 'NOT-USDT-SWAP', 'instType': 'SWAP', 'lever': '50', 'listTime': '1717742100407', 'lotSz': '1', 'maxIcebergSz': '100000000.0000000000000000', 'maxLmtAmt': '1000000', 'maxLmtSz': '100000000', 'maxMktAmt': '', 'maxMktSz': '100000', 'maxStopSz': '100000', 'maxTriggerSz': '100000000.0000000000000000', 'maxTwapSz': '100000000.0000000000000000', 'minSz': '1', 'optType': '', 'quoteCcy': '', 'ruleType': 'normal', 'settleCcy': 'USDT', 'state': 'live', 'stk': '', 'tickSz': '0.000001', 'uly': 'NOT-USDT'}, {'alias': '', 'auctionEndTime': '', 'baseCcy': '', 'category': '1', 'ctMult': '1', 'ctType': 'linear', 'ctVal': '1', 'ctValCcy': 'OP', 'expTime': '', 'instFamily': 'OP-USDT', 'instId': 'OP-USDT-SWAP', 'instType': 'SWAP', 'lever': '50', 'listTime': '1656988628006', 'lotSz': '1', 'maxIcebergSz': '100000000.0000000000000000', 'maxLmtAmt': '1000000', 'maxLmtSz': '100000000', 'maxMktAmt': '', 'maxMktSz': '250000', 'maxStopSz': '250000', 'maxTriggerSz': '100000000.0000000000000000', 'maxTwapSz': '100000000.0000000000000000', 'minSz': '1', 'optType': '', 'quoteCcy': '', 'ruleType': 'normal', 'settleCcy': 'USDT', 'state': 'live', 'stk': '', 'tickSz': '0.0001', 'uly': 'OP-USDT'}, {'alias': '', 'auctionEndTime': '', 'baseCcy': '', 'category': '1', 'ctMult': '1', 'ctType': 'linear', 'ctVal': '100', 'ctValCcy': 'ORBS', 'expTime': '', 'instFamily': 'ORBS-USDT', 'instId': 'ORBS-USDT-SWAP', 'instType': 'SWAP', 'lever': '50', 'listTime': '1697683001153', 'lotSz': '1', 'maxIcebergSz': '100000000.0000000000000000', 'maxLmtAmt': '1000000', 'maxLmtSz': '100000000', 'maxMktAmt': '', 'maxMktSz': '25000', 'maxStopSz': '25000', 'maxTriggerSz': '100000000.0000000000000000', 'maxTwapSz': '100000000.0000000000000000', 'minSz': '1', 'optType': '', 'quoteCcy': '', 'ruleType': 'normal', 'settleCcy': 'USDT', 'state': 'live', 'stk': '', 'tickSz': '0.00001', 'uly': 'ORBS-USDT'}, {'alias': '', 'auctionEndTime': '', 'baseCcy': '', 'category': '1', 'ctMult': '1', 'ctType': 'linear', 'ctVal': '1', 'ctValCcy': 'QTUM', 'expTime': '', 'instFamily': 'QTUM-USDT', 'instId': 'QTUM-USDT-SWAP', 'instType': 'SWAP', 'lever': '50', 'listTime': '1627715678375', 'lotSz': '1', 'maxIcebergSz': '100000000.0000000000000000', 'maxLmtAmt': '1000000', 'maxLmtSz': '100000000', 'maxMktAmt': '', 'maxMktSz': '5000', 'maxStopSz': '5000', 'maxTriggerSz': '100000000.0000000000000000', 'maxTwapSz': '100000000.0000000000000000', 'minSz': '1', 'optType': '', 'quoteCcy': '', 'ruleType': 'normal', 'settleCcy': 'USDT', 'state': 'live', 'stk': '', 'tickSz': '0.001', 'uly': 'QTUM-USDT'}, {'alias': '', 'auctionEndTime': '', 'baseCcy': '', 'category': '1', 'ctMult': '1', 'ctType': 'linear', 'ctVal': '100', 'ctValCcy': 'RENOLD', 'expTime': '', 'instFamily': 'RENOLD-USDT', 'instId': 'RENOLD-USDT-SWAP', 'instType': 'SWAP', 'lever': '50', 'listTime': '1732806005126', 'lotSz': '1', 'maxIcebergSz': '100000000.0000000000000000', 'maxLmtAmt': '1000000', 'maxLmtSz': '100000000', 'maxMktAmt': '', 'maxMktSz': '20000', 'maxStopSz': '20000', 'maxTriggerSz': '100000000.0000000000000000', 'maxTwapSz': '100000000.0000000000000000', 'minSz': '1', 'optType': '', 'quoteCcy': '', 'ruleType': 'normal', 'settleCcy': 'USDT', 'state': 'live', 'stk': '', 'tickSz': '0.00001', 'uly': 'RENOLD-USDT'}, {'alias': '', 'auctionEndTime': '', 'baseCcy': '', 'category': '1', 'ctMult': '1', 'ctType': 'linear', 'ctVal': '1', 'ctValCcy': 'RON', 'expTime': '', 'instFamily': 'RON-USDT', 'instId': 'RON-USDT-SWAP', 'instType': 'SWAP', 'lever': '45', 'listTime': '1710212758063', 'lotSz': '1', 'maxIcebergSz': '100000000.0000000000000000', 'maxLmtAmt': '1000000', 'maxLmtSz': '100000000', 'maxMktAmt': '', 'maxMktSz': '25000', 'maxStopSz': '25000', 'maxTriggerSz': '100000000.0000000000000000', 'maxTwapSz': '100000000.0000000000000000', 'minSz': '1', 'optType': '', 'quoteCcy': '', 'ruleType': 'normal', 'settleCcy': 'USDT', 'state': 'live', 'stk': '', 'tickSz': '0.001', 'uly': 'RON-USDT'}, {'alias': '', 'auctionEndTime': '', 'baseCcy': '', 'category': '1', 'ctMult': '1', 'ctType': 'linear', 'ctVal': '10', 'ctValCcy': 'SAND', 'expTime': '', 'instFamily': 'SAND-USDT', 'instId': 'SAND-USDT-SWAP', 'instType': 'SWAP', 'lever': '50', 'listTime': '1628508795336', 'lotSz': '1', 'maxIcebergSz': '100000000.0000000000000000', 'maxLmtAmt': '1000000', 'maxLmtSz': '100000000', 'maxMktAmt': '', 'maxMktSz': '25000', 'maxStopSz': '25000', 'maxTriggerSz': '100000000.0000000000000000', 'maxTwapSz': '100000000.0000000000000000', 'minSz': '1', 'optType': '', 'quoteCcy': '', 'ruleType': 'normal', 'settleCcy': 'USDT', 'state': 'live', 'stk': '', 'tickSz': '0.0001', 'uly': 'SAND-USDT'}, {'alias': '', 'auctionEndTime': '', 'baseCcy': '', 'category': '1', 'ctMult': '1', 'ctType': 'linear', 'ctVal': '10000000', 'ctValCcy': 'SATS', 'expTime': '', 'instFamily': 'SATS-USDT', 'instId': 'SATS-USDT-SWAP', 'instType': 'SWAP', 'lever': '50', 'listTime': '1704885617156', 'lotSz': '1', 'maxIcebergSz': '100000000.0000000000000000', 'maxLmtAmt': '1000000', 'maxLmtSz': '100000000', 'maxMktAmt': '', 'maxMktSz': '20000', 'maxStopSz': '20000', 'maxTriggerSz': '100000000.0000000000000000', 'maxTwapSz': '100000000.0000000000000000', 'minSz': '1', 'optType': '', 'quoteCcy': '', 'ruleType': 'normal', 'settleCcy': 'USDT', 'state': 'live', 'stk': '', 'tickSz': '0.00000000001', 'uly': 'SATS-USDT'}, {'alias': '', 'auctionEndTime': '', 'baseCcy': '', 'category': '1', 'ctMult': '1', 'ctType': 'linear', 'ctVal': '1000000', 'ctValCcy': 'SHIB', 'expTime': '', 'instFamily': 'SHIB-USDT', 'instId': 'SHIB-USDT-SWAP', 'instType': 'SWAP', 'lever': '50', 'listTime': '1665213467718', 'lotSz': '0.1', 'maxIcebergSz': '100000000.0000000000000000', 'maxLmtAmt': '1000000', 'maxLmtSz': '100000000', 'maxMktAmt': '', 'maxMktSz': '35000.5', 'maxStopSz': '35000.5', 'maxTriggerSz': '100000000.0000000000000000', 'maxTwapSz': '100000000.0000000000000000', 'minSz': '0.1', 'optType': '', 'quoteCcy': '', 'ruleType': 'normal', 'settleCcy': 'USDT', 'state': 'live', 'stk': '', 'tickSz': '0.00000001', 'uly': 'SHIB-USDT'}, {'alias': '', 'auctionEndTime': '', 'baseCcy': '', 'category': '1', 'ctMult': '1', 'ctType': 'linear', 'ctVal': '1', 'ctValCcy': 'SUI', 'expTime': '', 'instFamily': 'SUI-USDT', 'instId': 'SUI-USDT-SWAP', 'instType': 'SWAP', 'lever': '50', 'listTime': '1683203486358', 'lotSz': '1', 'maxIcebergSz': '100000000.0000000000000000', 'maxLmtAmt': '1000000', 'maxLmtSz': '100000000', 'maxMktAmt': '', 'maxMktSz': '200000', 'maxStopSz': '200000', 'maxTriggerSz': '100000000.0000000000000000', 'maxTwapSz': '100000000.0000000000000000', 'minSz': '1', 'optType': '', 'quoteCcy': '', 'ruleType': 'normal', 'settleCcy': 'USDT', 'state': 'live', 'stk': '', 'tickSz': '0.00001', 'uly': 'SUI-USDT'}, {'alias': '', 'auctionEndTime': '', 'baseCcy': '', 'category': '1', 'ctMult': '1', 'ctType': 'linear', 'ctVal': '1', 'ctValCcy': 'SUSHI', 'expTime': '', 'instFamily': 'SUSHI-USDT', 'instId': 'SUSHI-USDT-SWAP', 'instType': 'SWAP', 'lever': '50', 'listTime': '1628508565592', 'lotSz': '1', 'maxIcebergSz': '100000000.0000000000000000', 'maxLmtAmt': '1000000', 'maxLmtSz': '100000000', 'maxMktAmt': '', 'maxMktSz': '150000', 'maxStopSz': '150000', 'maxTriggerSz': '100000000.0000000000000000', 'maxTwapSz': '100000000.0000000000000000', 'minSz': '1', 'optType': '', 'quoteCcy': '', 'ruleType': 'normal', 'settleCcy': 'USDT', 'state': 'live', 'stk': '', 'tickSz': '0.0001', 'uly': 'SUSHI-USDT'}, {'alias': '', 'auctionEndTime': '', 'baseCcy': '', 'category': '1', 'ctMult': '1', 'ctType': 'linear', 'ctVal': '10', 'ctValCcy': 'THETA', 'expTime': '', 'instFamily': 'THETA-USDT', 'instId': 'THETA-USDT-SWAP', 'instType': 'SWAP', 'lever': '50', 'listTime': '1628508730918', 'lotSz': '1', 'maxIcebergSz': '100000000.0000000000000000', 'maxLmtAmt': '1000000', 'maxLmtSz': '100000000', 'maxMktAmt': '', 'maxMktSz': '8500', 'maxStopSz': '8500', 'maxTriggerSz': '100000000.0000000000000000', 'maxTwapSz': '100000000.0000000000000000', 'minSz': '1', 'optType': '', 'quoteCcy': '', 'ruleType': 'normal', 'settleCcy': 'USDT', 'state': 'live', 'stk': '', 'tickSz': '0.0001', 'uly': 'THETA-USDT'}, {'alias': '', 'auctionEndTime': '', 'baseCcy': '', 'category': '1', 'ctMult': '1', 'ctType': 'linear', 'ctVal': '1000', 'ctValCcy': 'TRX', 'expTime': '', 'instFamily': 'TRX-USDT', 'instId': 'TRX-USDT-SWAP', 'instType': 'SWAP', 'lever': '50', 'listTime': '1605101178573', 'lotSz': '0.1', 'maxIcebergSz': '1000000.0000000000000000', 'maxLmtAmt': '1000000', 'maxLmtSz': '1000000', 'maxMktAmt': '', 'maxMktSz': '4000', 'maxStopSz': '4000', 'maxTriggerSz': '1000000.0000000000000000', 'maxTwapSz': '1000000.0000000000000000', 'minSz': '0.1', 'optType': '', 'quoteCcy': '', 'ruleType': 'normal', 'settleCcy': 'USDT', 'state': 'live', 'stk': '', 'tickSz': '0.00001', 'uly': 'TRX-USDT'}, {'alias': '', 'auctionEndTime': '', 'baseCcy': '', 'category': '1', 'ctMult': '1', 'ctType': 'linear', 'ctVal': '1', 'ctValCcy': 'UNI', 'expTime': '1624262400000', 'instFamily': 'UNI-USDT', 'instId': 'UNI-USDT-SWAP', 'instType': 'SWAP', 'lever': '50', 'listTime': '1605101214588', 'lotSz': '1', 'maxIcebergSz': '100000000.0000000000000000', 'maxLmtAmt': '1000000', 'maxLmtSz': '100000000', 'maxMktAmt': '', 'maxMktSz': '30000', 'maxStopSz': '30000', 'maxTriggerSz': '100000000.0000000000000000', 'maxTwapSz': '100000000.0000000000000000', 'minSz': '1', 'optType': '', 'quoteCcy': '', 'ruleType': 'normal', 'settleCcy': 'USDT', 'state': 'live', 'stk': '', 'tickSz': '0.001', 'uly': 'UNI-USDT'}, {'alias': '', 'auctionEndTime': '', 'baseCcy': '', 'category': '1', 'ctMult': '1', 'ctType': 'linear', 'ctVal': '10', 'ctValCcy': 'USDC', 'expTime': '', 'instFamily': 'USDC-USDT', 'instId': 'USDC-USDT-SWAP', 'instType': 'SWAP', 'lever': '50', 'listTime': '1678601243263', 'lotSz': '1', 'maxIcebergSz': '100000000.0000000000000000', 'maxLmtAmt': '1000000', 'maxLmtSz': '100000000', 'maxMktAmt': '', 'maxMktSz': '10000', 'maxStopSz': '10000', 'maxTriggerSz': '100000000.0000000000000000', 'maxTwapSz': '100000000.0000000000000000', 'minSz': '1', 'optType': '', 'quoteCcy': '', 'ruleType': 'normal', 'settleCcy': 'USDT', 'state': 'live', 'stk': '', 'tickSz': '0.0001', 'uly': 'USDC-USDT'}, {'alias': '', 'auctionEndTime': '', 'baseCcy': '', 'category': '1', 'ctMult': '1', 'ctType': 'linear', 'ctVal': '1000', 'ctValCcy': 'VRA', 'expTime': '', 'instFamily': 'VRA-USDT', 'instId': 'VRA-USDT-SWAP', 'instType': 'SWAP', 'lever': '20', 'listTime': '1697451488580', 'lotSz': '1', 'maxIcebergSz': '100000000.0000000000000000', 'maxLmtAmt': '1000000', 'maxLmtSz': '100000000', 'maxMktAmt': '', 'maxMktSz': '15000', 'maxStopSz': '15000', 'maxTriggerSz': '100000000.0000000000000000', 'maxTwapSz': '100000000.0000000000000000', 'minSz': '1', 'optType': '', 'quoteCcy': '', 'ruleType': 'normal', 'settleCcy': 'USDT', 'state': 'live', 'stk': '', 'tickSz': '0.000001', 'uly': 'VRA-USDT'}, {'alias': '', 'auctionEndTime': '', 'baseCcy': '', 'category': '1', 'ctMult': '1', 'ctType': 'linear', 'ctVal': '10000', 'ctValCcy': 'X', 'expTime': '', 'instFamily': 'X-USDT', 'instId': 'X-USDT-SWAP', 'instType': 'SWAP', 'lever': '50', 'listTime': '1732849059449', 'lotSz': '1', 'maxIcebergSz': '100000000.0000000000000000', 'maxLmtAmt': '1000000', 'maxLmtSz': '100000000', 'maxMktAmt': '', 'maxMktSz': '10000', 'maxStopSz': '10000', 'maxTriggerSz': '100000000.0000000000000000', 'maxTwapSz': '100000000.0000000000000000', 'minSz': '1', 'optType': '', 'quoteCcy': '', 'ruleType': 'normal', 'settleCcy': 'USDT', 'state': 'live', 'stk': '', 'tickSz': '0.0000001', 'uly': 'X-USDT'}, {'alias': '', 'auctionEndTime': '', 'baseCcy': '', 'category': '1', 'ctMult': '1', 'ctType': 'linear', 'ctVal': '100', 'ctValCcy': 'XLM', 'expTime': '', 'instFamily': 'XLM-USDT', 'instId': 'XLM-USDT-SWAP', 'instType': 'SWAP', 'lever': '50', 'listTime': '1628652672904', 'lotSz': '1', 'maxIcebergSz': '100000000.0000000000000000', 'maxLmtAmt': '1000000', 'maxLmtSz': '100000000', 'maxMktAmt': '', 'maxMktSz': '9000', 'maxStopSz': '9000', 'maxTriggerSz': '100000000.0000000000000000', 'maxTwapSz': '100000000.0000000000000000', 'minSz': '1', 'optType': '', 'quoteCcy': '', 'ruleType': 'normal', 'settleCcy': 'USDT', 'state': 'live', 'stk': '', 'tickSz': '0.00001', 'uly': 'XLM-USDT'}, {'alias': '', 'auctionEndTime': '', 'baseCcy': '', 'category': '1', 'ctMult': '1', 'ctType': 'linear', 'ctVal': '1', 'ctValCcy': 'XTZ', 'expTime': '', 'instFamily': 'XTZ-USDT', 'instId': 'XTZ-USDT-SWAP', 'instType': 'SWAP', 'lever': '50', 'listTime': '1651810916064', 'lotSz': '1', 'maxIcebergSz': '100000000.0000000000000000', 'maxLmtAmt': '1000000', 'maxLmtSz': '100000000', 'maxMktAmt': '', 'maxMktSz': '70000', 'maxStopSz': '70000', 'maxTriggerSz': '100000000.0000000000000000', 'maxTwapSz': '100000000.0000000000000000', 'minSz': '1', 'optType': '', 'quoteCcy': '', 'ruleType': 'normal', 'settleCcy': 'USDT', 'state': 'live', 'stk': '', 'tickSz': '0.0001', 'uly': 'XTZ-USDT'}, {'alias': '', 'auctionEndTime': '', 'baseCcy': '', 'category': '1', 'ctMult': '1', 'ctType': 'linear', 'ctVal': '0.0001', 'ctValCcy': 'YFI', 'expTime': '', 'instFamily': 'YFI-USDT', 'instId': 'YFI-USDT-SWAP', 'instType': 'SWAP', 'lever': '50', 'listTime': '1628666826230', 'lotSz': '1', 'maxIcebergSz': '100000000.0000000000000000', 'maxLmtAmt': '1000000', 'maxLmtSz': '100000000', 'maxMktAmt': '', 'maxMktSz': '150000', 'maxStopSz': '150000', 'maxTriggerSz': '100000000.0000000000000000', 'maxTwapSz': '100000000.0000000000000000', 'minSz': '1', 'optType': '', 'quoteCcy': '', 'ruleType': 'normal', 'settleCcy': 'USDT', 'state': 'live', 'stk': '', 'tickSz': '1', 'uly': 'YFI-USDT'}, {'alias': '', 'auctionEndTime': '', 'baseCcy': '', 'category': '1', 'ctMult': '1', 'ctType': 'linear', 'ctVal': '1', 'ctValCcy': 'YGG', 'expTime': '', 'instFamily': 'YGG-USDT', 'instId': 'YGG-USDT-SWAP', 'instType': 'SWAP', 'lever': '50', 'listTime': '1696832776064', 'lotSz': '1', 'maxIcebergSz': '100000000.0000000000000000', 'maxLmtAmt': '1000000', 'maxLmtSz': '100000000', 'maxMktAmt': '', 'maxMktSz': '110000', 'maxStopSz': '110000', 'maxTriggerSz': '100000000.0000000000000000', 'maxTwapSz': '100000000.0000000000000000', 'minSz': '1', 'optType': '', 'quoteCcy': '', 'ruleType': 'normal', 'settleCcy': 'USDT', 'state': 'live', 'stk': '', 'tickSz': '0.0001', 'uly': 'YGG-USDT'}, {'alias': '', 'auctionEndTime': '', 'baseCcy': '', 'category': '1', 'ctMult': '1', 'ctType': 'linear', 'ctVal': '10', 'ctValCcy': 'ZETA', 'expTime': '', 'instFamily': 'ZETA-USDT', 'instId': 'ZETA-USDT-SWAP', 'instType': 'SWAP', 'lever': '50', 'listTime': '1709869819016', 'lotSz': '1', 'maxIcebergSz': '100000000.0000000000000000', 'maxLmtAmt': '1000000', 'maxLmtSz': '100000000', 'maxMktAmt': '', 'maxMktSz': '50000', 'maxStopSz': '50000', 'maxTriggerSz': '100000000.0000000000000000', 'maxTwapSz': '100000000.0000000000000000', 'minSz': '1', 'optType': '', 'quoteCcy': '', 'ruleType': 'normal', 'settleCcy': 'USDT', 'state': 'live', 'stk': '', 'tickSz': '0.0001', 'uly': 'ZETA-USDT'}, {'alias': '', 'auctionEndTime': '', 'baseCcy': '', 'category': '1', 'ctMult': '1', 'ctType': 'linear', 'ctVal': '100', 'ctValCcy': 'ZIL', 'expTime': '', 'instFamily': 'ZIL-USDT', 'instId': 'ZIL-USDT-SWAP', 'instType': 'SWAP', 'lever': '50', 'listTime': '1651749653124', 'lotSz': '1', 'maxIcebergSz': '100000000.0000000000000000', 'maxLmtAmt': '1000000', 'maxLmtSz': '100000000', 'maxMktAmt': '', 'maxMktSz': '35000', 'maxStopSz': '35000', 'maxTriggerSz': '100000000.0000000000000000', 'maxTwapSz': '100000000.0000000000000000', 'minSz': '1', 'optType': '', 'quoteCcy': '', 'ruleType': 'normal', 'settleCcy': 'USDT', 'state': 'live', 'stk': '', 'tickSz': '0.00001', 'uly': 'ZIL-USDT'}, {'alias': '', 'auctionEndTime': '', 'baseCcy': '', 'category': '1', 'ctMult': '1', 'ctType': 'linear', 'ctVal': '0.0001', 'ctValCcy': 'BTC', 'expTime': '', 'instFamily': 'BTC-USDC', 'instId': 'BTC-USDC-SWAP', 'instType': 'SWAP', 'lever': '50', 'listTime': '1663582310973', 'lotSz': '1', 'maxIcebergSz': '100000000.0000000000000000', 'maxLmtAmt': '1000000', 'maxLmtSz': '100000000', 'maxMktAmt': '', 'maxMktSz': '8500', 'maxStopSz': '8500', 'maxTriggerSz': '100000000.0000000000000000', 'maxTwapSz': '100000000.0000000000000000', 'minSz': '1', 'optType': '', 'quoteCcy': '', 'ruleType': 'normal', 'settleCcy': 'USDC', 'state': 'live', 'stk': '', 'tickSz': '0.1', 'uly': 'BTC-USDC'}, {'alias': '', 'auctionEndTime': '', 'baseCcy': '', 'category': '1', 'ctMult': '1', 'ctType': 'linear', 'ctVal': '0.001', 'ctValCcy': 'ETH', 'expTime': '', 'instFamily': 'ETH-USDC', 'instId': 'ETH-USDC-SWAP', 'instType': 'SWAP', 'lever': '50', 'listTime': '1663582301712', 'lotSz': '1', 'maxIcebergSz': '100000000.0000000000000000', 'maxLmtAmt': '1000000', 'maxLmtSz': '100000000', 'maxMktAmt': '', 'maxMktSz': '12000', 'maxStopSz': '12000', 'maxTriggerSz': '100000000.0000000000000000', 'maxTwapSz': '100000000.0000000000000000', 'minSz': '1', 'optType': '', 'quoteCcy': '', 'ruleType': 'normal', 'settleCcy': 'USDC', 'state': 'live', 'stk': '', 'tickSz': '0.01', 'uly': 'ETH-USDC'}, {'alias': '', 'auctionEndTime': '', 'baseCcy': '', 'category': '1', 'ctMult': '1', 'ctType': 'linear', 'ctVal': '1', 'ctValCcy': 'CTC', 'expTime': '', 'instFamily': 'CTC-USDC', 'instId': 'CTC-USDC-SWAP', 'instType': 'SWAP', 'lever': '20', 'listTime': '1728965400572', 'lotSz': '1', 'maxIcebergSz': '100000000.0000000000000000', 'maxLmtAmt': '1000000', 'maxLmtSz': '100000000', 'maxMktAmt': '', 'maxMktSz': '1000', 'maxStopSz': '1000', 'maxTriggerSz': '100000000.0000000000000000', 'maxTwapSz': '100000000.0000000000000000', 'minSz': '1', 'optType': '', 'quoteCcy': '', 'ruleType': 'normal', 'settleCcy': 'USDC', 'state': 'live', 'stk': '', 'tickSz': '0.00001', 'uly': 'CTC-USDC'}, {'alias': '', 'auctionEndTime': '', 'baseCcy': '', 'category': '1', 'ctMult': '1', 'ctType': 'linear', 'ctVal': '10', 'ctValCcy': 'MOODENG', 'expTime': '', 'instFamily': 'MOODENG-USDC', 'instId': 'MOODENG-USDC-SWAP', 'instType': 'SWAP', 'lever': '50', 'listTime': '1733221627487', 'lotSz': '1', 'maxIcebergSz': '100000000.0000000000000000', 'maxLmtAmt': '1000000', 'maxLmtSz': '100000000', 'maxMktAmt': '', 'maxMktSz': '10000', 'maxStopSz': '10000', 'maxTriggerSz': '100000000.0000000000000000', 'maxTwapSz': '100000000.0000000000000000', 'minSz': '1', 'optType': '', 'quoteCcy': '', 'ruleType': 'normal', 'settleCcy': 'USDC', 'state': 'live', 'stk': '', 'tickSz': '0.00001', 'uly': 'MOODENG-USDC'}], 'msg': ''}\n"
     ]
    }
   ],
   "source": [
    "import okx.PublicData as PublicData\n",
    "\n",
    "if __name__ == '__main__':\n",
    "\n",
    "    flag = \"1\"  # live trading: 0, demo trading: 1\n",
    "\n",
    "    publicDataAPI = PublicData.PublicAPI(flag = flag)\n",
    "\n",
    "    result = publicDataAPI.get_instruments(instType = \"SWAP\")\n",
    "    print(result)"
   ]
  },
  {
   "cell_type": "markdown",
   "metadata": {
    "pycharm": {
     "name": "#%% md\n"
    }
   },
   "source": [
    "## Get the current account configuration from the `acctLv` parameter in [Get account configuration](https://www.okx.com/docs-v5/en/#rest-api-account-get-account-configuration).\n",
    "In unified account, there are four account modes as we mentioned in the last tutorial: \n",
    "- Simple account,\n",
    "- Single-currency margin account, \n",
    "- Multi-currency margin account, \n",
    "- Portfolio margin account. \n",
    "\n",
    "Only the last three margin modes, namely, single-currency margin, multi-currency margin and portfolio margin, are eligible to trade derivatives."
   ]
  },
  {
   "cell_type": "code",
   "execution_count": 7,
   "metadata": {
    "pycharm": {
     "name": "#%%\n"
    }
   },
   "outputs": [
    {
     "name": "stderr",
     "output_type": "stream",
     "text": [
      "\u001b[32m2024-12-12 11:29:49.993\u001b[0m | \u001b[34m\u001b[1mDEBUG   \u001b[0m | \u001b[36mokx.utils\u001b[0m:\u001b[36mpre_hash\u001b[0m:\u001b[36m18\u001b[0m - \u001b[34m\u001b[1mbody: \u001b[0m\n",
      "\u001b[32m2024-12-12 11:29:49.994\u001b[0m | \u001b[34m\u001b[1mDEBUG   \u001b[0m | \u001b[36mokx.utils\u001b[0m:\u001b[36mget_header\u001b[0m:\u001b[36m31\u001b[0m - \u001b[34m\u001b[1mheader: {'Content-Type': 'application/json', 'OK-ACCESS-KEY': '80791c49-301a-401e-9e5a-5ec357eaacc9', 'OK-ACCESS-SIGN': b'nIvXa0gihJSOlC6m6dMg+Rga+THi2aFxv3KjcEdkQbc=', 'OK-ACCESS-TIMESTAMP': '2024-12-12T03:29:49.993Z', 'OK-ACCESS-PASSPHRASE': 'Robin3910!', 'x-simulated-trading': '1'}\u001b[0m\n",
      "\u001b[32m2024-12-12 11:29:49.994\u001b[0m | \u001b[34m\u001b[1mDEBUG   \u001b[0m | \u001b[36mokx.okxclient\u001b[0m:\u001b[36m_request\u001b[0m:\u001b[36m42\u001b[0m - \u001b[34m\u001b[1mdomain: https://www.okx.com\u001b[0m\n",
      "\u001b[32m2024-12-12 11:29:49.994\u001b[0m | \u001b[34m\u001b[1mDEBUG   \u001b[0m | \u001b[36mokx.okxclient\u001b[0m:\u001b[36m_request\u001b[0m:\u001b[36m43\u001b[0m - \u001b[34m\u001b[1murl: /api/v5/account/config\u001b[0m\n",
      "\u001b[32m2024-12-12 11:29:49.994\u001b[0m | \u001b[34m\u001b[1mDEBUG   \u001b[0m | \u001b[36mokx.okxclient\u001b[0m:\u001b[36m_request\u001b[0m:\u001b[36m44\u001b[0m - \u001b[34m\u001b[1mbody:\u001b[0m\n"
     ]
    },
    {
     "name": "stdout",
     "output_type": "stream",
     "text": [
      "{'code': '0', 'data': [{'acctLv': '1', 'acctStpMode': 'cancel_maker', 'autoLoan': False, 'ctIsoMode': 'automatic', 'enableSpotBorrow': False, 'greeksType': 'PA', 'ip': '', 'kycLv': '2', 'label': 'robin_demo', 'level': 'Lv1', 'levelTmp': '', 'liquidationGear': '-1', 'mainUid': '306364803054758409', 'mgnIsoMode': 'automatic', 'opAuth': '0', 'perm': 'read_only,trade', 'posMode': 'long_short_mode', 'roleType': '0', 'spotBorrowAutoRepay': False, 'spotOffsetType': '', 'spotRoleType': '0', 'spotTraderInsts': [], 'traderInsts': [], 'type': '0', 'uid': '306364803054758409'}], 'msg': ''}\n",
      "Simple mode\n"
     ]
    }
   ],
   "source": [
    "import okx.Account as Account\n",
    "\n",
    "flag = \"1\"  # live trading: 0, demo trading: 1\n",
    "\n",
    "accountAPI = Account.AccountAPI(api_key, secret_key, passphrase, False, flag)\n",
    "result = accountAPI.get_account_config()\n",
    "print(result)\n",
    "\n",
    "if result['code'] == \"0\":\n",
    "    acctLv = result[\"data\"][0][\"acctLv\"]\n",
    "    if acctLv == \"1\":\n",
    "        print(\"Simple mode\")\n",
    "    elif acctLv == \"2\":\n",
    "        print(\"Single-currency margin mode\")\n",
    "    elif acctLv == \"3\":\n",
    "        print(\"Multi-currency margin mode\")\n",
    "    elif acctLv == \"4\":\n",
    "        print(\"Portfolio margin mode\")"
   ]
  },
  {
   "cell_type": "markdown",
   "metadata": {},
   "source": [
    "## Set leverage via  [Set leverage](https://www.okx.com/docs-v5/en/#rest-api-account-set-leverage).\n",
    "You can refer to [OKX Margin Trading Rules](https://www.okx.com/support/hc/en-us/articles/360019908352--OKX-Margin-Trading-Rules).\n",
    "The leverage of a single currency, Leverage = position value / (balance in cross positions + unrealized P&L in cross margin positions).\n",
    "See [references of setting leverage](https://www.okx.com/trade-market/position/swap) for more information."
   ]
  },
  {
   "cell_type": "code",
   "execution_count": null,
   "metadata": {},
   "outputs": [],
   "source": [
    "# Set leverage to be 5x for all cross-margin BTC-USDT SWAP positions,\n",
    "# by providing any SWAP instId with BTC-USDT as the underlying\n",
    "result = accountAPI.set_leverage(\n",
    "    instId = \"BTC-USDT-SWAP\",\n",
    "    lever = \"5\",\n",
    "    mgnMode = \"cross\"\n",
    ")\n",
    "print(result)\n",
    "\n",
    "# Set leverage to be 5x for all isolated-margin BTC-USDT SWAP positions,\n",
    "# by providing any SWAP instId with BTC-USDT as the underlying\n",
    "result = accountAPI.set_leverage(\n",
    "    instId = \"BTC-USDT-SWAP\",\n",
    "    lever = \"5\",\n",
    "    mgnMode = \"isolated\"\n",
    ")\n",
    "print(result)\n",
    "\n",
    "# Set leverage to be 5x for an isolated-margin \n",
    "# BTC-USDT-SWAP long position;\n",
    "# This does NOT affect the leverage of any other BTC-USDT SWAP positions with different maturities or posSide\n",
    "result = accountAPI.set_leverage(\n",
    "    instId = \"BTC-USDT-SWAP\",\n",
    "    lever = \"5\",\n",
    "    posSide = \"long\",\n",
    "    mgnMode = \"isolated\"\n",
    ")\n",
    "print(result)"
   ]
  },
  {
   "cell_type": "markdown",
   "metadata": {
    "pycharm": {
     "name": "#%% md\n"
    }
   },
   "source": [
    "# Start Derivatives Trading"
   ]
  },
  {
   "cell_type": "markdown",
   "metadata": {
    "pycharm": {
     "name": "#%% md\n"
    }
   },
   "source": [
    "### Derivatives trading under single-currency margin/multi-currency margin/portfolio margin mode"
   ]
  },
  {
   "cell_type": "code",
   "execution_count": 14,
   "metadata": {},
   "outputs": [],
   "source": [
    "import okx.Trade as Trade\n",
    "\n",
    "flag = \"1\"  # live trading: 0, demo trading: 1\n",
    "\n",
    "tradeAPI = Trade.TradeAPI(api_key, secret_key, passphrase, False, flag)"
   ]
  },
  {
   "cell_type": "markdown",
   "metadata": {},
   "source": [
    "### Place orders under different position (order placement) modes: long/short and buy/sell\n",
    "There are two position (order placement) modes when trading FUTURES and perpetual SWAP: long/short and buy/sell (net).\n",
    "You can change the position (order placement) mode between long/short and buy/sell (net), via the API [Set position mode](https://www.okx.com/docs-v5/en/#rest-api-account-set-position-mode):"
   ]
  },
  {
   "cell_type": "code",
   "execution_count": 20,
   "metadata": {},
   "outputs": [
    {
     "name": "stderr",
     "output_type": "stream",
     "text": [
      "\u001b[32m2024-12-12 11:36:57.631\u001b[0m | \u001b[34m\u001b[1mDEBUG   \u001b[0m | \u001b[36mokx.utils\u001b[0m:\u001b[36mpre_hash\u001b[0m:\u001b[36m18\u001b[0m - \u001b[34m\u001b[1mbody: {\"posMode\": \"net_mode\"}\u001b[0m\n",
      "\u001b[32m2024-12-12 11:36:57.633\u001b[0m | \u001b[34m\u001b[1mDEBUG   \u001b[0m | \u001b[36mokx.utils\u001b[0m:\u001b[36mget_header\u001b[0m:\u001b[36m31\u001b[0m - \u001b[34m\u001b[1mheader: {'Content-Type': 'application/json', 'OK-ACCESS-KEY': '80791c49-301a-401e-9e5a-5ec357eaacc9', 'OK-ACCESS-SIGN': b'xRIg49rZnLocLqt9G+py+ilSfGCyzRGEgWNJfSRwG8E=', 'OK-ACCESS-TIMESTAMP': '2024-12-12T03:36:57.631Z', 'OK-ACCESS-PASSPHRASE': 'Robin3910!', 'x-simulated-trading': '1'}\u001b[0m\n",
      "\u001b[32m2024-12-12 11:36:57.634\u001b[0m | \u001b[34m\u001b[1mDEBUG   \u001b[0m | \u001b[36mokx.okxclient\u001b[0m:\u001b[36m_request\u001b[0m:\u001b[36m42\u001b[0m - \u001b[34m\u001b[1mdomain: https://www.okx.com\u001b[0m\n",
      "\u001b[32m2024-12-12 11:36:57.635\u001b[0m | \u001b[34m\u001b[1mDEBUG   \u001b[0m | \u001b[36mokx.okxclient\u001b[0m:\u001b[36m_request\u001b[0m:\u001b[36m43\u001b[0m - \u001b[34m\u001b[1murl: /api/v5/account/set-position-mode\u001b[0m\n",
      "\u001b[32m2024-12-12 11:36:57.635\u001b[0m | \u001b[34m\u001b[1mDEBUG   \u001b[0m | \u001b[36mokx.okxclient\u001b[0m:\u001b[36m_request\u001b[0m:\u001b[36m44\u001b[0m - \u001b[34m\u001b[1mbody:{\"posMode\": \"net_mode\"}\u001b[0m\n"
     ]
    },
    {
     "name": "stdout",
     "output_type": "stream",
     "text": [
      "{'code': '0', 'data': [{'posMode': 'net_mode'}], 'msg': ''}\n"
     ]
    }
   ],
   "source": [
    "result = accountAPI.set_position_mode(\n",
    "    posMode=\"net_mode\"\n",
    ")\n",
    "print(result)"
   ]
  },
  {
   "cell_type": "markdown",
   "metadata": {
    "pycharm": {
     "name": "#%% md\n"
    }
   },
   "source": [
    "### Place a limit order via [Place order](https://www.okx.com/docs-v5/en/#rest-api-trade-place-order)"
   ]
  },
  {
   "cell_type": "code",
   "execution_count": 23,
   "metadata": {
    "pycharm": {
     "name": "#%%\n"
    }
   },
   "outputs": [
    {
     "name": "stderr",
     "output_type": "stream",
     "text": [
      "\u001b[32m2024-12-12 11:37:22.369\u001b[0m | \u001b[34m\u001b[1mDEBUG   \u001b[0m | \u001b[36mokx.utils\u001b[0m:\u001b[36mpre_hash\u001b[0m:\u001b[36m18\u001b[0m - \u001b[34m\u001b[1mbody: {\"instId\": \"BTC-USDT-SWAP\", \"tdMode\": \"cross\", \"side\": \"buy\", \"ordType\": \"limit\", \"sz\": \"1\", \"ccy\": \"\", \"clOrdId\": \"\", \"tag\": \"\", \"posSide\": \"net\", \"px\": \"90000\", \"reduceOnly\": \"\", \"tgtCcy\": \"\", \"tpTriggerPx\": \"\", \"tpOrdPx\": \"\", \"slTriggerPx\": \"\", \"slOrdPx\": \"\", \"tpTriggerPxType\": \"\", \"slTriggerPxType\": \"\", \"quickMgnType\": \"\", \"stpId\": \"\", \"stpMode\": \"\", \"attachAlgoOrds\": null}\u001b[0m\n",
      "\u001b[32m2024-12-12 11:37:22.370\u001b[0m | \u001b[34m\u001b[1mDEBUG   \u001b[0m | \u001b[36mokx.utils\u001b[0m:\u001b[36mget_header\u001b[0m:\u001b[36m31\u001b[0m - \u001b[34m\u001b[1mheader: {'Content-Type': 'application/json', 'OK-ACCESS-KEY': '80791c49-301a-401e-9e5a-5ec357eaacc9', 'OK-ACCESS-SIGN': b'l/JzGc4iswqnEM1d4QVgoRUy1+OsbrSdnIRfVyHfnfo=', 'OK-ACCESS-TIMESTAMP': '2024-12-12T03:37:22.369Z', 'OK-ACCESS-PASSPHRASE': 'Robin3910!', 'x-simulated-trading': '1'}\u001b[0m\n",
      "\u001b[32m2024-12-12 11:37:22.371\u001b[0m | \u001b[34m\u001b[1mDEBUG   \u001b[0m | \u001b[36mokx.okxclient\u001b[0m:\u001b[36m_request\u001b[0m:\u001b[36m42\u001b[0m - \u001b[34m\u001b[1mdomain: https://www.okx.com\u001b[0m\n",
      "\u001b[32m2024-12-12 11:37:22.371\u001b[0m | \u001b[34m\u001b[1mDEBUG   \u001b[0m | \u001b[36mokx.okxclient\u001b[0m:\u001b[36m_request\u001b[0m:\u001b[36m43\u001b[0m - \u001b[34m\u001b[1murl: /api/v5/trade/order\u001b[0m\n",
      "\u001b[32m2024-12-12 11:37:22.372\u001b[0m | \u001b[34m\u001b[1mDEBUG   \u001b[0m | \u001b[36mokx.okxclient\u001b[0m:\u001b[36m_request\u001b[0m:\u001b[36m44\u001b[0m - \u001b[34m\u001b[1mbody:{\"instId\": \"BTC-USDT-SWAP\", \"tdMode\": \"cross\", \"side\": \"buy\", \"ordType\": \"limit\", \"sz\": \"1\", \"ccy\": \"\", \"clOrdId\": \"\", \"tag\": \"\", \"posSide\": \"net\", \"px\": \"90000\", \"reduceOnly\": \"\", \"tgtCcy\": \"\", \"tpTriggerPx\": \"\", \"tpOrdPx\": \"\", \"slTriggerPx\": \"\", \"slOrdPx\": \"\", \"tpTriggerPxType\": \"\", \"slTriggerPxType\": \"\", \"quickMgnType\": \"\", \"stpId\": \"\", \"stpMode\": \"\", \"attachAlgoOrds\": null}\u001b[0m\n"
     ]
    },
    {
     "name": "stdout",
     "output_type": "stream",
     "text": [
      "{'code': '0', 'data': [{'clOrdId': '', 'ordId': '2062666191953072128', 'sCode': '0', 'sMsg': 'Order placed', 'tag': '', 'ts': '1733974642830'}], 'inTime': '1733974642829652', 'msg': '', 'outTime': '1733974642832597'}\n",
      "Successful order request，order_id =  2062666191953072128\n"
     ]
    }
   ],
   "source": [
    "# limit order\n",
    "result = tradeAPI.place_order(\n",
    "    instId=\"BTC-USDT-SWAP\",\n",
    "    tdMode=\"cross\",\n",
    "    side=\"buy\",\n",
    "    posSide=\"net\",\n",
    "    ordType=\"limit\",\n",
    "    px=\"90000\",\n",
    "    sz=\"1\"\n",
    ")\n",
    "print(result)\n",
    "\n",
    "if result[\"code\"] == \"0\":\n",
    "    print(\"Successful order request，order_id = \",result[\"data\"][0][\"ordId\"])\n",
    "else:\n",
    "    print(\"Unsuccessful order request，error_code = \",result[\"data\"][0][\"sCode\"], \", Error_message = \", result[\"data\"][0][\"sMsg\"])"
   ]
  },
  {
   "cell_type": "markdown",
   "metadata": {
    "pycharm": {
     "name": "#%% md\n"
    }
   },
   "source": [
    "### Place a market order"
   ]
  },
  {
   "cell_type": "code",
   "execution_count": 25,
   "metadata": {
    "pycharm": {
     "name": "#%%\n"
    }
   },
   "outputs": [
    {
     "name": "stderr",
     "output_type": "stream",
     "text": [
      "\u001b[32m2024-12-12 11:37:59.909\u001b[0m | \u001b[34m\u001b[1mDEBUG   \u001b[0m | \u001b[36mokx.utils\u001b[0m:\u001b[36mpre_hash\u001b[0m:\u001b[36m18\u001b[0m - \u001b[34m\u001b[1mbody: {\"instId\": \"BTC-USDT-SWAP\", \"tdMode\": \"cross\", \"side\": \"buy\", \"ordType\": \"market\", \"sz\": \"1\", \"ccy\": \"\", \"clOrdId\": \"\", \"tag\": \"\", \"posSide\": \"net\", \"px\": \"\", \"reduceOnly\": \"\", \"tgtCcy\": \"\", \"tpTriggerPx\": \"\", \"tpOrdPx\": \"\", \"slTriggerPx\": \"\", \"slOrdPx\": \"\", \"tpTriggerPxType\": \"\", \"slTriggerPxType\": \"\", \"quickMgnType\": \"\", \"stpId\": \"\", \"stpMode\": \"\", \"attachAlgoOrds\": null}\u001b[0m\n",
      "\u001b[32m2024-12-12 11:37:59.910\u001b[0m | \u001b[34m\u001b[1mDEBUG   \u001b[0m | \u001b[36mokx.utils\u001b[0m:\u001b[36mget_header\u001b[0m:\u001b[36m31\u001b[0m - \u001b[34m\u001b[1mheader: {'Content-Type': 'application/json', 'OK-ACCESS-KEY': '80791c49-301a-401e-9e5a-5ec357eaacc9', 'OK-ACCESS-SIGN': b'xX6ztx50KXBvd8F8kKztDBHYYkYPYZuIqJEgrql35w0=', 'OK-ACCESS-TIMESTAMP': '2024-12-12T03:37:59.909Z', 'OK-ACCESS-PASSPHRASE': 'Robin3910!', 'x-simulated-trading': '1'}\u001b[0m\n",
      "\u001b[32m2024-12-12 11:37:59.911\u001b[0m | \u001b[34m\u001b[1mDEBUG   \u001b[0m | \u001b[36mokx.okxclient\u001b[0m:\u001b[36m_request\u001b[0m:\u001b[36m42\u001b[0m - \u001b[34m\u001b[1mdomain: https://www.okx.com\u001b[0m\n",
      "\u001b[32m2024-12-12 11:37:59.912\u001b[0m | \u001b[34m\u001b[1mDEBUG   \u001b[0m | \u001b[36mokx.okxclient\u001b[0m:\u001b[36m_request\u001b[0m:\u001b[36m43\u001b[0m - \u001b[34m\u001b[1murl: /api/v5/trade/order\u001b[0m\n",
      "\u001b[32m2024-12-12 11:37:59.912\u001b[0m | \u001b[34m\u001b[1mDEBUG   \u001b[0m | \u001b[36mokx.okxclient\u001b[0m:\u001b[36m_request\u001b[0m:\u001b[36m44\u001b[0m - \u001b[34m\u001b[1mbody:{\"instId\": \"BTC-USDT-SWAP\", \"tdMode\": \"cross\", \"side\": \"buy\", \"ordType\": \"market\", \"sz\": \"1\", \"ccy\": \"\", \"clOrdId\": \"\", \"tag\": \"\", \"posSide\": \"net\", \"px\": \"\", \"reduceOnly\": \"\", \"tgtCcy\": \"\", \"tpTriggerPx\": \"\", \"tpOrdPx\": \"\", \"slTriggerPx\": \"\", \"slOrdPx\": \"\", \"tpTriggerPxType\": \"\", \"slTriggerPxType\": \"\", \"quickMgnType\": \"\", \"stpId\": \"\", \"stpMode\": \"\", \"attachAlgoOrds\": null}\u001b[0m\n"
     ]
    },
    {
     "name": "stdout",
     "output_type": "stream",
     "text": [
      "{'code': '0', 'data': [{'clOrdId': '', 'ordId': '2062667447224373248', 'sCode': '0', 'sMsg': 'Order placed', 'tag': '', 'ts': '1733974680240'}], 'inTime': '1733974680239316', 'msg': '', 'outTime': '1733974680242095'}\n",
      "Successful order request，order_id =  2062667447224373248\n"
     ]
    }
   ],
   "source": [
    "# market order\n",
    "result = tradeAPI.place_order(\n",
    "    instId=\"BTC-USDT-SWAP\",\n",
    "    tdMode=\"cross\",\n",
    "    side=\"buy\",\n",
    "    posSide=\"net\",\n",
    "    ordType=\"market\",\n",
    "    sz=\"1\"\n",
    ")\n",
    "print(result)\n",
    "\n",
    "if result[\"code\"] == \"0\":\n",
    "    print(\"Successful order request，order_id = \",result[\"data\"][0][\"ordId\"])\n",
    "else:\n",
    "    print(\"Unsuccessful order request，error_code = \",result[\"data\"][0][\"sCode\"], \", Error_message = \", result[\"data\"][0][\"sMsg\"])"
   ]
  },
  {
   "cell_type": "markdown",
   "metadata": {},
   "source": [
    "## Cancel an order via [Cancel order](https://www.okx.com/docs-v5/en/#rest-api-trade-cancel-order)\n",
    "You also use clOrdId in place of ordId"
   ]
  },
  {
   "cell_type": "code",
   "execution_count": null,
   "metadata": {},
   "outputs": [],
   "source": [
    "result = tradeAPI.cancel_order(instId=\"BTC-USDT-SWAP\", ordId=\"505073046126960640\")\n",
    "print(result)"
   ]
  },
  {
   "cell_type": "markdown",
   "metadata": {},
   "source": [
    "## Amend an order via [Amend order](https://www.okx.com/docs-v5/en/#rest-api-trade-amend-order)\n",
    "You also use clOrdId in place of ordId.\n",
    "This example shows the revision of a new size."
   ]
  },
  {
   "cell_type": "code",
   "execution_count": null,
   "metadata": {},
   "outputs": [],
   "source": [
    "result = tradeAPI.amend_order(\n",
    "    instId=\"BTC-USDT-SWAP\", \n",
    "    ordId=\"505073046126960640\",\n",
    "    newSz=\"80\"\n",
    ")\n",
    "print(result)"
   ]
  },
  {
   "cell_type": "markdown",
   "metadata": {},
   "source": [
    "## Get details/state of a certain order, please refer to [Get order details](https://www.okx.com/docs-v5/en/#rest-api-trade-get-order-details)\n",
    "Other than ordId, you can also specify clOrdId to get order details."
   ]
  },
  {
   "cell_type": "code",
   "execution_count": null,
   "metadata": {},
   "outputs": [],
   "source": [
    "result = tradeAPI.get_order(instId=\"BTC-USDT-SWAP\", ordId=\"505073046126960640\")\n",
    "print(result)"
   ]
  },
  {
   "cell_type": "markdown",
   "metadata": {
    "pycharm": {
     "name": "#%% md\n"
    }
   },
   "source": [
    "## To get the list of open orders, please refer to [Get order List](https://www.okx.com/docs-v5/en/#rest-api-trade-get-order-list)"
   ]
  },
  {
   "cell_type": "code",
   "execution_count": null,
   "metadata": {
    "pycharm": {
     "name": "#%%\n"
    }
   },
   "outputs": [],
   "source": [
    "result = tradeAPI.get_order_list()\n",
    "print(result)"
   ]
  },
  {
   "cell_type": "markdown",
   "metadata": {
    "pycharm": {
     "name": "#%% md\n"
    }
   },
   "source": [
    "## To get past orders，please refer to [Get order history (last 7 days)](https://www.okx.com/docs-v5/en/#rest-api-trade-get-order-history-last-7-days) and [Get order history (last 3 months)](https://www.okx.com/docs-v5/en/#rest-api-trade-get-order-history-last-3-months)"
   ]
  },
  {
   "cell_type": "code",
   "execution_count": null,
   "metadata": {
    "pycharm": {
     "name": "#%%\n"
    }
   },
   "outputs": [],
   "source": [
    "result = tradeAPI.get_orders_history(\n",
    "    instType=\"SPOT\"\n",
    ")\n",
    "print(result)"
   ]
  },
  {
   "cell_type": "code",
   "execution_count": null,
   "metadata": {
    "pycharm": {
     "name": "#%%\n"
    }
   },
   "outputs": [],
   "source": [
    "result = tradeAPI.get_orders_history_archive(\n",
    "    instType=\"SPOT\"\n",
    ")\n",
    "print(result)"
   ]
  },
  {
   "cell_type": "markdown",
   "metadata": {
    "pycharm": {
     "name": "#%% md\n"
    }
   },
   "source": [
    "## To get past trades，please refer to [Get transaction details (last 3 days)](https://www.okx.com/docs-v5/en/#rest-api-trade-get-transaction-details-last-3-days) and [Get transaction details (last 3 months)](https://www.okx.com/docs-v5/en/#rest-api-trade-get-transaction-details-last-3-months)"
   ]
  },
  {
   "cell_type": "code",
   "execution_count": null,
   "metadata": {
    "pycharm": {
     "name": "#%%\n"
    }
   },
   "outputs": [],
   "source": [
    "result = tradeAPI.get_fills(\n",
    "    instType = \"SWAP\"\n",
    ")\n",
    "print(result)"
   ]
  },
  {
   "cell_type": "code",
   "execution_count": null,
   "metadata": {
    "pycharm": {
     "name": "#%%\n"
    }
   },
   "outputs": [],
   "source": [
    "result = tradeAPI.get_fills_history(\n",
    "    instType = \"SWAP\"\n",
    ")\n",
    "print(result)"
   ]
  },
  {
   "cell_type": "markdown",
   "metadata": {},
   "source": [
    "## Get positions via [Get positions](https://www.okx.com/docs-v5/en/#rest-api-account-get-positions)\n",
    "When your account is in net mode, net positions will be displayed, and when your account is in long/short mode, long or short positions will be displayed."
   ]
  },
  {
   "cell_type": "code",
   "execution_count": 26,
   "metadata": {},
   "outputs": [
    {
     "name": "stderr",
     "output_type": "stream",
     "text": [
      "\u001b[32m2024-12-12 11:39:03.065\u001b[0m | \u001b[34m\u001b[1mDEBUG   \u001b[0m | \u001b[36mokx.utils\u001b[0m:\u001b[36mpre_hash\u001b[0m:\u001b[36m18\u001b[0m - \u001b[34m\u001b[1mbody: \u001b[0m\n",
      "\u001b[32m2024-12-12 11:39:03.067\u001b[0m | \u001b[34m\u001b[1mDEBUG   \u001b[0m | \u001b[36mokx.utils\u001b[0m:\u001b[36mget_header\u001b[0m:\u001b[36m31\u001b[0m - \u001b[34m\u001b[1mheader: {'Content-Type': 'application/json', 'OK-ACCESS-KEY': '80791c49-301a-401e-9e5a-5ec357eaacc9', 'OK-ACCESS-SIGN': b'2aatvJGhQ6gsMJDZrUEdd2OI/GoF9vM7EIlxRB5NB6g=', 'OK-ACCESS-TIMESTAMP': '2024-12-12T03:39:03.065Z', 'OK-ACCESS-PASSPHRASE': 'Robin3910!', 'x-simulated-trading': '1'}\u001b[0m\n",
      "\u001b[32m2024-12-12 11:39:03.067\u001b[0m | \u001b[34m\u001b[1mDEBUG   \u001b[0m | \u001b[36mokx.okxclient\u001b[0m:\u001b[36m_request\u001b[0m:\u001b[36m42\u001b[0m - \u001b[34m\u001b[1mdomain: https://www.okx.com\u001b[0m\n",
      "\u001b[32m2024-12-12 11:39:03.068\u001b[0m | \u001b[34m\u001b[1mDEBUG   \u001b[0m | \u001b[36mokx.okxclient\u001b[0m:\u001b[36m_request\u001b[0m:\u001b[36m43\u001b[0m - \u001b[34m\u001b[1murl: /api/v5/account/positions\u001b[0m\n",
      "\u001b[32m2024-12-12 11:39:03.068\u001b[0m | \u001b[34m\u001b[1mDEBUG   \u001b[0m | \u001b[36mokx.okxclient\u001b[0m:\u001b[36m_request\u001b[0m:\u001b[36m44\u001b[0m - \u001b[34m\u001b[1mbody:\u001b[0m\n"
     ]
    },
    {
     "name": "stdout",
     "output_type": "stream",
     "text": [
      "{'code': '0', 'data': [], 'msg': ''}\n"
     ]
    }
   ],
   "source": [
    "result = accountAPI.get_positions()\n",
    "print(result)"
   ]
  },
  {
   "cell_type": "markdown",
   "metadata": {},
   "source": [
    "For example, you can track your unrealized profit and loss through the response parameter upl."
   ]
  }
 ],
 "metadata": {
  "kernelspec": {
   "display_name": "Python 3.8.9 64-bit",
   "language": "python",
   "name": "python3"
  },
  "language_info": {
   "codemirror_mode": {
    "name": "ipython",
    "version": 3
   },
   "file_extension": ".py",
   "mimetype": "text/x-python",
   "name": "python",
   "nbconvert_exporter": "python",
   "pygments_lexer": "ipython3",
   "version": "3.9.6"
  },
  "vscode": {
   "interpreter": {
    "hash": "31f2aee4e71d21fbe5cf8b01ff0e069b9275f58929596ceb00d14d90e3e16cd6"
   }
  }
 },
 "nbformat": 4,
 "nbformat_minor": 1
}
